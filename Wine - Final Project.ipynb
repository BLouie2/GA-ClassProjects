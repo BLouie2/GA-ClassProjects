{
 "cells": [
  {
   "cell_type": "code",
   "execution_count": 30,
   "metadata": {},
   "outputs": [],
   "source": [
    "import pandas as pd\n",
    "import numpy as np\n",
    "import matplotlib.pyplot as plt\n",
    "%matplotlib inline\n",
    "import pandas_profiling as pp\n",
    "import seaborn as sns\n",
    "\n",
    "from sklearn.linear_model import LogisticRegression, LinearRegression\n",
    "from sklearn.model_selection import train_test_split, GridSearchCV\n",
    "from sklearn.metrics import accuracy_score, precision_score, classification_report\n",
    "from sklearn.pipeline import make_pipeline\n",
    "\n",
    "from sklearn.feature_extraction.text import CountVectorizer, TfidfVectorizer\n",
    "from sklearn.feature_extraction.text import ENGLISH_STOP_WORDS\n",
    "\n",
    "from textblob import TextBlob\n",
    "import spacy\n",
    "from spacy import displacy"
   ]
  },
  {
   "cell_type": "code",
   "execution_count": 31,
   "metadata": {},
   "outputs": [],
   "source": [
    "wine = pd.read_csv('winemag-data-130k-v2.csv.zip')"
   ]
  },
  {
   "cell_type": "code",
   "execution_count": 32,
   "metadata": {},
   "outputs": [
    {
     "data": {
      "text/html": [
       "<div>\n",
       "<style scoped>\n",
       "    .dataframe tbody tr th:only-of-type {\n",
       "        vertical-align: middle;\n",
       "    }\n",
       "\n",
       "    .dataframe tbody tr th {\n",
       "        vertical-align: top;\n",
       "    }\n",
       "\n",
       "    .dataframe thead th {\n",
       "        text-align: right;\n",
       "    }\n",
       "</style>\n",
       "<table border=\"1\" class=\"dataframe\">\n",
       "  <thead>\n",
       "    <tr style=\"text-align: right;\">\n",
       "      <th></th>\n",
       "      <th>Unnamed: 0</th>\n",
       "      <th>country</th>\n",
       "      <th>description</th>\n",
       "      <th>designation</th>\n",
       "      <th>points</th>\n",
       "      <th>price</th>\n",
       "      <th>province</th>\n",
       "      <th>region_1</th>\n",
       "      <th>region_2</th>\n",
       "      <th>taster_name</th>\n",
       "      <th>taster_twitter_handle</th>\n",
       "      <th>title</th>\n",
       "      <th>variety</th>\n",
       "      <th>winery</th>\n",
       "    </tr>\n",
       "  </thead>\n",
       "  <tbody>\n",
       "    <tr>\n",
       "      <th>0</th>\n",
       "      <td>0</td>\n",
       "      <td>Italy</td>\n",
       "      <td>Aromas include tropical fruit, broom, brimston...</td>\n",
       "      <td>Vulkà Bianco</td>\n",
       "      <td>87</td>\n",
       "      <td>NaN</td>\n",
       "      <td>Sicily &amp; Sardinia</td>\n",
       "      <td>Etna</td>\n",
       "      <td>NaN</td>\n",
       "      <td>Kerin O’Keefe</td>\n",
       "      <td>@kerinokeefe</td>\n",
       "      <td>Nicosia 2013 Vulkà Bianco  (Etna)</td>\n",
       "      <td>White Blend</td>\n",
       "      <td>Nicosia</td>\n",
       "    </tr>\n",
       "    <tr>\n",
       "      <th>1</th>\n",
       "      <td>1</td>\n",
       "      <td>Portugal</td>\n",
       "      <td>This is ripe and fruity, a wine that is smooth...</td>\n",
       "      <td>Avidagos</td>\n",
       "      <td>87</td>\n",
       "      <td>15.0</td>\n",
       "      <td>Douro</td>\n",
       "      <td>NaN</td>\n",
       "      <td>NaN</td>\n",
       "      <td>Roger Voss</td>\n",
       "      <td>@vossroger</td>\n",
       "      <td>Quinta dos Avidagos 2011 Avidagos Red (Douro)</td>\n",
       "      <td>Portuguese Red</td>\n",
       "      <td>Quinta dos Avidagos</td>\n",
       "    </tr>\n",
       "    <tr>\n",
       "      <th>2</th>\n",
       "      <td>2</td>\n",
       "      <td>US</td>\n",
       "      <td>Tart and snappy, the flavors of lime flesh and...</td>\n",
       "      <td>NaN</td>\n",
       "      <td>87</td>\n",
       "      <td>14.0</td>\n",
       "      <td>Oregon</td>\n",
       "      <td>Willamette Valley</td>\n",
       "      <td>Willamette Valley</td>\n",
       "      <td>Paul Gregutt</td>\n",
       "      <td>@paulgwine</td>\n",
       "      <td>Rainstorm 2013 Pinot Gris (Willamette Valley)</td>\n",
       "      <td>Pinot Gris</td>\n",
       "      <td>Rainstorm</td>\n",
       "    </tr>\n",
       "    <tr>\n",
       "      <th>3</th>\n",
       "      <td>3</td>\n",
       "      <td>US</td>\n",
       "      <td>Pineapple rind, lemon pith and orange blossom ...</td>\n",
       "      <td>Reserve Late Harvest</td>\n",
       "      <td>87</td>\n",
       "      <td>13.0</td>\n",
       "      <td>Michigan</td>\n",
       "      <td>Lake Michigan Shore</td>\n",
       "      <td>NaN</td>\n",
       "      <td>Alexander Peartree</td>\n",
       "      <td>NaN</td>\n",
       "      <td>St. Julian 2013 Reserve Late Harvest Riesling ...</td>\n",
       "      <td>Riesling</td>\n",
       "      <td>St. Julian</td>\n",
       "    </tr>\n",
       "    <tr>\n",
       "      <th>4</th>\n",
       "      <td>4</td>\n",
       "      <td>US</td>\n",
       "      <td>Much like the regular bottling from 2012, this...</td>\n",
       "      <td>Vintner's Reserve Wild Child Block</td>\n",
       "      <td>87</td>\n",
       "      <td>65.0</td>\n",
       "      <td>Oregon</td>\n",
       "      <td>Willamette Valley</td>\n",
       "      <td>Willamette Valley</td>\n",
       "      <td>Paul Gregutt</td>\n",
       "      <td>@paulgwine</td>\n",
       "      <td>Sweet Cheeks 2012 Vintner's Reserve Wild Child...</td>\n",
       "      <td>Pinot Noir</td>\n",
       "      <td>Sweet Cheeks</td>\n",
       "    </tr>\n",
       "  </tbody>\n",
       "</table>\n",
       "</div>"
      ],
      "text/plain": [
       "   Unnamed: 0   country                                        description  \\\n",
       "0           0     Italy  Aromas include tropical fruit, broom, brimston...   \n",
       "1           1  Portugal  This is ripe and fruity, a wine that is smooth...   \n",
       "2           2        US  Tart and snappy, the flavors of lime flesh and...   \n",
       "3           3        US  Pineapple rind, lemon pith and orange blossom ...   \n",
       "4           4        US  Much like the regular bottling from 2012, this...   \n",
       "\n",
       "                          designation  points  price           province  \\\n",
       "0                        Vulkà Bianco      87    NaN  Sicily & Sardinia   \n",
       "1                            Avidagos      87   15.0              Douro   \n",
       "2                                 NaN      87   14.0             Oregon   \n",
       "3                Reserve Late Harvest      87   13.0           Michigan   \n",
       "4  Vintner's Reserve Wild Child Block      87   65.0             Oregon   \n",
       "\n",
       "              region_1           region_2         taster_name  \\\n",
       "0                 Etna                NaN       Kerin O’Keefe   \n",
       "1                  NaN                NaN          Roger Voss   \n",
       "2    Willamette Valley  Willamette Valley        Paul Gregutt   \n",
       "3  Lake Michigan Shore                NaN  Alexander Peartree   \n",
       "4    Willamette Valley  Willamette Valley        Paul Gregutt   \n",
       "\n",
       "  taster_twitter_handle                                              title  \\\n",
       "0          @kerinokeefe                  Nicosia 2013 Vulkà Bianco  (Etna)   \n",
       "1            @vossroger      Quinta dos Avidagos 2011 Avidagos Red (Douro)   \n",
       "2           @paulgwine       Rainstorm 2013 Pinot Gris (Willamette Valley)   \n",
       "3                   NaN  St. Julian 2013 Reserve Late Harvest Riesling ...   \n",
       "4           @paulgwine   Sweet Cheeks 2012 Vintner's Reserve Wild Child...   \n",
       "\n",
       "          variety               winery  \n",
       "0     White Blend              Nicosia  \n",
       "1  Portuguese Red  Quinta dos Avidagos  \n",
       "2      Pinot Gris            Rainstorm  \n",
       "3        Riesling           St. Julian  \n",
       "4      Pinot Noir         Sweet Cheeks  "
      ]
     },
     "execution_count": 32,
     "metadata": {},
     "output_type": "execute_result"
    }
   ],
   "source": [
    "wine.head()"
   ]
  },
  {
   "cell_type": "code",
   "execution_count": 33,
   "metadata": {},
   "outputs": [],
   "source": [
    "wine = pd.read_csv('winemag-data-130k-v2.csv.zip', index_col=0)\n",
    "\n",
    "#removed index column from the csv file"
   ]
  },
  {
   "cell_type": "code",
   "execution_count": 34,
   "metadata": {},
   "outputs": [
    {
     "data": {
      "text/plain": [
       "(129971, 13)"
      ]
     },
     "execution_count": 34,
     "metadata": {},
     "output_type": "execute_result"
    }
   ],
   "source": [
    "wine.shape"
   ]
  },
  {
   "cell_type": "code",
   "execution_count": 35,
   "metadata": {},
   "outputs": [
    {
     "data": {
      "text/plain": [
       "9983"
      ]
     },
     "execution_count": 35,
     "metadata": {},
     "output_type": "execute_result"
    }
   ],
   "source": [
    "wine[wine.duplicated(['description','title'])].shape[0]\n",
    "#9983 descriptions are duplicates"
   ]
  },
  {
   "cell_type": "code",
   "execution_count": 36,
   "metadata": {},
   "outputs": [
    {
     "data": {
      "text/plain": [
       "(119988, 13)"
      ]
     },
     "execution_count": 36,
     "metadata": {},
     "output_type": "execute_result"
    }
   ],
   "source": [
    "wine = wine.drop_duplicates(['description','title'])\n",
    "wine.shape"
   ]
  },
  {
   "cell_type": "code",
   "execution_count": 37,
   "metadata": {},
   "outputs": [
    {
     "data": {
      "text/plain": [
       "region_2                 73219\n",
       "designation              34545\n",
       "taster_twitter_handle    29446\n",
       "taster_name              24917\n",
       "region_1                 19560\n",
       "price                     8395\n",
       "province                    59\n",
       "country                     59\n",
       "variety                      1\n",
       "winery                       0\n",
       "title                        0\n",
       "points                       0\n",
       "description                  0\n",
       "dtype: int64"
      ]
     },
     "execution_count": 37,
     "metadata": {},
     "output_type": "execute_result"
    }
   ],
   "source": [
    "wine.isnull().sum().sort_values(ascending=False)"
   ]
  },
  {
   "cell_type": "code",
   "execution_count": 38,
   "metadata": {},
   "outputs": [
    {
     "data": {
      "image/png": "[encoded data removed]",
      "text/plain": [
       "<Figure size 432x288 with 1 Axes>"
      ]
     },
     "metadata": {},
     "output_type": "display_data"
    }
   ],
   "source": [
    "wine['country'].value_counts()[:10].plot(kind='bar',rot=40)\n",
    "plt.show()\n",
    "\n",
    "#largest 10 wine producers in this dataset"
   ]
  },
  {
   "cell_type": "code",
   "execution_count": 23,
   "metadata": {},
   "outputs": [
    {
     "data": {
      "text/plain": [
       "<matplotlib.axes._subplots.AxesSubplot at 0x1a18f2e0b8>"
      ]
     },
     "execution_count": 23,
     "metadata": {},
     "output_type": "execute_result"
    },
    {
     "data": {
      "image/png": "[encoded data removed]",
      "text/plain": [
       "<Figure size 432x288 with 1 Axes>"
      ]
     },
     "metadata": {},
     "output_type": "display_data"
    }
   ],
   "source": [
    "sns.countplot(x = \"country\", data = wine)"
   ]
  },
  {
   "cell_type": "code",
   "execution_count": 45,
   "metadata": {},
   "outputs": [
    {
     "data": {
      "image/png": "[encoded data removed]",
      "text/plain": [
       "<Figure size 504x288 with 1 Axes>"
      ]
     },
     "metadata": {},
     "output_type": "display_data"
    }
   ],
   "source": [
    "wine['province'].value_counts()[:10].plot(kind='bar', rot=40,figsize=(7,4))\n",
    "plt.show()"
   ]
  },
  {
   "cell_type": "code",
   "execution_count": 46,
   "metadata": {
    "scrolled": true
   },
   "outputs": [
    {
     "data": {
      "image/png": "[encoded data removed]",
      "text/plain": [
       "<Figure size 432x288 with 1 Axes>"
      ]
     },
     "metadata": {},
     "output_type": "display_data"
    }
   ],
   "source": [
    "wine[wine['country']=='US']['province'].value_counts()[:5].plot(kind='bar',rot=30)\n",
    "plt.show()"
   ]
  },
  {
   "cell_type": "code",
   "execution_count": 48,
   "metadata": {},
   "outputs": [
    {
     "data": {
      "image/png": "[encoded data removed]",
      "text/plain": [
       "<Figure size 576x360 with 1 Axes>"
      ]
     },
     "metadata": {},
     "output_type": "display_data"
    }
   ],
   "source": [
    "wine[wine['province']=='California']['variety'].value_counts()[:10].plot(kind='bar', figsize = (8,5), rot=50)\n",
    "plt.show()"
   ]
  },
  {
   "cell_type": "code",
   "execution_count": 49,
   "metadata": {},
   "outputs": [
    {
     "data": {
      "image/png": "[encoded data removed]",
      "text/plain": [
       "<Figure size 432x288 with 1 Axes>"
      ]
     },
     "metadata": {},
     "output_type": "display_data"
    }
   ],
   "source": [
    "wine[wine['country']=='France']['province'].value_counts()[:10].plot(kind='bar',rot=50)\n",
    "plt.show()"
   ]
  },
  {
   "cell_type": "code",
   "execution_count": 50,
   "metadata": {},
   "outputs": [
    {
     "data": {
      "image/png": "[encoded data removed]",
      "text/plain": [
       "<Figure size 432x288 with 1 Axes>"
      ]
     },
     "metadata": {},
     "output_type": "display_data"
    }
   ],
   "source": [
    "wine[wine['province']=='Bordeaux']['variety'].value_counts()[:5].plot(kind='bar',rot=50)\n",
    "plt.show()"
   ]
  },
  {
   "cell_type": "code",
   "execution_count": 51,
   "metadata": {},
   "outputs": [
    {
     "data": {
      "text/plain": [
       "Pinot Noir                  12278\n",
       "Chardonnay                  10868\n",
       "Cabernet Sauvignon           8840\n",
       "Red Blend                    8243\n",
       "Bordeaux-style Red Blend     6471\n",
       "Riesling                     4773\n",
       "Sauvignon Blanc              4575\n",
       "Syrah                        3828\n",
       "Rosé                         3220\n",
       "Merlot                       2896\n",
       "Name: variety, dtype: int64"
      ]
     },
     "execution_count": 51,
     "metadata": {},
     "output_type": "execute_result"
    }
   ],
   "source": [
    "wine.variety.value_counts()[:10]"
   ]
  },
  {
   "cell_type": "code",
   "execution_count": 52,
   "metadata": {},
   "outputs": [
    {
     "data": {
      "text/plain": [
       "708"
      ]
     },
     "execution_count": 52,
     "metadata": {},
     "output_type": "execute_result"
    }
   ],
   "source": [
    "wine_variety = wine.variety.unique()\n",
    "len(wine_variety)\n",
    "\n",
    "#708 unique wine types "
   ]
  },
  {
   "cell_type": "code",
   "execution_count": 53,
   "metadata": {},
   "outputs": [
    {
     "name": "stderr",
     "output_type": "stream",
     "text": [
      "/Users/brianlouie/anaconda3/lib/python3.6/site-packages/ipykernel_launcher.py:1: UserWarning: Boolean Series key will be reindexed to match DataFrame index.\n",
      "  \"\"\"Entry point for launching an IPython kernel.\n"
     ]
    },
    {
     "data": {
      "text/plain": [
       "<matplotlib.axes._subplots.AxesSubplot at 0x1a19ac9da0>"
      ]
     },
     "execution_count": 53,
     "metadata": {},
     "output_type": "execute_result"
    },
    {
     "data": {
      "image/png": "[encoded data removed]",
      "text/plain": [
       "<Figure size 432x288 with 1 Axes>"
      ]
     },
     "metadata": {},
     "output_type": "display_data"
    }
   ],
   "source": [
    "US_pinotnoir = wine[wine['country'] == 'US'][wine['variety']== 'Pinot Noir']\n",
    "US_pinotnoir['points'].plot(kind='hist', color = 'purple')"
   ]
  },
  {
   "cell_type": "code",
   "execution_count": 54,
   "metadata": {},
   "outputs": [
    {
     "name": "stderr",
     "output_type": "stream",
     "text": [
      "/Users/brianlouie/anaconda3/lib/python3.6/site-packages/ipykernel_launcher.py:1: UserWarning: Boolean Series key will be reindexed to match DataFrame index.\n",
      "  \"\"\"Entry point for launching an IPython kernel.\n"
     ]
    },
    {
     "data": {
      "text/plain": [
       "<matplotlib.axes._subplots.AxesSubplot at 0x1a213d7ef0>"
      ]
     },
     "execution_count": 54,
     "metadata": {},
     "output_type": "execute_result"
    },
    {
     "data": {
      "image/png": "[encoded data removed]",
      "text/plain": [
       "<Figure size 432x288 with 1 Axes>"
      ]
     },
     "metadata": {},
     "output_type": "display_data"
    }
   ],
   "source": [
    "Fra_pinotnoir = wine[wine['country'] == 'France'][wine['variety']== 'Bordeaux-style Red Blend']\n",
    "Fra_pinotnoir['points'].plot(kind='hist')"
   ]
  },
  {
   "cell_type": "code",
   "execution_count": 21,
   "metadata": {},
   "outputs": [
    {
     "name": "stderr",
     "output_type": "stream",
     "text": [
      "/Users/brianlouie/anaconda3/lib/python3.6/site-packages/ipykernel_launcher.py:1: UserWarning: Boolean Series key will be reindexed to match DataFrame index.\n",
      "  \"\"\"Entry point for launching an IPython kernel.\n",
      "/Users/brianlouie/anaconda3/lib/python3.6/site-packages/ipykernel_launcher.py:2: UserWarning: Boolean Series key will be reindexed to match DataFrame index.\n",
      "  \n"
     ]
    }
   ],
   "source": [
    "ita_pinotnoir = wine[wine['country'] == 'Italy'][wine['variety']== 'Pinot Noir']\n",
    "esp_pinotnoir = wine[wine['country'] == 'Spain'][wine['variety']== 'Pinot Noir']"
   ]
  },
  {
   "cell_type": "code",
   "execution_count": 22,
   "metadata": {},
   "outputs": [
    {
     "data": {
      "text/plain": [
       "Text(0.5,1,'France Pinot Noir Wine Mag rankings')"
      ]
     },
     "execution_count": 22,
     "metadata": {},
     "output_type": "execute_result"
    },
    {
     "data": {
      "image/png": "[encoded data removed]",
      "text/plain": [
       "<Figure size 864x288 with 2 Axes>"
      ]
     },
     "metadata": {},
     "output_type": "display_data"
    }
   ],
   "source": [
    "plt.figure(figsize = (12, 4))\n",
    "\n",
    "plt.subplot(1,2,1)\n",
    "plt.hist(US_pinotnoir['points'])\n",
    "plt.title('US Pinot Noit Wine Mag rankings')\n",
    "\n",
    "plt.subplot(1,2,2)\n",
    "plt.hist(Fra_pinotnoir['points'], color = 'orange')\n",
    "plt.title('France Pinot Noir Wine Mag rankings')\n"
   ]
  },
  {
   "cell_type": "code",
   "execution_count": 23,
   "metadata": {},
   "outputs": [
    {
     "data": {
      "image/png": "[encoded data removed]",
      "text/plain": [
       "<Figure size 432x288 with 4 Axes>"
      ]
     },
     "metadata": {},
     "output_type": "display_data"
    }
   ],
   "source": [
    "fig, axes = plt.subplots(nrows=2, ncols=2)\n",
    "\n",
    "\n",
    "plt.subplot(2,2,1)\n",
    "us_rating = wine[wine['country']== 'US']['points']\n",
    "plt.hist(us_rating)\n",
    "\n",
    "plt.subplot(2,2,2)\n",
    "ita_rating = wine[wine['country']== 'Italy']['points']\n",
    "plt.hist(ita_rating, color='aqua')\n",
    "\n",
    "plt.subplot(2,2,3)\n",
    "esp_rating = wine[wine['country']== 'Spain']['points']\n",
    "plt.hist(esp_rating, color='red')\n",
    "\n",
    "plt.subplot(2,2,4)\n",
    "fra_rating = wine[wine['country']== 'France']['points']\n",
    "plt.hist(fra_rating, color='orange')\n",
    "\n",
    "plt.show()"
   ]
  },
  {
   "cell_type": "code",
   "execution_count": 55,
   "metadata": {},
   "outputs": [
    {
     "data": {
      "text/plain": [
       "count    119988.000000\n",
       "mean         88.442236\n",
       "std           3.092915\n",
       "min          80.000000\n",
       "25%          86.000000\n",
       "50%          88.000000\n",
       "75%          91.000000\n",
       "max         100.000000\n",
       "Name: points, dtype: float64"
      ]
     },
     "execution_count": 55,
     "metadata": {},
     "output_type": "execute_result"
    }
   ],
   "source": [
    "wine.points.describe()"
   ]
  },
  {
   "cell_type": "code",
   "execution_count": 56,
   "metadata": {},
   "outputs": [
    {
     "data": {
      "text/plain": [
       "(56737, 13)"
      ]
     },
     "execution_count": 56,
     "metadata": {},
     "output_type": "execute_result"
    }
   ],
   "source": [
    "wine[wine['points'] > 88.5].shape"
   ]
  },
  {
   "cell_type": "code",
   "execution_count": 57,
   "metadata": {},
   "outputs": [
    {
     "data": {
      "text/plain": [
       "(63251, 13)"
      ]
     },
     "execution_count": 57,
     "metadata": {},
     "output_type": "execute_result"
    }
   ],
   "source": [
    "wine[wine['points'] < 88.5].shape"
   ]
  },
  {
   "cell_type": "code",
   "execution_count": 58,
   "metadata": {},
   "outputs": [
    {
     "data": {
      "text/plain": [
       "19"
      ]
     },
     "execution_count": 58,
     "metadata": {},
     "output_type": "execute_result"
    }
   ],
   "source": [
    "tasters = wine['taster_name'].value_counts()\n",
    "len(tasters)"
   ]
  },
  {
   "cell_type": "code",
   "execution_count": 59,
   "metadata": {},
   "outputs": [
    {
     "data": {
      "image/png": "[encoded data removed]",
      "text/plain": [
       "<Figure size 432x288 with 1 Axes>"
      ]
     },
     "metadata": {},
     "output_type": "display_data"
    }
   ],
   "source": [
    "tasters.plot(kind='barh')\n",
    "plt.show()"
   ]
  },
  {
   "cell_type": "code",
   "execution_count": 64,
   "metadata": {},
   "outputs": [
    {
     "data": {
      "image/png": "[encoded data removed]",
      "text/plain": [
       "<Figure size 720x432 with 1 Axes>"
      ]
     },
     "metadata": {},
     "output_type": "display_data"
    }
   ],
   "source": [
    "plt.figure(figsize=(10,6))\n",
    "from numpy import median\n",
    "ax = sns.barplot(x = 'taster_name', y='points', data=wine , estimator=median)\n",
    " \n",
    "for item in ax.get_xticklabels():\n",
    "    item.set_rotation(40)"
   ]
  },
  {
   "cell_type": "code",
   "execution_count": 65,
   "metadata": {},
   "outputs": [
    {
     "data": {
      "text/plain": [
       "taster_name\n",
       "Alexander Peartree    85.780679\n",
       "Anna Lee C. Iijima    88.416480\n",
       "Anne Krebiehl MW      90.625228\n",
       "Carrie Dykes          86.356589\n",
       "Christina Pickard     87.833333\n",
       "Fiona Adams           86.750000\n",
       "Jeff Jenssen          88.330275\n",
       "Jim Gordon            88.603558\n",
       "Joe Czerwinski        88.524339\n",
       "Kerin O’Keefe         88.897803\n",
       "Lauren Buzzeo         87.692941\n",
       "Matt Kettmann         90.061431\n",
       "Michael Schachner     86.857112\n",
       "Mike DeSimone         89.125813\n",
       "Paul Gregutt          89.094159\n",
       "Roger Voss            88.733107\n",
       "Sean P. Sullivan      88.754988\n",
       "Susan Kostrzewa       86.575758\n",
       "Virginie Boone        89.220946\n",
       "Name: points, dtype: float64"
      ]
     },
     "execution_count": 65,
     "metadata": {},
     "output_type": "execute_result"
    }
   ],
   "source": [
    "wine.groupby(['taster_name'])['points'].mean()"
   ]
  },
  {
   "cell_type": "code",
   "execution_count": 66,
   "metadata": {},
   "outputs": [],
   "source": [
    "wine['variety'].fillna(value = 'Unknown', inplace=True)"
   ]
  },
  {
   "cell_type": "code",
   "execution_count": 67,
   "metadata": {},
   "outputs": [
    {
     "data": {
      "text/plain": [
       "False    119988\n",
       "Name: variety, dtype: int64"
      ]
     },
     "execution_count": 67,
     "metadata": {},
     "output_type": "execute_result"
    }
   ],
   "source": [
    "wine['variety'].isnull().value_counts()"
   ]
  },
  {
   "cell_type": "code",
   "execution_count": 68,
   "metadata": {},
   "outputs": [
    {
     "ename": "ValueError",
     "evalue": "cannot index with vector containing NA / NaN values",
     "output_type": "error",
     "traceback": [
      "\u001b[0;31m---------------------------------------------------------------------------\u001b[0m",
      "\u001b[0;31mValueError\u001b[0m                                Traceback (most recent call last)",
      "\u001b[0;32m<ipython-input-68-1275e58e4650>\u001b[0m in \u001b[0;36m<module>\u001b[0;34m()\u001b[0m\n\u001b[0;32m----> 1\u001b[0;31m \u001b[0mwine\u001b[0m\u001b[0;34m[\u001b[0m\u001b[0mwine\u001b[0m\u001b[0;34m[\u001b[0m\u001b[0;34m'country'\u001b[0m\u001b[0;34m]\u001b[0m\u001b[0;34m]\u001b[0m\u001b[0;34m[\u001b[0m\u001b[0;34m'variety'\u001b[0m\u001b[0;34m]\u001b[0m\u001b[0;34m.\u001b[0m\u001b[0msum\u001b[0m\u001b[0;34m(\u001b[0m\u001b[0;34m)\u001b[0m\u001b[0;34m\u001b[0m\u001b[0m\n\u001b[0m",
      "\u001b[0;32m~/anaconda3/lib/python3.6/site-packages/pandas/core/frame.py\u001b[0m in \u001b[0;36m__getitem__\u001b[0;34m(self, key)\u001b[0m\n\u001b[1;32m   2677\u001b[0m         \u001b[0;32mif\u001b[0m \u001b[0misinstance\u001b[0m\u001b[0;34m(\u001b[0m\u001b[0mkey\u001b[0m\u001b[0;34m,\u001b[0m \u001b[0;34m(\u001b[0m\u001b[0mSeries\u001b[0m\u001b[0;34m,\u001b[0m \u001b[0mnp\u001b[0m\u001b[0;34m.\u001b[0m\u001b[0mndarray\u001b[0m\u001b[0;34m,\u001b[0m \u001b[0mIndex\u001b[0m\u001b[0;34m,\u001b[0m \u001b[0mlist\u001b[0m\u001b[0;34m)\u001b[0m\u001b[0;34m)\u001b[0m\u001b[0;34m:\u001b[0m\u001b[0;34m\u001b[0m\u001b[0m\n\u001b[1;32m   2678\u001b[0m             \u001b[0;31m# either boolean or fancy integer index\u001b[0m\u001b[0;34m\u001b[0m\u001b[0;34m\u001b[0m\u001b[0m\n\u001b[0;32m-> 2679\u001b[0;31m             \u001b[0;32mreturn\u001b[0m \u001b[0mself\u001b[0m\u001b[0;34m.\u001b[0m\u001b[0m_getitem_array\u001b[0m\u001b[0;34m(\u001b[0m\u001b[0mkey\u001b[0m\u001b[0;34m)\u001b[0m\u001b[0;34m\u001b[0m\u001b[0m\n\u001b[0m\u001b[1;32m   2680\u001b[0m         \u001b[0;32melif\u001b[0m \u001b[0misinstance\u001b[0m\u001b[0;34m(\u001b[0m\u001b[0mkey\u001b[0m\u001b[0;34m,\u001b[0m \u001b[0mDataFrame\u001b[0m\u001b[0;34m)\u001b[0m\u001b[0;34m:\u001b[0m\u001b[0;34m\u001b[0m\u001b[0m\n\u001b[1;32m   2681\u001b[0m             \u001b[0;32mreturn\u001b[0m \u001b[0mself\u001b[0m\u001b[0;34m.\u001b[0m\u001b[0m_getitem_frame\u001b[0m\u001b[0;34m(\u001b[0m\u001b[0mkey\u001b[0m\u001b[0;34m)\u001b[0m\u001b[0;34m\u001b[0m\u001b[0m\n",
      "\u001b[0;32m~/anaconda3/lib/python3.6/site-packages/pandas/core/frame.py\u001b[0m in \u001b[0;36m_getitem_array\u001b[0;34m(self, key)\u001b[0m\n\u001b[1;32m   2704\u001b[0m     \u001b[0;32mdef\u001b[0m \u001b[0m_getitem_array\u001b[0m\u001b[0;34m(\u001b[0m\u001b[0mself\u001b[0m\u001b[0;34m,\u001b[0m \u001b[0mkey\u001b[0m\u001b[0;34m)\u001b[0m\u001b[0;34m:\u001b[0m\u001b[0;34m\u001b[0m\u001b[0m\n\u001b[1;32m   2705\u001b[0m         \u001b[0;31m# also raises Exception if object array with NA values\u001b[0m\u001b[0;34m\u001b[0m\u001b[0;34m\u001b[0m\u001b[0m\n\u001b[0;32m-> 2706\u001b[0;31m         \u001b[0;32mif\u001b[0m \u001b[0mcom\u001b[0m\u001b[0;34m.\u001b[0m\u001b[0mis_bool_indexer\u001b[0m\u001b[0;34m(\u001b[0m\u001b[0mkey\u001b[0m\u001b[0;34m)\u001b[0m\u001b[0;34m:\u001b[0m\u001b[0;34m\u001b[0m\u001b[0m\n\u001b[0m\u001b[1;32m   2707\u001b[0m             \u001b[0;31m# warning here just in case -- previously __setitem__ was\u001b[0m\u001b[0;34m\u001b[0m\u001b[0;34m\u001b[0m\u001b[0m\n\u001b[1;32m   2708\u001b[0m             \u001b[0;31m# reindexing but __getitem__ was not; it seems more reasonable to\u001b[0m\u001b[0;34m\u001b[0m\u001b[0;34m\u001b[0m\u001b[0m\n",
      "\u001b[0;32m~/anaconda3/lib/python3.6/site-packages/pandas/core/common.py\u001b[0m in \u001b[0;36mis_bool_indexer\u001b[0;34m(key)\u001b[0m\n\u001b[1;32m    102\u001b[0m             \u001b[0;32mif\u001b[0m \u001b[0;32mnot\u001b[0m \u001b[0mlib\u001b[0m\u001b[0;34m.\u001b[0m\u001b[0mis_bool_array\u001b[0m\u001b[0;34m(\u001b[0m\u001b[0mkey\u001b[0m\u001b[0;34m)\u001b[0m\u001b[0;34m:\u001b[0m\u001b[0;34m\u001b[0m\u001b[0m\n\u001b[1;32m    103\u001b[0m                 \u001b[0;32mif\u001b[0m \u001b[0misna\u001b[0m\u001b[0;34m(\u001b[0m\u001b[0mkey\u001b[0m\u001b[0;34m)\u001b[0m\u001b[0;34m.\u001b[0m\u001b[0many\u001b[0m\u001b[0;34m(\u001b[0m\u001b[0;34m)\u001b[0m\u001b[0;34m:\u001b[0m\u001b[0;34m\u001b[0m\u001b[0m\n\u001b[0;32m--> 104\u001b[0;31m                     raise ValueError('cannot index with vector containing '\n\u001b[0m\u001b[1;32m    105\u001b[0m                                      'NA / NaN values')\n\u001b[1;32m    106\u001b[0m                 \u001b[0;32mreturn\u001b[0m \u001b[0;32mFalse\u001b[0m\u001b[0;34m\u001b[0m\u001b[0m\n",
      "\u001b[0;31mValueError\u001b[0m: cannot index with vector containing NA / NaN values"
     ]
    }
   ],
   "source": [
    "wine[wine['country']]['variety'].sum()"
   ]
  },
  {
   "cell_type": "code",
   "execution_count": 69,
   "metadata": {},
   "outputs": [
    {
     "data": {
      "text/plain": [
       "False    119929\n",
       "True         59\n",
       "Name: country, dtype: int64"
      ]
     },
     "execution_count": 69,
     "metadata": {},
     "output_type": "execute_result"
    }
   ],
   "source": [
    "wine['country'].isnull().value_counts()"
   ]
  },
  {
   "cell_type": "code",
   "execution_count": 70,
   "metadata": {},
   "outputs": [
    {
     "data": {
      "text/plain": [
       "False    119988\n",
       "Name: country, dtype: int64"
      ]
     },
     "execution_count": 70,
     "metadata": {},
     "output_type": "execute_result"
    }
   ],
   "source": [
    "wine['country'].fillna(value = 'Unknown', inplace=True)\n",
    "wine['country'].isnull().value_counts()"
   ]
  },
  {
   "cell_type": "code",
   "execution_count": 71,
   "metadata": {},
   "outputs": [
    {
     "data": {
      "text/plain": [
       "<matplotlib.axes._subplots.AxesSubplot at 0x1a1afe5748>"
      ]
     },
     "execution_count": 71,
     "metadata": {},
     "output_type": "execute_result"
    },
    {
     "data": {
      "image/png": "[encoded data removed]",
      "text/plain": [
       "<Figure size 432x288 with 1 Axes>"
      ]
     },
     "metadata": {},
     "output_type": "display_data"
    }
   ],
   "source": [
    "country_variety = wine.groupby('country')['variety'].size()\n",
    "country_variety\n",
    "country_variety.sort_values(ascending = False)[:10].plot.bar()\n",
    "\n"
   ]
  },
  {
   "cell_type": "code",
   "execution_count": 77,
   "metadata": {},
   "outputs": [
    {
     "data": {
      "text/html": [
       "<div>\n",
       "<style scoped>\n",
       "    .dataframe tbody tr th:only-of-type {\n",
       "        vertical-align: middle;\n",
       "    }\n",
       "\n",
       "    .dataframe tbody tr th {\n",
       "        vertical-align: top;\n",
       "    }\n",
       "\n",
       "    .dataframe thead th {\n",
       "        text-align: right;\n",
       "    }\n",
       "</style>\n",
       "<table border=\"1\" class=\"dataframe\">\n",
       "  <thead>\n",
       "    <tr style=\"text-align: right;\">\n",
       "      <th></th>\n",
       "      <th>country</th>\n",
       "      <th>description</th>\n",
       "      <th>designation</th>\n",
       "      <th>points</th>\n",
       "      <th>price</th>\n",
       "      <th>province</th>\n",
       "      <th>region_1</th>\n",
       "      <th>region_2</th>\n",
       "      <th>taster_name</th>\n",
       "      <th>taster_twitter_handle</th>\n",
       "      <th>title</th>\n",
       "      <th>variety</th>\n",
       "      <th>winery</th>\n",
       "    </tr>\n",
       "  </thead>\n",
       "  <tbody>\n",
       "    <tr>\n",
       "      <th>0</th>\n",
       "      <td>Italy</td>\n",
       "      <td>Aromas include tropical fruit, broom, brimston...</td>\n",
       "      <td>Vulkà Bianco</td>\n",
       "      <td>87</td>\n",
       "      <td>NaN</td>\n",
       "      <td>Sicily &amp; Sardinia</td>\n",
       "      <td>Etna</td>\n",
       "      <td>NaN</td>\n",
       "      <td>Kerin O’Keefe</td>\n",
       "      <td>@kerinokeefe</td>\n",
       "      <td>Nicosia 2013 Vulkà Bianco  (Etna)</td>\n",
       "      <td>White Blend</td>\n",
       "      <td>Nicosia</td>\n",
       "    </tr>\n",
       "    <tr>\n",
       "      <th>1</th>\n",
       "      <td>Portugal</td>\n",
       "      <td>This is ripe and fruity, a wine that is smooth...</td>\n",
       "      <td>Avidagos</td>\n",
       "      <td>87</td>\n",
       "      <td>15.0</td>\n",
       "      <td>Douro</td>\n",
       "      <td>NaN</td>\n",
       "      <td>NaN</td>\n",
       "      <td>Roger Voss</td>\n",
       "      <td>@vossroger</td>\n",
       "      <td>Quinta dos Avidagos 2011 Avidagos Red (Douro)</td>\n",
       "      <td>Portuguese Red</td>\n",
       "      <td>Quinta dos Avidagos</td>\n",
       "    </tr>\n",
       "    <tr>\n",
       "      <th>3</th>\n",
       "      <td>US</td>\n",
       "      <td>Pineapple rind, lemon pith and orange blossom ...</td>\n",
       "      <td>Reserve Late Harvest</td>\n",
       "      <td>87</td>\n",
       "      <td>13.0</td>\n",
       "      <td>Michigan</td>\n",
       "      <td>Lake Michigan Shore</td>\n",
       "      <td>NaN</td>\n",
       "      <td>Alexander Peartree</td>\n",
       "      <td>NaN</td>\n",
       "      <td>St. Julian 2013 Reserve Late Harvest Riesling ...</td>\n",
       "      <td>Riesling</td>\n",
       "      <td>St. Julian</td>\n",
       "    </tr>\n",
       "    <tr>\n",
       "      <th>5</th>\n",
       "      <td>Spain</td>\n",
       "      <td>Blackberry and raspberry aromas show a typical...</td>\n",
       "      <td>Ars In Vitro</td>\n",
       "      <td>87</td>\n",
       "      <td>15.0</td>\n",
       "      <td>Northern Spain</td>\n",
       "      <td>Navarra</td>\n",
       "      <td>NaN</td>\n",
       "      <td>Michael Schachner</td>\n",
       "      <td>@wineschach</td>\n",
       "      <td>Tandem 2011 Ars In Vitro Tempranillo-Merlot (N...</td>\n",
       "      <td>Tempranillo-Merlot</td>\n",
       "      <td>Tandem</td>\n",
       "    </tr>\n",
       "    <tr>\n",
       "      <th>6</th>\n",
       "      <td>Italy</td>\n",
       "      <td>Here's a bright, informal red that opens with ...</td>\n",
       "      <td>Belsito</td>\n",
       "      <td>87</td>\n",
       "      <td>16.0</td>\n",
       "      <td>Sicily &amp; Sardinia</td>\n",
       "      <td>Vittoria</td>\n",
       "      <td>NaN</td>\n",
       "      <td>Kerin O’Keefe</td>\n",
       "      <td>@kerinokeefe</td>\n",
       "      <td>Terre di Giurfo 2013 Belsito Frappato (Vittoria)</td>\n",
       "      <td>Frappato</td>\n",
       "      <td>Terre di Giurfo</td>\n",
       "    </tr>\n",
       "    <tr>\n",
       "      <th>7</th>\n",
       "      <td>France</td>\n",
       "      <td>This dry and restrained wine offers spice in p...</td>\n",
       "      <td>NaN</td>\n",
       "      <td>87</td>\n",
       "      <td>24.0</td>\n",
       "      <td>Alsace</td>\n",
       "      <td>Alsace</td>\n",
       "      <td>NaN</td>\n",
       "      <td>Roger Voss</td>\n",
       "      <td>@vossroger</td>\n",
       "      <td>Trimbach 2012 Gewurztraminer (Alsace)</td>\n",
       "      <td>Gewürztraminer</td>\n",
       "      <td>Trimbach</td>\n",
       "    </tr>\n",
       "    <tr>\n",
       "      <th>8</th>\n",
       "      <td>Germany</td>\n",
       "      <td>Savory dried thyme notes accent sunnier flavor...</td>\n",
       "      <td>Shine</td>\n",
       "      <td>87</td>\n",
       "      <td>12.0</td>\n",
       "      <td>Rheinhessen</td>\n",
       "      <td>NaN</td>\n",
       "      <td>NaN</td>\n",
       "      <td>Anna Lee C. Iijima</td>\n",
       "      <td>NaN</td>\n",
       "      <td>Heinz Eifel 2013 Shine Gewürztraminer (Rheinhe...</td>\n",
       "      <td>Gewürztraminer</td>\n",
       "      <td>Heinz Eifel</td>\n",
       "    </tr>\n",
       "    <tr>\n",
       "      <th>9</th>\n",
       "      <td>France</td>\n",
       "      <td>This has great depth of flavor with its fresh ...</td>\n",
       "      <td>Les Natures</td>\n",
       "      <td>87</td>\n",
       "      <td>27.0</td>\n",
       "      <td>Alsace</td>\n",
       "      <td>Alsace</td>\n",
       "      <td>NaN</td>\n",
       "      <td>Roger Voss</td>\n",
       "      <td>@vossroger</td>\n",
       "      <td>Jean-Baptiste Adam 2012 Les Natures Pinot Gris...</td>\n",
       "      <td>Pinot Gris</td>\n",
       "      <td>Jean-Baptiste Adam</td>\n",
       "    </tr>\n",
       "    <tr>\n",
       "      <th>10</th>\n",
       "      <td>US</td>\n",
       "      <td>Soft, supple plum envelopes an oaky structure ...</td>\n",
       "      <td>Mountain Cuvée</td>\n",
       "      <td>87</td>\n",
       "      <td>19.0</td>\n",
       "      <td>California</td>\n",
       "      <td>Napa Valley</td>\n",
       "      <td>Napa</td>\n",
       "      <td>Virginie Boone</td>\n",
       "      <td>@vboone</td>\n",
       "      <td>Kirkland Signature 2011 Mountain Cuvée Caberne...</td>\n",
       "      <td>Cabernet Sauvignon</td>\n",
       "      <td>Kirkland Signature</td>\n",
       "    </tr>\n",
       "    <tr>\n",
       "      <th>11</th>\n",
       "      <td>France</td>\n",
       "      <td>This is a dry wine, very spicy, with a tight, ...</td>\n",
       "      <td>NaN</td>\n",
       "      <td>87</td>\n",
       "      <td>30.0</td>\n",
       "      <td>Alsace</td>\n",
       "      <td>Alsace</td>\n",
       "      <td>NaN</td>\n",
       "      <td>Roger Voss</td>\n",
       "      <td>@vossroger</td>\n",
       "      <td>Leon Beyer 2012 Gewurztraminer (Alsace)</td>\n",
       "      <td>Gewürztraminer</td>\n",
       "      <td>Leon Beyer</td>\n",
       "    </tr>\n",
       "    <tr>\n",
       "      <th>12</th>\n",
       "      <td>US</td>\n",
       "      <td>Slightly reduced, this wine offers a chalky, t...</td>\n",
       "      <td>NaN</td>\n",
       "      <td>87</td>\n",
       "      <td>34.0</td>\n",
       "      <td>California</td>\n",
       "      <td>Alexander Valley</td>\n",
       "      <td>Sonoma</td>\n",
       "      <td>Virginie Boone</td>\n",
       "      <td>@vboone</td>\n",
       "      <td>Louis M. Martini 2012 Cabernet Sauvignon (Alex...</td>\n",
       "      <td>Cabernet Sauvignon</td>\n",
       "      <td>Louis M. Martini</td>\n",
       "    </tr>\n",
       "    <tr>\n",
       "      <th>13</th>\n",
       "      <td>Italy</td>\n",
       "      <td>This is dominated by oak and oak-driven aromas...</td>\n",
       "      <td>Rosso</td>\n",
       "      <td>87</td>\n",
       "      <td>NaN</td>\n",
       "      <td>Sicily &amp; Sardinia</td>\n",
       "      <td>Etna</td>\n",
       "      <td>NaN</td>\n",
       "      <td>Kerin O’Keefe</td>\n",
       "      <td>@kerinokeefe</td>\n",
       "      <td>Masseria Setteporte 2012 Rosso  (Etna)</td>\n",
       "      <td>Nerello Mascalese</td>\n",
       "      <td>Masseria Setteporte</td>\n",
       "    </tr>\n",
       "    <tr>\n",
       "      <th>15</th>\n",
       "      <td>Germany</td>\n",
       "      <td>Zesty orange peels and apple notes abound in t...</td>\n",
       "      <td>Devon</td>\n",
       "      <td>87</td>\n",
       "      <td>24.0</td>\n",
       "      <td>Mosel</td>\n",
       "      <td>NaN</td>\n",
       "      <td>NaN</td>\n",
       "      <td>Anna Lee C. Iijima</td>\n",
       "      <td>NaN</td>\n",
       "      <td>Richard Böcking 2013 Devon Riesling (Mosel)</td>\n",
       "      <td>Riesling</td>\n",
       "      <td>Richard Böcking</td>\n",
       "    </tr>\n",
       "    <tr>\n",
       "      <th>16</th>\n",
       "      <td>Argentina</td>\n",
       "      <td>Baked plum, molasses, balsamic vinegar and che...</td>\n",
       "      <td>Felix</td>\n",
       "      <td>87</td>\n",
       "      <td>30.0</td>\n",
       "      <td>Other</td>\n",
       "      <td>Cafayate</td>\n",
       "      <td>NaN</td>\n",
       "      <td>Michael Schachner</td>\n",
       "      <td>@wineschach</td>\n",
       "      <td>Felix Lavaque 2010 Felix Malbec (Cafayate)</td>\n",
       "      <td>Malbec</td>\n",
       "      <td>Felix Lavaque</td>\n",
       "    </tr>\n",
       "    <tr>\n",
       "      <th>17</th>\n",
       "      <td>Argentina</td>\n",
       "      <td>Raw black-cherry aromas are direct and simple ...</td>\n",
       "      <td>Winemaker Selection</td>\n",
       "      <td>87</td>\n",
       "      <td>13.0</td>\n",
       "      <td>Mendoza Province</td>\n",
       "      <td>Mendoza</td>\n",
       "      <td>NaN</td>\n",
       "      <td>Michael Schachner</td>\n",
       "      <td>@wineschach</td>\n",
       "      <td>Gaucho Andino 2011 Winemaker Selection Malbec ...</td>\n",
       "      <td>Malbec</td>\n",
       "      <td>Gaucho Andino</td>\n",
       "    </tr>\n",
       "    <tr>\n",
       "      <th>18</th>\n",
       "      <td>Spain</td>\n",
       "      <td>Desiccated blackberry, leather, charred wood a...</td>\n",
       "      <td>Vendimia Seleccionada Finca Valdelayegua Singl...</td>\n",
       "      <td>87</td>\n",
       "      <td>28.0</td>\n",
       "      <td>Northern Spain</td>\n",
       "      <td>Ribera del Duero</td>\n",
       "      <td>NaN</td>\n",
       "      <td>Michael Schachner</td>\n",
       "      <td>@wineschach</td>\n",
       "      <td>Pradorey 2010 Vendimia Seleccionada Finca Vald...</td>\n",
       "      <td>Tempranillo Blend</td>\n",
       "      <td>Pradorey</td>\n",
       "    </tr>\n",
       "    <tr>\n",
       "      <th>19</th>\n",
       "      <td>US</td>\n",
       "      <td>Red fruit aromas pervade on the nose, with cig...</td>\n",
       "      <td>NaN</td>\n",
       "      <td>87</td>\n",
       "      <td>32.0</td>\n",
       "      <td>Virginia</td>\n",
       "      <td>Virginia</td>\n",
       "      <td>NaN</td>\n",
       "      <td>Alexander Peartree</td>\n",
       "      <td>NaN</td>\n",
       "      <td>Quiévremont 2012 Meritage (Virginia)</td>\n",
       "      <td>Meritage</td>\n",
       "      <td>Quiévremont</td>\n",
       "    </tr>\n",
       "    <tr>\n",
       "      <th>20</th>\n",
       "      <td>US</td>\n",
       "      <td>Ripe aromas of dark berries mingle with ample ...</td>\n",
       "      <td>Vin de Maison</td>\n",
       "      <td>87</td>\n",
       "      <td>23.0</td>\n",
       "      <td>Virginia</td>\n",
       "      <td>Virginia</td>\n",
       "      <td>NaN</td>\n",
       "      <td>Alexander Peartree</td>\n",
       "      <td>NaN</td>\n",
       "      <td>Quiévremont 2012 Vin de Maison Red (Virginia)</td>\n",
       "      <td>Red Blend</td>\n",
       "      <td>Quiévremont</td>\n",
       "    </tr>\n",
       "    <tr>\n",
       "      <th>21</th>\n",
       "      <td>US</td>\n",
       "      <td>A sleek mix of tart berry, stem and herb, alon...</td>\n",
       "      <td>NaN</td>\n",
       "      <td>87</td>\n",
       "      <td>20.0</td>\n",
       "      <td>Oregon</td>\n",
       "      <td>Oregon</td>\n",
       "      <td>Oregon Other</td>\n",
       "      <td>Paul Gregutt</td>\n",
       "      <td>@paulgwine</td>\n",
       "      <td>Acrobat 2013 Pinot Noir (Oregon)</td>\n",
       "      <td>Pinot Noir</td>\n",
       "      <td>Acrobat</td>\n",
       "    </tr>\n",
       "    <tr>\n",
       "      <th>22</th>\n",
       "      <td>Italy</td>\n",
       "      <td>Delicate aromas recall white flower and citrus...</td>\n",
       "      <td>Ficiligno</td>\n",
       "      <td>87</td>\n",
       "      <td>19.0</td>\n",
       "      <td>Sicily &amp; Sardinia</td>\n",
       "      <td>Sicilia</td>\n",
       "      <td>NaN</td>\n",
       "      <td>Kerin O’Keefe</td>\n",
       "      <td>@kerinokeefe</td>\n",
       "      <td>Baglio di Pianetto 2007 Ficiligno White (Sicilia)</td>\n",
       "      <td>White Blend</td>\n",
       "      <td>Baglio di Pianetto</td>\n",
       "    </tr>\n",
       "    <tr>\n",
       "      <th>23</th>\n",
       "      <td>US</td>\n",
       "      <td>This wine from the Geneseo district offers aro...</td>\n",
       "      <td>Signature Selection</td>\n",
       "      <td>87</td>\n",
       "      <td>22.0</td>\n",
       "      <td>California</td>\n",
       "      <td>Paso Robles</td>\n",
       "      <td>Central Coast</td>\n",
       "      <td>Matt Kettmann</td>\n",
       "      <td>@mattkettmann</td>\n",
       "      <td>Bianchi 2011 Signature Selection Merlot (Paso ...</td>\n",
       "      <td>Merlot</td>\n",
       "      <td>Bianchi</td>\n",
       "    </tr>\n",
       "    <tr>\n",
       "      <th>24</th>\n",
       "      <td>Italy</td>\n",
       "      <td>Aromas of prune, blackcurrant, toast and oak c...</td>\n",
       "      <td>Aynat</td>\n",
       "      <td>87</td>\n",
       "      <td>35.0</td>\n",
       "      <td>Sicily &amp; Sardinia</td>\n",
       "      <td>Sicilia</td>\n",
       "      <td>NaN</td>\n",
       "      <td>Kerin O’Keefe</td>\n",
       "      <td>@kerinokeefe</td>\n",
       "      <td>Canicattì 2009 Aynat Nero d'Avola (Sicilia)</td>\n",
       "      <td>Nero d'Avola</td>\n",
       "      <td>Canicattì</td>\n",
       "    </tr>\n",
       "    <tr>\n",
       "      <th>25</th>\n",
       "      <td>US</td>\n",
       "      <td>Oak and earth intermingle around robust aromas...</td>\n",
       "      <td>King Ridge Vineyard</td>\n",
       "      <td>87</td>\n",
       "      <td>69.0</td>\n",
       "      <td>California</td>\n",
       "      <td>Sonoma Coast</td>\n",
       "      <td>Sonoma</td>\n",
       "      <td>Virginie Boone</td>\n",
       "      <td>@vboone</td>\n",
       "      <td>Castello di Amorosa 2011 King Ridge Vineyard P...</td>\n",
       "      <td>Pinot Noir</td>\n",
       "      <td>Castello di Amorosa</td>\n",
       "    </tr>\n",
       "    <tr>\n",
       "      <th>26</th>\n",
       "      <td>Italy</td>\n",
       "      <td>Pretty aromas of yellow flower and stone fruit...</td>\n",
       "      <td>Dalila</td>\n",
       "      <td>87</td>\n",
       "      <td>13.0</td>\n",
       "      <td>Sicily &amp; Sardinia</td>\n",
       "      <td>Terre Siciliane</td>\n",
       "      <td>NaN</td>\n",
       "      <td>Kerin O’Keefe</td>\n",
       "      <td>@kerinokeefe</td>\n",
       "      <td>Stemmari 2013 Dalila White (Terre Siciliane)</td>\n",
       "      <td>White Blend</td>\n",
       "      <td>Stemmari</td>\n",
       "    </tr>\n",
       "    <tr>\n",
       "      <th>27</th>\n",
       "      <td>Italy</td>\n",
       "      <td>Aromas recall ripe dark berry, toast and a whi...</td>\n",
       "      <td>NaN</td>\n",
       "      <td>87</td>\n",
       "      <td>10.0</td>\n",
       "      <td>Sicily &amp; Sardinia</td>\n",
       "      <td>Terre Siciliane</td>\n",
       "      <td>NaN</td>\n",
       "      <td>Kerin O’Keefe</td>\n",
       "      <td>@kerinokeefe</td>\n",
       "      <td>Stemmari 2013 Nero d'Avola (Terre Siciliane)</td>\n",
       "      <td>Nero d'Avola</td>\n",
       "      <td>Stemmari</td>\n",
       "    </tr>\n",
       "    <tr>\n",
       "      <th>28</th>\n",
       "      <td>Italy</td>\n",
       "      <td>Aromas suggest mature berry, scorched earth, a...</td>\n",
       "      <td>Mascaria Barricato</td>\n",
       "      <td>87</td>\n",
       "      <td>17.0</td>\n",
       "      <td>Sicily &amp; Sardinia</td>\n",
       "      <td>Cerasuolo di Vittoria</td>\n",
       "      <td>NaN</td>\n",
       "      <td>Kerin O’Keefe</td>\n",
       "      <td>@kerinokeefe</td>\n",
       "      <td>Terre di Giurfo 2011 Mascaria Barricato  (Cera...</td>\n",
       "      <td>Red Blend</td>\n",
       "      <td>Terre di Giurfo</td>\n",
       "    </tr>\n",
       "    <tr>\n",
       "      <th>29</th>\n",
       "      <td>US</td>\n",
       "      <td>Clarksburg is becoming a haven for Chenin Blan...</td>\n",
       "      <td>NaN</td>\n",
       "      <td>86</td>\n",
       "      <td>16.0</td>\n",
       "      <td>California</td>\n",
       "      <td>Clarksburg</td>\n",
       "      <td>Central Valley</td>\n",
       "      <td>Virginie Boone</td>\n",
       "      <td>@vboone</td>\n",
       "      <td>Clarksburg Wine Company 2010 Chenin Blanc (Cla...</td>\n",
       "      <td>Chenin Blanc</td>\n",
       "      <td>Clarksburg Wine Company</td>\n",
       "    </tr>\n",
       "    <tr>\n",
       "      <th>30</th>\n",
       "      <td>France</td>\n",
       "      <td>Red cherry fruit comes laced with light tannin...</td>\n",
       "      <td>Nouveau</td>\n",
       "      <td>86</td>\n",
       "      <td>NaN</td>\n",
       "      <td>Beaujolais</td>\n",
       "      <td>Beaujolais-Villages</td>\n",
       "      <td>NaN</td>\n",
       "      <td>Roger Voss</td>\n",
       "      <td>@vossroger</td>\n",
       "      <td>Domaine de la Madone 2012 Nouveau  (Beaujolais...</td>\n",
       "      <td>Gamay</td>\n",
       "      <td>Domaine de la Madone</td>\n",
       "    </tr>\n",
       "    <tr>\n",
       "      <th>31</th>\n",
       "      <td>Italy</td>\n",
       "      <td>Merlot and Nero d'Avola form the base for this...</td>\n",
       "      <td>Calanìca Nero d'Avola-Merlot</td>\n",
       "      <td>86</td>\n",
       "      <td>NaN</td>\n",
       "      <td>Sicily &amp; Sardinia</td>\n",
       "      <td>Sicilia</td>\n",
       "      <td>NaN</td>\n",
       "      <td>NaN</td>\n",
       "      <td>NaN</td>\n",
       "      <td>Duca di Salaparuta 2010 Calanìca Nero d'Avola-...</td>\n",
       "      <td>Red Blend</td>\n",
       "      <td>Duca di Salaparuta</td>\n",
       "    </tr>\n",
       "    <tr>\n",
       "      <th>32</th>\n",
       "      <td>Italy</td>\n",
       "      <td>Part of the extended Calanìca series, this Gri...</td>\n",
       "      <td>Calanìca Grillo-Viognier</td>\n",
       "      <td>86</td>\n",
       "      <td>NaN</td>\n",
       "      <td>Sicily &amp; Sardinia</td>\n",
       "      <td>Sicilia</td>\n",
       "      <td>NaN</td>\n",
       "      <td>NaN</td>\n",
       "      <td>NaN</td>\n",
       "      <td>Duca di Salaparuta 2011 Calanìca Grillo-Viogni...</td>\n",
       "      <td>White Blend</td>\n",
       "      <td>Duca di Salaparuta</td>\n",
       "    </tr>\n",
       "    <tr>\n",
       "      <th>...</th>\n",
       "      <td>...</td>\n",
       "      <td>...</td>\n",
       "      <td>...</td>\n",
       "      <td>...</td>\n",
       "      <td>...</td>\n",
       "      <td>...</td>\n",
       "      <td>...</td>\n",
       "      <td>...</td>\n",
       "      <td>...</td>\n",
       "      <td>...</td>\n",
       "      <td>...</td>\n",
       "      <td>...</td>\n",
       "      <td>...</td>\n",
       "    </tr>\n",
       "    <tr>\n",
       "      <th>129941</th>\n",
       "      <td>US</td>\n",
       "      <td>A Chardonnay with an unusual companion, 8% Sém...</td>\n",
       "      <td>NaN</td>\n",
       "      <td>90</td>\n",
       "      <td>20.0</td>\n",
       "      <td>California</td>\n",
       "      <td>Mendocino County</td>\n",
       "      <td>NaN</td>\n",
       "      <td>Virginie Boone</td>\n",
       "      <td>@vboone</td>\n",
       "      <td>Apriori 2013 Chardonnay (Mendocino County)</td>\n",
       "      <td>Chardonnay</td>\n",
       "      <td>Apriori</td>\n",
       "    </tr>\n",
       "    <tr>\n",
       "      <th>129942</th>\n",
       "      <td>US</td>\n",
       "      <td>This is classic in herbaceous aromas and flavo...</td>\n",
       "      <td>NaN</td>\n",
       "      <td>90</td>\n",
       "      <td>35.0</td>\n",
       "      <td>California</td>\n",
       "      <td>Sonoma County</td>\n",
       "      <td>Sonoma</td>\n",
       "      <td>Virginie Boone</td>\n",
       "      <td>@vboone</td>\n",
       "      <td>Arrowood 2010 Cabernet Sauvignon (Sonoma County)</td>\n",
       "      <td>Cabernet Sauvignon</td>\n",
       "      <td>Arrowood</td>\n",
       "    </tr>\n",
       "    <tr>\n",
       "      <th>129943</th>\n",
       "      <td>Italy</td>\n",
       "      <td>A blend of Nero d'Avola and Syrah, this convey...</td>\n",
       "      <td>Adènzia</td>\n",
       "      <td>90</td>\n",
       "      <td>29.0</td>\n",
       "      <td>Sicily &amp; Sardinia</td>\n",
       "      <td>Sicilia</td>\n",
       "      <td>NaN</td>\n",
       "      <td>Kerin O’Keefe</td>\n",
       "      <td>@kerinokeefe</td>\n",
       "      <td>Baglio del Cristo di Campobello 2012 Adènzia R...</td>\n",
       "      <td>Red Blend</td>\n",
       "      <td>Baglio del Cristo di Campobello</td>\n",
       "    </tr>\n",
       "    <tr>\n",
       "      <th>129944</th>\n",
       "      <td>Israel</td>\n",
       "      <td>Deep garnet in the glass, this has a nose of b...</td>\n",
       "      <td>Special Reserve Winemakers' Choice</td>\n",
       "      <td>90</td>\n",
       "      <td>25.0</td>\n",
       "      <td>Galilee</td>\n",
       "      <td>NaN</td>\n",
       "      <td>NaN</td>\n",
       "      <td>Mike DeSimone</td>\n",
       "      <td>@worldwineguys</td>\n",
       "      <td>Barkan 2011 Special Reserve Winemakers' Choice...</td>\n",
       "      <td>Shiraz</td>\n",
       "      <td>Barkan</td>\n",
       "    </tr>\n",
       "    <tr>\n",
       "      <th>129945</th>\n",
       "      <td>US</td>\n",
       "      <td>Hailing from one of the more popular vineyards...</td>\n",
       "      <td>Jurassic Park Vineyard Old Vines</td>\n",
       "      <td>90</td>\n",
       "      <td>20.0</td>\n",
       "      <td>California</td>\n",
       "      <td>Santa Ynez Valley</td>\n",
       "      <td>Central Coast</td>\n",
       "      <td>Matt Kettmann</td>\n",
       "      <td>@mattkettmann</td>\n",
       "      <td>Birichino 2013 Jurassic Park Vineyard Old Vine...</td>\n",
       "      <td>Chenin Blanc</td>\n",
       "      <td>Birichino</td>\n",
       "    </tr>\n",
       "    <tr>\n",
       "      <th>129946</th>\n",
       "      <td>Germany</td>\n",
       "      <td>Plump, clingy peach and honey notes are cut wi...</td>\n",
       "      <td>Dom</td>\n",
       "      <td>90</td>\n",
       "      <td>17.0</td>\n",
       "      <td>Mosel</td>\n",
       "      <td>NaN</td>\n",
       "      <td>NaN</td>\n",
       "      <td>Anna Lee C. Iijima</td>\n",
       "      <td>NaN</td>\n",
       "      <td>Bischöfliche Weingüter Trier 2013 Dom Riesling...</td>\n",
       "      <td>Riesling</td>\n",
       "      <td>Bischöfliche Weingüter Trier</td>\n",
       "    </tr>\n",
       "    <tr>\n",
       "      <th>129947</th>\n",
       "      <td>Italy</td>\n",
       "      <td>A blend of 65% Cabernet Sauvignon, 30% Merlot ...</td>\n",
       "      <td>Symposio</td>\n",
       "      <td>90</td>\n",
       "      <td>20.0</td>\n",
       "      <td>Sicily &amp; Sardinia</td>\n",
       "      <td>Terre Siciliane</td>\n",
       "      <td>NaN</td>\n",
       "      <td>Kerin O’Keefe</td>\n",
       "      <td>@kerinokeefe</td>\n",
       "      <td>Feudo Principi di Butera 2012 Symposio Red (Te...</td>\n",
       "      <td>Red Blend</td>\n",
       "      <td>Feudo Principi di Butera</td>\n",
       "    </tr>\n",
       "    <tr>\n",
       "      <th>129948</th>\n",
       "      <td>Argentina</td>\n",
       "      <td>Raspberry and cassis aromas are fresh and upri...</td>\n",
       "      <td>Pedernal</td>\n",
       "      <td>90</td>\n",
       "      <td>43.0</td>\n",
       "      <td>Other</td>\n",
       "      <td>San Juan</td>\n",
       "      <td>NaN</td>\n",
       "      <td>Michael Schachner</td>\n",
       "      <td>@wineschach</td>\n",
       "      <td>Finca Las Moras 2010 Pedernal Malbec (San Juan)</td>\n",
       "      <td>Malbec</td>\n",
       "      <td>Finca Las Moras</td>\n",
       "    </tr>\n",
       "    <tr>\n",
       "      <th>129949</th>\n",
       "      <td>US</td>\n",
       "      <td>There's no bones about the use of oak in this ...</td>\n",
       "      <td>Barrel Fermented</td>\n",
       "      <td>90</td>\n",
       "      <td>35.0</td>\n",
       "      <td>California</td>\n",
       "      <td>Napa Valley</td>\n",
       "      <td>Napa</td>\n",
       "      <td>Virginie Boone</td>\n",
       "      <td>@vboone</td>\n",
       "      <td>Flora Springs 2013 Barrel Fermented Chardonnay...</td>\n",
       "      <td>Chardonnay</td>\n",
       "      <td>Flora Springs</td>\n",
       "    </tr>\n",
       "    <tr>\n",
       "      <th>129950</th>\n",
       "      <td>US</td>\n",
       "      <td>This opens with herbaceous dollops of thyme an...</td>\n",
       "      <td>Blocks 7 &amp; 22</td>\n",
       "      <td>90</td>\n",
       "      <td>35.0</td>\n",
       "      <td>California</td>\n",
       "      <td>Napa Valley</td>\n",
       "      <td>Napa</td>\n",
       "      <td>Virginie Boone</td>\n",
       "      <td>@vboone</td>\n",
       "      <td>Hendry 2012 Blocks 7 &amp; 22 Zinfandel (Napa Valley)</td>\n",
       "      <td>Zinfandel</td>\n",
       "      <td>Hendry</td>\n",
       "    </tr>\n",
       "    <tr>\n",
       "      <th>129951</th>\n",
       "      <td>France</td>\n",
       "      <td>Hugely spicy this rich wine is described as sw...</td>\n",
       "      <td>Holder</td>\n",
       "      <td>90</td>\n",
       "      <td>30.0</td>\n",
       "      <td>Alsace</td>\n",
       "      <td>Alsace</td>\n",
       "      <td>NaN</td>\n",
       "      <td>Roger Voss</td>\n",
       "      <td>@vossroger</td>\n",
       "      <td>Henri Schoenheitz 2012 Holder Gewurztraminer (...</td>\n",
       "      <td>Gewürztraminer</td>\n",
       "      <td>Henri Schoenheitz</td>\n",
       "    </tr>\n",
       "    <tr>\n",
       "      <th>129952</th>\n",
       "      <td>US</td>\n",
       "      <td>This Zinfandel from the eastern section of Nap...</td>\n",
       "      <td>NaN</td>\n",
       "      <td>90</td>\n",
       "      <td>22.0</td>\n",
       "      <td>California</td>\n",
       "      <td>Chiles Valley</td>\n",
       "      <td>Napa</td>\n",
       "      <td>Virginie Boone</td>\n",
       "      <td>@vboone</td>\n",
       "      <td>Houdini 2011 Zinfandel (Chiles Valley)</td>\n",
       "      <td>Zinfandel</td>\n",
       "      <td>Houdini</td>\n",
       "    </tr>\n",
       "    <tr>\n",
       "      <th>129953</th>\n",
       "      <td>New Zealand</td>\n",
       "      <td>Roughly two-thirds Cabernet and one-third Merl...</td>\n",
       "      <td>Elspeth</td>\n",
       "      <td>90</td>\n",
       "      <td>25.0</td>\n",
       "      <td>Hawke's Bay</td>\n",
       "      <td>NaN</td>\n",
       "      <td>NaN</td>\n",
       "      <td>Joe Czerwinski</td>\n",
       "      <td>@JoeCz</td>\n",
       "      <td>Mills Reef 2011 Elspeth Cabernet Merlot (Hawke...</td>\n",
       "      <td>Cabernet Merlot</td>\n",
       "      <td>Mills Reef</td>\n",
       "    </tr>\n",
       "    <tr>\n",
       "      <th>129954</th>\n",
       "      <td>New Zealand</td>\n",
       "      <td>One of the more characterful Pinot Gris for th...</td>\n",
       "      <td>Single Estate</td>\n",
       "      <td>90</td>\n",
       "      <td>15.0</td>\n",
       "      <td>Marlborough</td>\n",
       "      <td>NaN</td>\n",
       "      <td>NaN</td>\n",
       "      <td>Joe Czerwinski</td>\n",
       "      <td>@JoeCz</td>\n",
       "      <td>Ara 2013 Single Estate Pinot Gris (Marlborough)</td>\n",
       "      <td>Pinot Gris</td>\n",
       "      <td>Ara</td>\n",
       "    </tr>\n",
       "    <tr>\n",
       "      <th>129955</th>\n",
       "      <td>New Zealand</td>\n",
       "      <td>Like Dog Point's 2011 Chardonnay, this wine is...</td>\n",
       "      <td>NaN</td>\n",
       "      <td>90</td>\n",
       "      <td>40.0</td>\n",
       "      <td>Marlborough</td>\n",
       "      <td>NaN</td>\n",
       "      <td>NaN</td>\n",
       "      <td>Joe Czerwinski</td>\n",
       "      <td>@JoeCz</td>\n",
       "      <td>Dog Point 2012 Chardonnay (Marlborough)</td>\n",
       "      <td>Chardonnay</td>\n",
       "      <td>Dog Point</td>\n",
       "    </tr>\n",
       "    <tr>\n",
       "      <th>129956</th>\n",
       "      <td>New Zealand</td>\n",
       "      <td>The blend is 44% Merlot, 33% Cabernet Sauvigno...</td>\n",
       "      <td>Gimblett Gravels Merlot-Cabernet Sauvignon-Malbec</td>\n",
       "      <td>90</td>\n",
       "      <td>19.0</td>\n",
       "      <td>Hawke's Bay</td>\n",
       "      <td>NaN</td>\n",
       "      <td>NaN</td>\n",
       "      <td>Joe Czerwinski</td>\n",
       "      <td>@JoeCz</td>\n",
       "      <td>Esk Valley 2011 Gimblett Gravels Merlot-Cabern...</td>\n",
       "      <td>Bordeaux-style Red Blend</td>\n",
       "      <td>Esk Valley</td>\n",
       "    </tr>\n",
       "    <tr>\n",
       "      <th>129957</th>\n",
       "      <td>Spain</td>\n",
       "      <td>Lightly baked berry aromas vie for attention w...</td>\n",
       "      <td>Crianza</td>\n",
       "      <td>90</td>\n",
       "      <td>17.0</td>\n",
       "      <td>Northern Spain</td>\n",
       "      <td>Rioja</td>\n",
       "      <td>NaN</td>\n",
       "      <td>Michael Schachner</td>\n",
       "      <td>@wineschach</td>\n",
       "      <td>Viñedos Real Rubio 2010 Crianza  (Rioja)</td>\n",
       "      <td>Tempranillo Blend</td>\n",
       "      <td>Viñedos Real Rubio</td>\n",
       "    </tr>\n",
       "    <tr>\n",
       "      <th>129958</th>\n",
       "      <td>New Zealand</td>\n",
       "      <td>This blend of Cabernet Sauvignon-Merlot and Ca...</td>\n",
       "      <td>Irongate</td>\n",
       "      <td>90</td>\n",
       "      <td>35.0</td>\n",
       "      <td>Hawke's Bay</td>\n",
       "      <td>NaN</td>\n",
       "      <td>NaN</td>\n",
       "      <td>Joe Czerwinski</td>\n",
       "      <td>@JoeCz</td>\n",
       "      <td>Babich 2010 Irongate Red (Hawke's Bay)</td>\n",
       "      <td>Bordeaux-style Red Blend</td>\n",
       "      <td>Babich</td>\n",
       "    </tr>\n",
       "    <tr>\n",
       "      <th>129959</th>\n",
       "      <td>France</td>\n",
       "      <td>The granite soil of the Brand Grand Cru vineya...</td>\n",
       "      <td>Brand Grand Cru</td>\n",
       "      <td>90</td>\n",
       "      <td>57.0</td>\n",
       "      <td>Alsace</td>\n",
       "      <td>Alsace</td>\n",
       "      <td>NaN</td>\n",
       "      <td>Roger Voss</td>\n",
       "      <td>@vossroger</td>\n",
       "      <td>Cave de Turckheim 2010 Brand Grand Cru Pinot G...</td>\n",
       "      <td>Pinot Gris</td>\n",
       "      <td>Cave de Turckheim</td>\n",
       "    </tr>\n",
       "    <tr>\n",
       "      <th>129960</th>\n",
       "      <td>Portugal</td>\n",
       "      <td>Fresh and fruity, this is full of red cherry f...</td>\n",
       "      <td>Vértice</td>\n",
       "      <td>90</td>\n",
       "      <td>48.0</td>\n",
       "      <td>Douro</td>\n",
       "      <td>NaN</td>\n",
       "      <td>NaN</td>\n",
       "      <td>Roger Voss</td>\n",
       "      <td>@vossroger</td>\n",
       "      <td>Caves Transmontanas 2006 Vértice Pinot Noir (D...</td>\n",
       "      <td>Pinot Noir</td>\n",
       "      <td>Caves Transmontanas</td>\n",
       "    </tr>\n",
       "    <tr>\n",
       "      <th>129961</th>\n",
       "      <td>Italy</td>\n",
       "      <td>Intense aromas of wild cherry, baking spice, t...</td>\n",
       "      <td>NaN</td>\n",
       "      <td>90</td>\n",
       "      <td>30.0</td>\n",
       "      <td>Sicily &amp; Sardinia</td>\n",
       "      <td>Sicilia</td>\n",
       "      <td>NaN</td>\n",
       "      <td>Kerin O’Keefe</td>\n",
       "      <td>@kerinokeefe</td>\n",
       "      <td>COS 2013 Frappato (Sicilia)</td>\n",
       "      <td>Frappato</td>\n",
       "      <td>COS</td>\n",
       "    </tr>\n",
       "    <tr>\n",
       "      <th>129962</th>\n",
       "      <td>Italy</td>\n",
       "      <td>Blackberry, cassis, grilled herb and toasted a...</td>\n",
       "      <td>Sàgana Tenuta San Giacomo</td>\n",
       "      <td>90</td>\n",
       "      <td>40.0</td>\n",
       "      <td>Sicily &amp; Sardinia</td>\n",
       "      <td>Sicilia</td>\n",
       "      <td>NaN</td>\n",
       "      <td>Kerin O’Keefe</td>\n",
       "      <td>@kerinokeefe</td>\n",
       "      <td>Cusumano 2012 Sàgana Tenuta San Giacomo Nero d...</td>\n",
       "      <td>Nero d'Avola</td>\n",
       "      <td>Cusumano</td>\n",
       "    </tr>\n",
       "    <tr>\n",
       "      <th>129963</th>\n",
       "      <td>Israel</td>\n",
       "      <td>A bouquet of black cherry, tart cranberry and ...</td>\n",
       "      <td>Oak Aged</td>\n",
       "      <td>90</td>\n",
       "      <td>20.0</td>\n",
       "      <td>Galilee</td>\n",
       "      <td>NaN</td>\n",
       "      <td>NaN</td>\n",
       "      <td>Mike DeSimone</td>\n",
       "      <td>@worldwineguys</td>\n",
       "      <td>Dalton 2012 Oak Aged Cabernet Sauvignon (Galilee)</td>\n",
       "      <td>Cabernet Sauvignon</td>\n",
       "      <td>Dalton</td>\n",
       "    </tr>\n",
       "    <tr>\n",
       "      <th>129964</th>\n",
       "      <td>France</td>\n",
       "      <td>Initially quite muted, this wine slowly develo...</td>\n",
       "      <td>Domaine Saint-Rémy Herrenweg</td>\n",
       "      <td>90</td>\n",
       "      <td>NaN</td>\n",
       "      <td>Alsace</td>\n",
       "      <td>Alsace</td>\n",
       "      <td>NaN</td>\n",
       "      <td>Roger Voss</td>\n",
       "      <td>@vossroger</td>\n",
       "      <td>Domaine Ehrhart 2013 Domaine Saint-Rémy Herren...</td>\n",
       "      <td>Gewürztraminer</td>\n",
       "      <td>Domaine Ehrhart</td>\n",
       "    </tr>\n",
       "    <tr>\n",
       "      <th>129965</th>\n",
       "      <td>France</td>\n",
       "      <td>While it's rich, this beautiful dry wine also ...</td>\n",
       "      <td>Seppi Landmann Vallée Noble</td>\n",
       "      <td>90</td>\n",
       "      <td>28.0</td>\n",
       "      <td>Alsace</td>\n",
       "      <td>Alsace</td>\n",
       "      <td>NaN</td>\n",
       "      <td>Roger Voss</td>\n",
       "      <td>@vossroger</td>\n",
       "      <td>Domaine Rieflé-Landmann 2013 Seppi Landmann Va...</td>\n",
       "      <td>Pinot Gris</td>\n",
       "      <td>Domaine Rieflé-Landmann</td>\n",
       "    </tr>\n",
       "    <tr>\n",
       "      <th>129966</th>\n",
       "      <td>Germany</td>\n",
       "      <td>Notes of honeysuckle and cantaloupe sweeten th...</td>\n",
       "      <td>Brauneberger Juffer-Sonnenuhr Spätlese</td>\n",
       "      <td>90</td>\n",
       "      <td>28.0</td>\n",
       "      <td>Mosel</td>\n",
       "      <td>NaN</td>\n",
       "      <td>NaN</td>\n",
       "      <td>Anna Lee C. Iijima</td>\n",
       "      <td>NaN</td>\n",
       "      <td>Dr. H. Thanisch (Erben Müller-Burggraef) 2013 ...</td>\n",
       "      <td>Riesling</td>\n",
       "      <td>Dr. H. Thanisch (Erben Müller-Burggraef)</td>\n",
       "    </tr>\n",
       "    <tr>\n",
       "      <th>129967</th>\n",
       "      <td>US</td>\n",
       "      <td>Citation is given as much as a decade of bottl...</td>\n",
       "      <td>NaN</td>\n",
       "      <td>90</td>\n",
       "      <td>75.0</td>\n",
       "      <td>Oregon</td>\n",
       "      <td>Oregon</td>\n",
       "      <td>Oregon Other</td>\n",
       "      <td>Paul Gregutt</td>\n",
       "      <td>@paulgwine</td>\n",
       "      <td>Citation 2004 Pinot Noir (Oregon)</td>\n",
       "      <td>Pinot Noir</td>\n",
       "      <td>Citation</td>\n",
       "    </tr>\n",
       "    <tr>\n",
       "      <th>129968</th>\n",
       "      <td>France</td>\n",
       "      <td>Well-drained gravel soil gives this wine its c...</td>\n",
       "      <td>Kritt</td>\n",
       "      <td>90</td>\n",
       "      <td>30.0</td>\n",
       "      <td>Alsace</td>\n",
       "      <td>Alsace</td>\n",
       "      <td>NaN</td>\n",
       "      <td>Roger Voss</td>\n",
       "      <td>@vossroger</td>\n",
       "      <td>Domaine Gresser 2013 Kritt Gewurztraminer (Als...</td>\n",
       "      <td>Gewürztraminer</td>\n",
       "      <td>Domaine Gresser</td>\n",
       "    </tr>\n",
       "    <tr>\n",
       "      <th>129969</th>\n",
       "      <td>France</td>\n",
       "      <td>A dry style of Pinot Gris, this is crisp with ...</td>\n",
       "      <td>NaN</td>\n",
       "      <td>90</td>\n",
       "      <td>32.0</td>\n",
       "      <td>Alsace</td>\n",
       "      <td>Alsace</td>\n",
       "      <td>NaN</td>\n",
       "      <td>Roger Voss</td>\n",
       "      <td>@vossroger</td>\n",
       "      <td>Domaine Marcel Deiss 2012 Pinot Gris (Alsace)</td>\n",
       "      <td>Pinot Gris</td>\n",
       "      <td>Domaine Marcel Deiss</td>\n",
       "    </tr>\n",
       "    <tr>\n",
       "      <th>129970</th>\n",
       "      <td>France</td>\n",
       "      <td>Big, rich and off-dry, this is powered by inte...</td>\n",
       "      <td>Lieu-dit Harth Cuvée Caroline</td>\n",
       "      <td>90</td>\n",
       "      <td>21.0</td>\n",
       "      <td>Alsace</td>\n",
       "      <td>Alsace</td>\n",
       "      <td>NaN</td>\n",
       "      <td>Roger Voss</td>\n",
       "      <td>@vossroger</td>\n",
       "      <td>Domaine Schoffit 2012 Lieu-dit Harth Cuvée Car...</td>\n",
       "      <td>Gewürztraminer</td>\n",
       "      <td>Domaine Schoffit</td>\n",
       "    </tr>\n",
       "  </tbody>\n",
       "</table>\n",
       "<p>115123 rows × 13 columns</p>\n",
       "</div>"
      ],
      "text/plain": [
       "            country                                        description  \\\n",
       "0             Italy  Aromas include tropical fruit, broom, brimston...   \n",
       "1          Portugal  This is ripe and fruity, a wine that is smooth...   \n",
       "3                US  Pineapple rind, lemon pith and orange blossom ...   \n",
       "5             Spain  Blackberry and raspberry aromas show a typical...   \n",
       "6             Italy  Here's a bright, informal red that opens with ...   \n",
       "7            France  This dry and restrained wine offers spice in p...   \n",
       "8           Germany  Savory dried thyme notes accent sunnier flavor...   \n",
       "9            France  This has great depth of flavor with its fresh ...   \n",
       "10               US  Soft, supple plum envelopes an oaky structure ...   \n",
       "11           France  This is a dry wine, very spicy, with a tight, ...   \n",
       "12               US  Slightly reduced, this wine offers a chalky, t...   \n",
       "13            Italy  This is dominated by oak and oak-driven aromas...   \n",
       "15          Germany  Zesty orange peels and apple notes abound in t...   \n",
       "16        Argentina  Baked plum, molasses, balsamic vinegar and che...   \n",
       "17        Argentina  Raw black-cherry aromas are direct and simple ...   \n",
       "18            Spain  Desiccated blackberry, leather, charred wood a...   \n",
       "19               US  Red fruit aromas pervade on the nose, with cig...   \n",
       "20               US  Ripe aromas of dark berries mingle with ample ...   \n",
       "21               US  A sleek mix of tart berry, stem and herb, alon...   \n",
       "22            Italy  Delicate aromas recall white flower and citrus...   \n",
       "23               US  This wine from the Geneseo district offers aro...   \n",
       "24            Italy  Aromas of prune, blackcurrant, toast and oak c...   \n",
       "25               US  Oak and earth intermingle around robust aromas...   \n",
       "26            Italy  Pretty aromas of yellow flower and stone fruit...   \n",
       "27            Italy  Aromas recall ripe dark berry, toast and a whi...   \n",
       "28            Italy  Aromas suggest mature berry, scorched earth, a...   \n",
       "29               US  Clarksburg is becoming a haven for Chenin Blan...   \n",
       "30           France  Red cherry fruit comes laced with light tannin...   \n",
       "31            Italy  Merlot and Nero d'Avola form the base for this...   \n",
       "32            Italy  Part of the extended Calanìca series, this Gri...   \n",
       "...             ...                                                ...   \n",
       "129941           US  A Chardonnay with an unusual companion, 8% Sém...   \n",
       "129942           US  This is classic in herbaceous aromas and flavo...   \n",
       "129943        Italy  A blend of Nero d'Avola and Syrah, this convey...   \n",
       "129944       Israel  Deep garnet in the glass, this has a nose of b...   \n",
       "129945           US  Hailing from one of the more popular vineyards...   \n",
       "129946      Germany  Plump, clingy peach and honey notes are cut wi...   \n",
       "129947        Italy  A blend of 65% Cabernet Sauvignon, 30% Merlot ...   \n",
       "129948    Argentina  Raspberry and cassis aromas are fresh and upri...   \n",
       "129949           US  There's no bones about the use of oak in this ...   \n",
       "129950           US  This opens with herbaceous dollops of thyme an...   \n",
       "129951       France  Hugely spicy this rich wine is described as sw...   \n",
       "129952           US  This Zinfandel from the eastern section of Nap...   \n",
       "129953  New Zealand  Roughly two-thirds Cabernet and one-third Merl...   \n",
       "129954  New Zealand  One of the more characterful Pinot Gris for th...   \n",
       "129955  New Zealand  Like Dog Point's 2011 Chardonnay, this wine is...   \n",
       "129956  New Zealand  The blend is 44% Merlot, 33% Cabernet Sauvigno...   \n",
       "129957        Spain  Lightly baked berry aromas vie for attention w...   \n",
       "129958  New Zealand  This blend of Cabernet Sauvignon-Merlot and Ca...   \n",
       "129959       France  The granite soil of the Brand Grand Cru vineya...   \n",
       "129960     Portugal  Fresh and fruity, this is full of red cherry f...   \n",
       "129961        Italy  Intense aromas of wild cherry, baking spice, t...   \n",
       "129962        Italy  Blackberry, cassis, grilled herb and toasted a...   \n",
       "129963       Israel  A bouquet of black cherry, tart cranberry and ...   \n",
       "129964       France  Initially quite muted, this wine slowly develo...   \n",
       "129965       France  While it's rich, this beautiful dry wine also ...   \n",
       "129966      Germany  Notes of honeysuckle and cantaloupe sweeten th...   \n",
       "129967           US  Citation is given as much as a decade of bottl...   \n",
       "129968       France  Well-drained gravel soil gives this wine its c...   \n",
       "129969       France  A dry style of Pinot Gris, this is crisp with ...   \n",
       "129970       France  Big, rich and off-dry, this is powered by inte...   \n",
       "\n",
       "                                              designation  points  price  \\\n",
       "0                                            Vulkà Bianco      87    NaN   \n",
       "1                                                Avidagos      87   15.0   \n",
       "3                                    Reserve Late Harvest      87   13.0   \n",
       "5                                            Ars In Vitro      87   15.0   \n",
       "6                                                 Belsito      87   16.0   \n",
       "7                                                     NaN      87   24.0   \n",
       "8                                                   Shine      87   12.0   \n",
       "9                                             Les Natures      87   27.0   \n",
       "10                                         Mountain Cuvée      87   19.0   \n",
       "11                                                    NaN      87   30.0   \n",
       "12                                                    NaN      87   34.0   \n",
       "13                                                  Rosso      87    NaN   \n",
       "15                                                  Devon      87   24.0   \n",
       "16                                                  Felix      87   30.0   \n",
       "17                                    Winemaker Selection      87   13.0   \n",
       "18      Vendimia Seleccionada Finca Valdelayegua Singl...      87   28.0   \n",
       "19                                                    NaN      87   32.0   \n",
       "20                                          Vin de Maison      87   23.0   \n",
       "21                                                    NaN      87   20.0   \n",
       "22                                              Ficiligno      87   19.0   \n",
       "23                                    Signature Selection      87   22.0   \n",
       "24                                                  Aynat      87   35.0   \n",
       "25                                    King Ridge Vineyard      87   69.0   \n",
       "26                                                 Dalila      87   13.0   \n",
       "27                                                    NaN      87   10.0   \n",
       "28                                     Mascaria Barricato      87   17.0   \n",
       "29                                                    NaN      86   16.0   \n",
       "30                                                Nouveau      86    NaN   \n",
       "31                           Calanìca Nero d'Avola-Merlot      86    NaN   \n",
       "32                               Calanìca Grillo-Viognier      86    NaN   \n",
       "...                                                   ...     ...    ...   \n",
       "129941                                                NaN      90   20.0   \n",
       "129942                                                NaN      90   35.0   \n",
       "129943                                            Adènzia      90   29.0   \n",
       "129944                 Special Reserve Winemakers' Choice      90   25.0   \n",
       "129945                   Jurassic Park Vineyard Old Vines      90   20.0   \n",
       "129946                                                Dom      90   17.0   \n",
       "129947                                           Symposio      90   20.0   \n",
       "129948                                           Pedernal      90   43.0   \n",
       "129949                                   Barrel Fermented      90   35.0   \n",
       "129950                                      Blocks 7 & 22      90   35.0   \n",
       "129951                                             Holder      90   30.0   \n",
       "129952                                                NaN      90   22.0   \n",
       "129953                                            Elspeth      90   25.0   \n",
       "129954                                      Single Estate      90   15.0   \n",
       "129955                                                NaN      90   40.0   \n",
       "129956  Gimblett Gravels Merlot-Cabernet Sauvignon-Malbec      90   19.0   \n",
       "129957                                            Crianza      90   17.0   \n",
       "129958                                           Irongate      90   35.0   \n",
       "129959                                    Brand Grand Cru      90   57.0   \n",
       "129960                                            Vértice      90   48.0   \n",
       "129961                                                NaN      90   30.0   \n",
       "129962                          Sàgana Tenuta San Giacomo      90   40.0   \n",
       "129963                                           Oak Aged      90   20.0   \n",
       "129964                       Domaine Saint-Rémy Herrenweg      90    NaN   \n",
       "129965                        Seppi Landmann Vallée Noble      90   28.0   \n",
       "129966             Brauneberger Juffer-Sonnenuhr Spätlese      90   28.0   \n",
       "129967                                                NaN      90   75.0   \n",
       "129968                                              Kritt      90   30.0   \n",
       "129969                                                NaN      90   32.0   \n",
       "129970                      Lieu-dit Harth Cuvée Caroline      90   21.0   \n",
       "\n",
       "                 province               region_1        region_2  \\\n",
       "0       Sicily & Sardinia                   Etna             NaN   \n",
       "1                   Douro                    NaN             NaN   \n",
       "3                Michigan    Lake Michigan Shore             NaN   \n",
       "5          Northern Spain                Navarra             NaN   \n",
       "6       Sicily & Sardinia               Vittoria             NaN   \n",
       "7                  Alsace                 Alsace             NaN   \n",
       "8             Rheinhessen                    NaN             NaN   \n",
       "9                  Alsace                 Alsace             NaN   \n",
       "10             California            Napa Valley            Napa   \n",
       "11                 Alsace                 Alsace             NaN   \n",
       "12             California       Alexander Valley          Sonoma   \n",
       "13      Sicily & Sardinia                   Etna             NaN   \n",
       "15                  Mosel                    NaN             NaN   \n",
       "16                  Other               Cafayate             NaN   \n",
       "17       Mendoza Province                Mendoza             NaN   \n",
       "18         Northern Spain       Ribera del Duero             NaN   \n",
       "19               Virginia               Virginia             NaN   \n",
       "20               Virginia               Virginia             NaN   \n",
       "21                 Oregon                 Oregon    Oregon Other   \n",
       "22      Sicily & Sardinia                Sicilia             NaN   \n",
       "23             California            Paso Robles   Central Coast   \n",
       "24      Sicily & Sardinia                Sicilia             NaN   \n",
       "25             California           Sonoma Coast          Sonoma   \n",
       "26      Sicily & Sardinia        Terre Siciliane             NaN   \n",
       "27      Sicily & Sardinia        Terre Siciliane             NaN   \n",
       "28      Sicily & Sardinia  Cerasuolo di Vittoria             NaN   \n",
       "29             California             Clarksburg  Central Valley   \n",
       "30             Beaujolais    Beaujolais-Villages             NaN   \n",
       "31      Sicily & Sardinia                Sicilia             NaN   \n",
       "32      Sicily & Sardinia                Sicilia             NaN   \n",
       "...                   ...                    ...             ...   \n",
       "129941         California       Mendocino County             NaN   \n",
       "129942         California          Sonoma County          Sonoma   \n",
       "129943  Sicily & Sardinia                Sicilia             NaN   \n",
       "129944            Galilee                    NaN             NaN   \n",
       "129945         California      Santa Ynez Valley   Central Coast   \n",
       "129946              Mosel                    NaN             NaN   \n",
       "129947  Sicily & Sardinia        Terre Siciliane             NaN   \n",
       "129948              Other               San Juan             NaN   \n",
       "129949         California            Napa Valley            Napa   \n",
       "129950         California            Napa Valley            Napa   \n",
       "129951             Alsace                 Alsace             NaN   \n",
       "129952         California          Chiles Valley            Napa   \n",
       "129953        Hawke's Bay                    NaN             NaN   \n",
       "129954        Marlborough                    NaN             NaN   \n",
       "129955        Marlborough                    NaN             NaN   \n",
       "129956        Hawke's Bay                    NaN             NaN   \n",
       "129957     Northern Spain                  Rioja             NaN   \n",
       "129958        Hawke's Bay                    NaN             NaN   \n",
       "129959             Alsace                 Alsace             NaN   \n",
       "129960              Douro                    NaN             NaN   \n",
       "129961  Sicily & Sardinia                Sicilia             NaN   \n",
       "129962  Sicily & Sardinia                Sicilia             NaN   \n",
       "129963            Galilee                    NaN             NaN   \n",
       "129964             Alsace                 Alsace             NaN   \n",
       "129965             Alsace                 Alsace             NaN   \n",
       "129966              Mosel                    NaN             NaN   \n",
       "129967             Oregon                 Oregon    Oregon Other   \n",
       "129968             Alsace                 Alsace             NaN   \n",
       "129969             Alsace                 Alsace             NaN   \n",
       "129970             Alsace                 Alsace             NaN   \n",
       "\n",
       "               taster_name taster_twitter_handle  \\\n",
       "0            Kerin O’Keefe          @kerinokeefe   \n",
       "1               Roger Voss            @vossroger   \n",
       "3       Alexander Peartree                   NaN   \n",
       "5        Michael Schachner           @wineschach   \n",
       "6            Kerin O’Keefe          @kerinokeefe   \n",
       "7               Roger Voss            @vossroger   \n",
       "8       Anna Lee C. Iijima                   NaN   \n",
       "9               Roger Voss            @vossroger   \n",
       "10          Virginie Boone               @vboone   \n",
       "11              Roger Voss            @vossroger   \n",
       "12          Virginie Boone               @vboone   \n",
       "13           Kerin O’Keefe          @kerinokeefe   \n",
       "15      Anna Lee C. Iijima                   NaN   \n",
       "16       Michael Schachner           @wineschach   \n",
       "17       Michael Schachner           @wineschach   \n",
       "18       Michael Schachner           @wineschach   \n",
       "19      Alexander Peartree                   NaN   \n",
       "20      Alexander Peartree                   NaN   \n",
       "21            Paul Gregutt           @paulgwine    \n",
       "22           Kerin O’Keefe          @kerinokeefe   \n",
       "23           Matt Kettmann         @mattkettmann   \n",
       "24           Kerin O’Keefe          @kerinokeefe   \n",
       "25          Virginie Boone               @vboone   \n",
       "26           Kerin O’Keefe          @kerinokeefe   \n",
       "27           Kerin O’Keefe          @kerinokeefe   \n",
       "28           Kerin O’Keefe          @kerinokeefe   \n",
       "29          Virginie Boone               @vboone   \n",
       "30              Roger Voss            @vossroger   \n",
       "31                     NaN                   NaN   \n",
       "32                     NaN                   NaN   \n",
       "...                    ...                   ...   \n",
       "129941      Virginie Boone               @vboone   \n",
       "129942      Virginie Boone               @vboone   \n",
       "129943       Kerin O’Keefe          @kerinokeefe   \n",
       "129944       Mike DeSimone        @worldwineguys   \n",
       "129945       Matt Kettmann         @mattkettmann   \n",
       "129946  Anna Lee C. Iijima                   NaN   \n",
       "129947       Kerin O’Keefe          @kerinokeefe   \n",
       "129948   Michael Schachner           @wineschach   \n",
       "129949      Virginie Boone               @vboone   \n",
       "129950      Virginie Boone               @vboone   \n",
       "129951          Roger Voss            @vossroger   \n",
       "129952      Virginie Boone               @vboone   \n",
       "129953      Joe Czerwinski                @JoeCz   \n",
       "129954      Joe Czerwinski                @JoeCz   \n",
       "129955      Joe Czerwinski                @JoeCz   \n",
       "129956      Joe Czerwinski                @JoeCz   \n",
       "129957   Michael Schachner           @wineschach   \n",
       "129958      Joe Czerwinski                @JoeCz   \n",
       "129959          Roger Voss            @vossroger   \n",
       "129960          Roger Voss            @vossroger   \n",
       "129961       Kerin O’Keefe          @kerinokeefe   \n",
       "129962       Kerin O’Keefe          @kerinokeefe   \n",
       "129963       Mike DeSimone        @worldwineguys   \n",
       "129964          Roger Voss            @vossroger   \n",
       "129965          Roger Voss            @vossroger   \n",
       "129966  Anna Lee C. Iijima                   NaN   \n",
       "129967        Paul Gregutt           @paulgwine    \n",
       "129968          Roger Voss            @vossroger   \n",
       "129969          Roger Voss            @vossroger   \n",
       "129970          Roger Voss            @vossroger   \n",
       "\n",
       "                                                    title  \\\n",
       "0                       Nicosia 2013 Vulkà Bianco  (Etna)   \n",
       "1           Quinta dos Avidagos 2011 Avidagos Red (Douro)   \n",
       "3       St. Julian 2013 Reserve Late Harvest Riesling ...   \n",
       "5       Tandem 2011 Ars In Vitro Tempranillo-Merlot (N...   \n",
       "6        Terre di Giurfo 2013 Belsito Frappato (Vittoria)   \n",
       "7                   Trimbach 2012 Gewurztraminer (Alsace)   \n",
       "8       Heinz Eifel 2013 Shine Gewürztraminer (Rheinhe...   \n",
       "9       Jean-Baptiste Adam 2012 Les Natures Pinot Gris...   \n",
       "10      Kirkland Signature 2011 Mountain Cuvée Caberne...   \n",
       "11                Leon Beyer 2012 Gewurztraminer (Alsace)   \n",
       "12      Louis M. Martini 2012 Cabernet Sauvignon (Alex...   \n",
       "13                 Masseria Setteporte 2012 Rosso  (Etna)   \n",
       "15            Richard Böcking 2013 Devon Riesling (Mosel)   \n",
       "16             Felix Lavaque 2010 Felix Malbec (Cafayate)   \n",
       "17      Gaucho Andino 2011 Winemaker Selection Malbec ...   \n",
       "18      Pradorey 2010 Vendimia Seleccionada Finca Vald...   \n",
       "19                   Quiévremont 2012 Meritage (Virginia)   \n",
       "20          Quiévremont 2012 Vin de Maison Red (Virginia)   \n",
       "21                       Acrobat 2013 Pinot Noir (Oregon)   \n",
       "22      Baglio di Pianetto 2007 Ficiligno White (Sicilia)   \n",
       "23      Bianchi 2011 Signature Selection Merlot (Paso ...   \n",
       "24            Canicattì 2009 Aynat Nero d'Avola (Sicilia)   \n",
       "25      Castello di Amorosa 2011 King Ridge Vineyard P...   \n",
       "26           Stemmari 2013 Dalila White (Terre Siciliane)   \n",
       "27           Stemmari 2013 Nero d'Avola (Terre Siciliane)   \n",
       "28      Terre di Giurfo 2011 Mascaria Barricato  (Cera...   \n",
       "29      Clarksburg Wine Company 2010 Chenin Blanc (Cla...   \n",
       "30      Domaine de la Madone 2012 Nouveau  (Beaujolais...   \n",
       "31      Duca di Salaparuta 2010 Calanìca Nero d'Avola-...   \n",
       "32      Duca di Salaparuta 2011 Calanìca Grillo-Viogni...   \n",
       "...                                                   ...   \n",
       "129941         Apriori 2013 Chardonnay (Mendocino County)   \n",
       "129942   Arrowood 2010 Cabernet Sauvignon (Sonoma County)   \n",
       "129943  Baglio del Cristo di Campobello 2012 Adènzia R...   \n",
       "129944  Barkan 2011 Special Reserve Winemakers' Choice...   \n",
       "129945  Birichino 2013 Jurassic Park Vineyard Old Vine...   \n",
       "129946  Bischöfliche Weingüter Trier 2013 Dom Riesling...   \n",
       "129947  Feudo Principi di Butera 2012 Symposio Red (Te...   \n",
       "129948    Finca Las Moras 2010 Pedernal Malbec (San Juan)   \n",
       "129949  Flora Springs 2013 Barrel Fermented Chardonnay...   \n",
       "129950  Hendry 2012 Blocks 7 & 22 Zinfandel (Napa Valley)   \n",
       "129951  Henri Schoenheitz 2012 Holder Gewurztraminer (...   \n",
       "129952             Houdini 2011 Zinfandel (Chiles Valley)   \n",
       "129953  Mills Reef 2011 Elspeth Cabernet Merlot (Hawke...   \n",
       "129954    Ara 2013 Single Estate Pinot Gris (Marlborough)   \n",
       "129955            Dog Point 2012 Chardonnay (Marlborough)   \n",
       "129956  Esk Valley 2011 Gimblett Gravels Merlot-Cabern...   \n",
       "129957           Viñedos Real Rubio 2010 Crianza  (Rioja)   \n",
       "129958             Babich 2010 Irongate Red (Hawke's Bay)   \n",
       "129959  Cave de Turckheim 2010 Brand Grand Cru Pinot G...   \n",
       "129960  Caves Transmontanas 2006 Vértice Pinot Noir (D...   \n",
       "129961                        COS 2013 Frappato (Sicilia)   \n",
       "129962  Cusumano 2012 Sàgana Tenuta San Giacomo Nero d...   \n",
       "129963  Dalton 2012 Oak Aged Cabernet Sauvignon (Galilee)   \n",
       "129964  Domaine Ehrhart 2013 Domaine Saint-Rémy Herren...   \n",
       "129965  Domaine Rieflé-Landmann 2013 Seppi Landmann Va...   \n",
       "129966  Dr. H. Thanisch (Erben Müller-Burggraef) 2013 ...   \n",
       "129967                  Citation 2004 Pinot Noir (Oregon)   \n",
       "129968  Domaine Gresser 2013 Kritt Gewurztraminer (Als...   \n",
       "129969      Domaine Marcel Deiss 2012 Pinot Gris (Alsace)   \n",
       "129970  Domaine Schoffit 2012 Lieu-dit Harth Cuvée Car...   \n",
       "\n",
       "                         variety                                    winery  \n",
       "0                    White Blend                                   Nicosia  \n",
       "1                 Portuguese Red                       Quinta dos Avidagos  \n",
       "3                       Riesling                                St. Julian  \n",
       "5             Tempranillo-Merlot                                    Tandem  \n",
       "6                       Frappato                           Terre di Giurfo  \n",
       "7                 Gewürztraminer                                  Trimbach  \n",
       "8                 Gewürztraminer                               Heinz Eifel  \n",
       "9                     Pinot Gris                        Jean-Baptiste Adam  \n",
       "10            Cabernet Sauvignon                        Kirkland Signature  \n",
       "11                Gewürztraminer                                Leon Beyer  \n",
       "12            Cabernet Sauvignon                          Louis M. Martini  \n",
       "13             Nerello Mascalese                       Masseria Setteporte  \n",
       "15                      Riesling                           Richard Böcking  \n",
       "16                        Malbec                             Felix Lavaque  \n",
       "17                        Malbec                             Gaucho Andino  \n",
       "18             Tempranillo Blend                                  Pradorey  \n",
       "19                      Meritage                               Quiévremont  \n",
       "20                     Red Blend                               Quiévremont  \n",
       "21                    Pinot Noir                                   Acrobat  \n",
       "22                   White Blend                        Baglio di Pianetto  \n",
       "23                        Merlot                                   Bianchi  \n",
       "24                  Nero d'Avola                                 Canicattì  \n",
       "25                    Pinot Noir                       Castello di Amorosa  \n",
       "26                   White Blend                                  Stemmari  \n",
       "27                  Nero d'Avola                                  Stemmari  \n",
       "28                     Red Blend                           Terre di Giurfo  \n",
       "29                  Chenin Blanc                   Clarksburg Wine Company  \n",
       "30                         Gamay                      Domaine de la Madone  \n",
       "31                     Red Blend                        Duca di Salaparuta  \n",
       "32                   White Blend                        Duca di Salaparuta  \n",
       "...                          ...                                       ...  \n",
       "129941                Chardonnay                                   Apriori  \n",
       "129942        Cabernet Sauvignon                                  Arrowood  \n",
       "129943                 Red Blend           Baglio del Cristo di Campobello  \n",
       "129944                    Shiraz                                    Barkan  \n",
       "129945              Chenin Blanc                                 Birichino  \n",
       "129946                  Riesling              Bischöfliche Weingüter Trier  \n",
       "129947                 Red Blend                  Feudo Principi di Butera  \n",
       "129948                    Malbec                           Finca Las Moras  \n",
       "129949                Chardonnay                             Flora Springs  \n",
       "129950                 Zinfandel                                    Hendry  \n",
       "129951            Gewürztraminer                         Henri Schoenheitz  \n",
       "129952                 Zinfandel                                   Houdini  \n",
       "129953           Cabernet Merlot                                Mills Reef  \n",
       "129954                Pinot Gris                                       Ara  \n",
       "129955                Chardonnay                                 Dog Point  \n",
       "129956  Bordeaux-style Red Blend                                Esk Valley  \n",
       "129957         Tempranillo Blend                        Viñedos Real Rubio  \n",
       "129958  Bordeaux-style Red Blend                                    Babich  \n",
       "129959                Pinot Gris                         Cave de Turckheim  \n",
       "129960                Pinot Noir                       Caves Transmontanas  \n",
       "129961                  Frappato                                       COS  \n",
       "129962              Nero d'Avola                                  Cusumano  \n",
       "129963        Cabernet Sauvignon                                    Dalton  \n",
       "129964            Gewürztraminer                           Domaine Ehrhart  \n",
       "129965                Pinot Gris                   Domaine Rieflé-Landmann  \n",
       "129966                  Riesling  Dr. H. Thanisch (Erben Müller-Burggraef)  \n",
       "129967                Pinot Noir                                  Citation  \n",
       "129968            Gewürztraminer                           Domaine Gresser  \n",
       "129969                Pinot Gris                      Domaine Marcel Deiss  \n",
       "129970            Gewürztraminer                          Domaine Schoffit  \n",
       "\n",
       "[115123 rows x 13 columns]"
      ]
     },
     "execution_count": 77,
     "metadata": {},
     "output_type": "execute_result"
    }
   ],
   "source": [
    "wine[(wine['region_1']) != (wine['region_2'])]"
   ]
  },
  {
   "cell_type": "code",
   "execution_count": 79,
   "metadata": {},
   "outputs": [
    {
     "data": {
      "text/html": [
       "<div>\n",
       "<style scoped>\n",
       "    .dataframe tbody tr th:only-of-type {\n",
       "        vertical-align: middle;\n",
       "    }\n",
       "\n",
       "    .dataframe tbody tr th {\n",
       "        vertical-align: top;\n",
       "    }\n",
       "\n",
       "    .dataframe thead th {\n",
       "        text-align: right;\n",
       "    }\n",
       "</style>\n",
       "<table border=\"1\" class=\"dataframe\">\n",
       "  <thead>\n",
       "    <tr style=\"text-align: right;\">\n",
       "      <th></th>\n",
       "      <th>country</th>\n",
       "      <th>description</th>\n",
       "      <th>designation</th>\n",
       "      <th>points</th>\n",
       "      <th>price</th>\n",
       "      <th>province</th>\n",
       "      <th>region_1</th>\n",
       "      <th>region_2</th>\n",
       "      <th>taster_name</th>\n",
       "      <th>taster_twitter_handle</th>\n",
       "      <th>title</th>\n",
       "      <th>variety</th>\n",
       "      <th>winery</th>\n",
       "      <th>region</th>\n",
       "    </tr>\n",
       "  </thead>\n",
       "  <tbody>\n",
       "    <tr>\n",
       "      <th>0</th>\n",
       "      <td>Italy</td>\n",
       "      <td>Aromas include tropical fruit, broom, brimston...</td>\n",
       "      <td>Vulkà Bianco</td>\n",
       "      <td>87</td>\n",
       "      <td>NaN</td>\n",
       "      <td>Sicily &amp; Sardinia</td>\n",
       "      <td>Etna</td>\n",
       "      <td>NaN</td>\n",
       "      <td>Kerin O’Keefe</td>\n",
       "      <td>@kerinokeefe</td>\n",
       "      <td>Nicosia 2013 Vulkà Bianco  (Etna)</td>\n",
       "      <td>White Blend</td>\n",
       "      <td>Nicosia</td>\n",
       "      <td>Etna</td>\n",
       "    </tr>\n",
       "    <tr>\n",
       "      <th>1</th>\n",
       "      <td>Portugal</td>\n",
       "      <td>This is ripe and fruity, a wine that is smooth...</td>\n",
       "      <td>Avidagos</td>\n",
       "      <td>87</td>\n",
       "      <td>15.0</td>\n",
       "      <td>Douro</td>\n",
       "      <td>NaN</td>\n",
       "      <td>NaN</td>\n",
       "      <td>Roger Voss</td>\n",
       "      <td>@vossroger</td>\n",
       "      <td>Quinta dos Avidagos 2011 Avidagos Red (Douro)</td>\n",
       "      <td>Portuguese Red</td>\n",
       "      <td>Quinta dos Avidagos</td>\n",
       "      <td>Douro</td>\n",
       "    </tr>\n",
       "    <tr>\n",
       "      <th>2</th>\n",
       "      <td>US</td>\n",
       "      <td>Tart and snappy, the flavors of lime flesh and...</td>\n",
       "      <td>NaN</td>\n",
       "      <td>87</td>\n",
       "      <td>14.0</td>\n",
       "      <td>Oregon</td>\n",
       "      <td>Willamette Valley</td>\n",
       "      <td>Willamette Valley</td>\n",
       "      <td>Paul Gregutt</td>\n",
       "      <td>@paulgwine</td>\n",
       "      <td>Rainstorm 2013 Pinot Gris (Willamette Valley)</td>\n",
       "      <td>Pinot Gris</td>\n",
       "      <td>Rainstorm</td>\n",
       "      <td>Willamette Valley</td>\n",
       "    </tr>\n",
       "    <tr>\n",
       "      <th>3</th>\n",
       "      <td>US</td>\n",
       "      <td>Pineapple rind, lemon pith and orange blossom ...</td>\n",
       "      <td>Reserve Late Harvest</td>\n",
       "      <td>87</td>\n",
       "      <td>13.0</td>\n",
       "      <td>Michigan</td>\n",
       "      <td>Lake Michigan Shore</td>\n",
       "      <td>NaN</td>\n",
       "      <td>Alexander Peartree</td>\n",
       "      <td>NaN</td>\n",
       "      <td>St. Julian 2013 Reserve Late Harvest Riesling ...</td>\n",
       "      <td>Riesling</td>\n",
       "      <td>St. Julian</td>\n",
       "      <td>Lake Michigan Shore</td>\n",
       "    </tr>\n",
       "    <tr>\n",
       "      <th>4</th>\n",
       "      <td>US</td>\n",
       "      <td>Much like the regular bottling from 2012, this...</td>\n",
       "      <td>Vintner's Reserve Wild Child Block</td>\n",
       "      <td>87</td>\n",
       "      <td>65.0</td>\n",
       "      <td>Oregon</td>\n",
       "      <td>Willamette Valley</td>\n",
       "      <td>Willamette Valley</td>\n",
       "      <td>Paul Gregutt</td>\n",
       "      <td>@paulgwine</td>\n",
       "      <td>Sweet Cheeks 2012 Vintner's Reserve Wild Child...</td>\n",
       "      <td>Pinot Noir</td>\n",
       "      <td>Sweet Cheeks</td>\n",
       "      <td>Willamette Valley</td>\n",
       "    </tr>\n",
       "  </tbody>\n",
       "</table>\n",
       "</div>"
      ],
      "text/plain": [
       "    country                                        description  \\\n",
       "0     Italy  Aromas include tropical fruit, broom, brimston...   \n",
       "1  Portugal  This is ripe and fruity, a wine that is smooth...   \n",
       "2        US  Tart and snappy, the flavors of lime flesh and...   \n",
       "3        US  Pineapple rind, lemon pith and orange blossom ...   \n",
       "4        US  Much like the regular bottling from 2012, this...   \n",
       "\n",
       "                          designation  points  price           province  \\\n",
       "0                        Vulkà Bianco      87    NaN  Sicily & Sardinia   \n",
       "1                            Avidagos      87   15.0              Douro   \n",
       "2                                 NaN      87   14.0             Oregon   \n",
       "3                Reserve Late Harvest      87   13.0           Michigan   \n",
       "4  Vintner's Reserve Wild Child Block      87   65.0             Oregon   \n",
       "\n",
       "              region_1           region_2         taster_name  \\\n",
       "0                 Etna                NaN       Kerin O’Keefe   \n",
       "1                  NaN                NaN          Roger Voss   \n",
       "2    Willamette Valley  Willamette Valley        Paul Gregutt   \n",
       "3  Lake Michigan Shore                NaN  Alexander Peartree   \n",
       "4    Willamette Valley  Willamette Valley        Paul Gregutt   \n",
       "\n",
       "  taster_twitter_handle                                              title  \\\n",
       "0          @kerinokeefe                  Nicosia 2013 Vulkà Bianco  (Etna)   \n",
       "1            @vossroger      Quinta dos Avidagos 2011 Avidagos Red (Douro)   \n",
       "2           @paulgwine       Rainstorm 2013 Pinot Gris (Willamette Valley)   \n",
       "3                   NaN  St. Julian 2013 Reserve Late Harvest Riesling ...   \n",
       "4           @paulgwine   Sweet Cheeks 2012 Vintner's Reserve Wild Child...   \n",
       "\n",
       "          variety               winery               region  \n",
       "0     White Blend              Nicosia                 Etna  \n",
       "1  Portuguese Red  Quinta dos Avidagos                Douro  \n",
       "2      Pinot Gris            Rainstorm    Willamette Valley  \n",
       "3        Riesling           St. Julian  Lake Michigan Shore  \n",
       "4      Pinot Noir         Sweet Cheeks    Willamette Valley  "
      ]
     },
     "execution_count": 79,
     "metadata": {},
     "output_type": "execute_result"
    }
   ],
   "source": [
    "def name_split(string):\n",
    "   brian = string.split(sep='(')\n",
    "   brian1 = brian[-1].split(sep=')')\n",
    "   return brian1[0]\n",
    "wine['region'] = wine['title'].map(name_split)\n",
    "wine.head()"
   ]
  },
  {
   "cell_type": "code",
   "execution_count": 47,
   "metadata": {},
   "outputs": [
    {
     "data": {
      "text/plain": [
       "['Domaine de la Madone 2012 Nouveau  (Beaujolais-Villages)',\n",
       " \"Duca di Salaparuta 2010 Calanìca Nero d'Avola-Merlot Red (Sicilia)\",\n",
       " 'Duca di Salaparuta 2011 Calanìca Grillo-Viognier White (Sicilia)',\n",
       " 'Envolve 2010 Puma Springs Vineyard Red (Dry Creek Valley)',\n",
       " 'Envolve 2011 Sauvignon Blanc (Sonoma Valley)',\n",
       " 'Erath 2010 Hyland Pinot Noir (McMinnville)',\n",
       " 'Estampa 2011 Estate Viognier-Chardonnay (Colchagua Valley)',\n",
       " 'Feudi del Pisciotto 2010 Missoni Cabernet Sauvignon (Sicilia)',\n",
       " 'Feudi di San Marzano 2011 I Tratturi Primitivo (Puglia)',\n",
       " \"Feudo di Santa Tresa 2011 Purato Made With Organic Grapes Nero d'Avola (Sicilia)\",\n",
       " 'Feudo Montoni 2011 Catarratto (Sicilia)',\n",
       " 'Hawkins Cellars 2009 Pinot Noir (Willamette Valley)',\n",
       " 'Henry Fessy 2012 Nouveau  (Beaujolais)',\n",
       " 'Robert Hall 2011 Sauvignon Blanc (Paso Robles)',\n",
       " 'Sundance 2011 Merlot (Maule Valley)']"
      ]
     },
     "execution_count": 47,
     "metadata": {},
     "output_type": "execute_result"
    }
   ],
   "source": [
    "list(wine.title[30:45])\n",
    "\n",
    "#looking to pull year of vintage out of the title\n",
    "#also inside parenthesis is the Region, can use this to fill in NaN values"
   ]
  },
  {
   "cell_type": "code",
   "execution_count": 48,
   "metadata": {},
   "outputs": [
    {
     "data": {
      "text/plain": [
       "0               [Nicosia, 2013, Vulkà, Bianco, (Etna)]\n",
       "1    [Quinta, dos, Avidagos, 2011, Avidagos, Red, (...\n",
       "2    [Rainstorm, 2013, Pinot, Gris, (Willamette, Va...\n",
       "3    [St., Julian, 2013, Reserve, Late, Harvest, Ri...\n",
       "Name: title, dtype: object"
      ]
     },
     "execution_count": 48,
     "metadata": {},
     "output_type": "execute_result"
    }
   ],
   "source": [
    "wine['title'].str.split()[:4]"
   ]
  },
  {
   "cell_type": "code",
   "execution_count": 49,
   "metadata": {},
   "outputs": [
    {
     "data": {
      "text/plain": [
       "0         (Etna)\n",
       "1       Avidagos\n",
       "2    (Willamette\n",
       "3           Late\n",
       "Name: title, dtype: object"
      ]
     },
     "execution_count": 49,
     "metadata": {},
     "output_type": "execute_result"
    }
   ],
   "source": [
    "wine['title'].str.split().str.get(4)[:4]"
   ]
  },
  {
   "cell_type": "code",
   "execution_count": 50,
   "metadata": {},
   "outputs": [
    {
     "data": {
      "text/plain": [
       "[2012]"
      ]
     },
     "execution_count": 50,
     "metadata": {},
     "output_type": "execute_result"
    }
   ],
   "source": [
    "[int(s) for s in wine['title'].str.split()[4] if s.isdigit()]"
   ]
  },
  {
   "cell_type": "code",
   "execution_count": 51,
   "metadata": {},
   "outputs": [],
   "source": [
    "wine['title'] = wine['title'].astype(str)"
   ]
  },
  {
   "cell_type": "code",
   "execution_count": 52,
   "metadata": {},
   "outputs": [],
   "source": [
    "wine['year'] = wine.title.str.extract('(\\d{4})')"
   ]
  },
  {
   "cell_type": "code",
   "execution_count": 53,
   "metadata": {},
   "outputs": [
    {
     "data": {
      "text/plain": [
       "0    2013\n",
       "1    2011\n",
       "2    2013\n",
       "3    2013\n",
       "4    2012\n",
       "Name: year, dtype: object"
      ]
     },
     "execution_count": 53,
     "metadata": {},
     "output_type": "execute_result"
    }
   ],
   "source": [
    "wine['year'].head()"
   ]
  },
  {
   "cell_type": "code",
   "execution_count": 54,
   "metadata": {},
   "outputs": [
    {
     "data": {
      "text/plain": [
       "<matplotlib.axes._subplots.AxesSubplot at 0x1a31de2898>"
      ]
     },
     "execution_count": 54,
     "metadata": {},
     "output_type": "execute_result"
    },
    {
     "data": {
      "image/png": "[encoded data removed]",
      "text/plain": [
       "<Figure size 432x288 with 1 Axes>"
      ]
     },
     "metadata": {},
     "output_type": "display_data"
    }
   ],
   "source": [
    "sns.countplot(wine['points']) "
   ]
  },
  {
   "cell_type": "code",
   "execution_count": 55,
   "metadata": {},
   "outputs": [
    {
     "data": {
      "image/png": "[encoded data removed]",
      "text/plain": [
       "<Figure size 432x288 with 1 Axes>"
      ]
     },
     "metadata": {},
     "output_type": "display_data"
    }
   ],
   "source": [
    "ax = sns.barplot(x=\"points\", y=\"price\", data=wine[wine['points']>88.5])"
   ]
  },
  {
   "cell_type": "code",
   "execution_count": 56,
   "metadata": {},
   "outputs": [
    {
     "data": {
      "image/png": "[encoded data removed]",
      "text/plain": [
       "<Figure size 432x288 with 1 Axes>"
      ]
     },
     "metadata": {},
     "output_type": "display_data"
    }
   ],
   "source": [
    "ax = sns.barplot(x=\"points\", y=\"price\", data=wine[wine['points']<88.5])"
   ]
  },
  {
   "cell_type": "code",
   "execution_count": 57,
   "metadata": {},
   "outputs": [
    {
     "name": "stdout",
     "output_type": "stream",
     "text": [
      "<class 'pandas.core.frame.DataFrame'>\n",
      "Int64Index: 129971 entries, 0 to 129970\n",
      "Data columns (total 14 columns):\n",
      "country                  129971 non-null object\n",
      "description              129971 non-null object\n",
      "designation              92506 non-null object\n",
      "points                   129971 non-null int64\n",
      "price                    120975 non-null float64\n",
      "province                 129908 non-null object\n",
      "region_1                 108724 non-null object\n",
      "region_2                 50511 non-null object\n",
      "taster_name              103727 non-null object\n",
      "taster_twitter_handle    98758 non-null object\n",
      "title                    129971 non-null object\n",
      "variety                  129971 non-null object\n",
      "winery                   129971 non-null object\n",
      "year                     125331 non-null datetime64[ns]\n",
      "dtypes: datetime64[ns](1), float64(1), int64(1), object(11)\n",
      "memory usage: 19.9+ MB\n"
     ]
    }
   ],
   "source": [
    "from datetime import datetime\n",
    "wine['year'] = pd.to_datetime(wine.year, errors = 'coerce')\n",
    "wine.info()\n",
    "wine['year']= wine.year.dt.year"
   ]
  },
  {
   "cell_type": "code",
   "execution_count": 60,
   "metadata": {},
   "outputs": [
    {
     "data": {
      "image/png": "[encoded data removed]",
      "text/plain": [
       "<Figure size 432x288 with 1 Axes>"
      ]
     },
     "metadata": {},
     "output_type": "display_data"
    }
   ],
   "source": [
    "ax = sns.barplot(x=\"year\", y=\"price\", data=wine[wine['year']>2007])"
   ]
  },
  {
   "cell_type": "markdown",
   "metadata": {},
   "source": [
    "### Working with NLP and textblob on wine description "
   ]
  },
  {
   "cell_type": "code",
   "execution_count": 61,
   "metadata": {},
   "outputs": [],
   "source": [
    "from nltk.tokenize import word_tokenize\n",
    "import nltk\n",
    "from nltk.tokenize import sent_tokenize\n",
    "import re"
   ]
  },
  {
   "cell_type": "code",
   "execution_count": 62,
   "metadata": {
    "scrolled": true
   },
   "outputs": [
    {
     "data": {
      "text/plain": [
       "'Pineapple rind, lemon pith and orange blossom start off the aromas. The palate is a bit more opulent, with notes of honey-drizzled guava and mango giving way to a slightly astringent, semidry finish.'"
      ]
     },
     "execution_count": 62,
     "metadata": {},
     "output_type": "execute_result"
    }
   ],
   "source": [
    "wine.description[3]"
   ]
  },
  {
   "cell_type": "code",
   "execution_count": 63,
   "metadata": {},
   "outputs": [],
   "source": [
    "review = wine.description[3]"
   ]
  },
  {
   "cell_type": "code",
   "execution_count": 84,
   "metadata": {
    "scrolled": true
   },
   "outputs": [],
   "source": [
    "analysis = TextBlob(review)"
   ]
  },
  {
   "cell_type": "code",
   "execution_count": 67,
   "metadata": {},
   "outputs": [
    {
     "data": {
      "text/plain": [
       "WordList(['pineapple', 'lemon pith', 'orange blossom', 'semidry finish'])"
      ]
     },
     "execution_count": 67,
     "metadata": {},
     "output_type": "execute_result"
    }
   ],
   "source": [
    "analysis.noun_phrases"
   ]
  },
  {
   "cell_type": "code",
   "execution_count": 68,
   "metadata": {},
   "outputs": [
    {
     "data": {
      "text/plain": [
       "Sentiment(polarity=0.16666666666666669, subjectivity=0.3333333333333333)"
      ]
     },
     "execution_count": 68,
     "metadata": {},
     "output_type": "execute_result"
    }
   ],
   "source": [
    "analysis.sentiment"
   ]
  },
  {
   "cell_type": "code",
   "execution_count": 69,
   "metadata": {},
   "outputs": [],
   "source": [
    "def polarity_calc(text):\n",
    "    try:\n",
    "        return TextBlob(text).sentiment.polarity\n",
    "    except:\n",
    "        return None"
   ]
  },
  {
   "cell_type": "code",
   "execution_count": 70,
   "metadata": {},
   "outputs": [],
   "source": [
    "def subjectivity_calc(text):\n",
    "    try:\n",
    "        return TextBlob(text).sentiment.subjectivity\n",
    "    except:\n",
    "        return None"
   ]
  },
  {
   "cell_type": "code",
   "execution_count": 71,
   "metadata": {},
   "outputs": [],
   "source": [
    "wine['polarity'] = wine['description'].apply(polarity_calc)\n",
    "wine['subjectivity'] = wine['description'].apply(subjectivity_calc)"
   ]
  },
  {
   "cell_type": "code",
   "execution_count": 72,
   "metadata": {
    "scrolled": true
   },
   "outputs": [
    {
     "data": {
      "text/html": [
       "<div>\n",
       "<style scoped>\n",
       "    .dataframe tbody tr th:only-of-type {\n",
       "        vertical-align: middle;\n",
       "    }\n",
       "\n",
       "    .dataframe tbody tr th {\n",
       "        vertical-align: top;\n",
       "    }\n",
       "\n",
       "    .dataframe thead th {\n",
       "        text-align: right;\n",
       "    }\n",
       "</style>\n",
       "<table border=\"1\" class=\"dataframe\">\n",
       "  <thead>\n",
       "    <tr style=\"text-align: right;\">\n",
       "      <th></th>\n",
       "      <th>polarity</th>\n",
       "      <th>subjectivity</th>\n",
       "    </tr>\n",
       "  </thead>\n",
       "  <tbody>\n",
       "    <tr>\n",
       "      <th>0</th>\n",
       "      <td>0.133333</td>\n",
       "      <td>0.733333</td>\n",
       "    </tr>\n",
       "    <tr>\n",
       "      <th>1</th>\n",
       "      <td>0.220000</td>\n",
       "      <td>0.460000</td>\n",
       "    </tr>\n",
       "    <tr>\n",
       "      <th>2</th>\n",
       "      <td>0.025000</td>\n",
       "      <td>0.358333</td>\n",
       "    </tr>\n",
       "    <tr>\n",
       "      <th>3</th>\n",
       "      <td>0.166667</td>\n",
       "      <td>0.333333</td>\n",
       "    </tr>\n",
       "    <tr>\n",
       "      <th>4</th>\n",
       "      <td>0.306667</td>\n",
       "      <td>0.448718</td>\n",
       "    </tr>\n",
       "  </tbody>\n",
       "</table>\n",
       "</div>"
      ],
      "text/plain": [
       "   polarity  subjectivity\n",
       "0  0.133333      0.733333\n",
       "1  0.220000      0.460000\n",
       "2  0.025000      0.358333\n",
       "3  0.166667      0.333333\n",
       "4  0.306667      0.448718"
      ]
     },
     "execution_count": 72,
     "metadata": {},
     "output_type": "execute_result"
    }
   ],
   "source": [
    "wine[['polarity', 'subjectivity']].head()"
   ]
  },
  {
   "cell_type": "code",
   "execution_count": 73,
   "metadata": {
    "scrolled": true
   },
   "outputs": [
    {
     "data": {
      "text/html": [
       "<div>\n",
       "<style scoped>\n",
       "    .dataframe tbody tr th:only-of-type {\n",
       "        vertical-align: middle;\n",
       "    }\n",
       "\n",
       "    .dataframe tbody tr th {\n",
       "        vertical-align: top;\n",
       "    }\n",
       "\n",
       "    .dataframe thead th {\n",
       "        text-align: right;\n",
       "    }\n",
       "</style>\n",
       "<table border=\"1\" class=\"dataframe\">\n",
       "  <thead>\n",
       "    <tr style=\"text-align: right;\">\n",
       "      <th></th>\n",
       "      <th>polarity</th>\n",
       "      <th>subjectivity</th>\n",
       "    </tr>\n",
       "  </thead>\n",
       "  <tbody>\n",
       "    <tr>\n",
       "      <th>count</th>\n",
       "      <td>129971.000000</td>\n",
       "      <td>129971.000000</td>\n",
       "    </tr>\n",
       "    <tr>\n",
       "      <th>mean</th>\n",
       "      <td>0.156991</td>\n",
       "      <td>0.496492</td>\n",
       "    </tr>\n",
       "    <tr>\n",
       "      <th>std</th>\n",
       "      <td>0.170302</td>\n",
       "      <td>0.151836</td>\n",
       "    </tr>\n",
       "    <tr>\n",
       "      <th>min</th>\n",
       "      <td>-0.800000</td>\n",
       "      <td>0.000000</td>\n",
       "    </tr>\n",
       "    <tr>\n",
       "      <th>25%</th>\n",
       "      <td>0.042857</td>\n",
       "      <td>0.401886</td>\n",
       "    </tr>\n",
       "    <tr>\n",
       "      <th>50%</th>\n",
       "      <td>0.154167</td>\n",
       "      <td>0.500000</td>\n",
       "    </tr>\n",
       "    <tr>\n",
       "      <th>75%</th>\n",
       "      <td>0.266667</td>\n",
       "      <td>0.593788</td>\n",
       "    </tr>\n",
       "    <tr>\n",
       "      <th>max</th>\n",
       "      <td>1.000000</td>\n",
       "      <td>1.000000</td>\n",
       "    </tr>\n",
       "  </tbody>\n",
       "</table>\n",
       "</div>"
      ],
      "text/plain": [
       "            polarity   subjectivity\n",
       "count  129971.000000  129971.000000\n",
       "mean        0.156991       0.496492\n",
       "std         0.170302       0.151836\n",
       "min        -0.800000       0.000000\n",
       "25%         0.042857       0.401886\n",
       "50%         0.154167       0.500000\n",
       "75%         0.266667       0.593788\n",
       "max         1.000000       1.000000"
      ]
     },
     "execution_count": 73,
     "metadata": {},
     "output_type": "execute_result"
    }
   ],
   "source": [
    "wine[['polarity', 'subjectivity']].describe()"
   ]
  },
  {
   "cell_type": "code",
   "execution_count": 104,
   "metadata": {},
   "outputs": [
    {
     "name": "stdout",
     "output_type": "stream",
     "text": [
      "fruity wine\n"
     ]
    }
   ],
   "source": [
    "if re.search(r'fruit.',wine.description[8]):\n",
    "        print(\"fruity wine\")\n",
    "    "
   ]
  },
  {
   "cell_type": "code",
   "execution_count": 105,
   "metadata": {},
   "outputs": [
    {
     "data": {
      "text/plain": [
       "\"Savory dried thyme notes accent sunnier flavors of preserved peach in this brisk, off-dry wine. It's fruity and fresh, with an elegant, sprightly footprint.\""
      ]
     },
     "execution_count": 105,
     "metadata": {},
     "output_type": "execute_result"
    }
   ],
   "source": [
    "wine.description[8]"
   ]
  },
  {
   "cell_type": "code",
   "execution_count": 119,
   "metadata": {},
   "outputs": [
    {
     "data": {
      "text/plain": [
       "'Nose-tickling brown spice coats a black cherry and vanilla ice cream frame on this richly layered wine. The palate shows fragrant cherries and blackberries, spiced up with cinnamon and clove, surrounding a leathery core and offering a deep, long finish.'"
      ]
     },
     "execution_count": 119,
     "metadata": {},
     "output_type": "execute_result"
    }
   ],
   "source": [
    "wine.description[78000]"
   ]
  },
  {
   "cell_type": "code",
   "execution_count": 121,
   "metadata": {},
   "outputs": [],
   "source": [
    "vect = CountVectorizer()"
   ]
  },
  {
   "cell_type": "code",
   "execution_count": 122,
   "metadata": {},
   "outputs": [],
   "source": [
    "X = vect.fit_transform(wine.description)"
   ]
  },
  {
   "cell_type": "code",
   "execution_count": 123,
   "metadata": {},
   "outputs": [
    {
     "data": {
      "text/plain": [
       "<129971x31275 sparse matrix of type '<class 'numpy.int64'>'\n",
       "\twith 4475479 stored elements in Compressed Sparse Row format>"
      ]
     },
     "execution_count": 123,
     "metadata": {},
     "output_type": "execute_result"
    }
   ],
   "source": [
    "X"
   ]
  },
  {
   "cell_type": "code",
   "execution_count": 124,
   "metadata": {},
   "outputs": [],
   "source": [
    "X_vino = X.toarray()"
   ]
  },
  {
   "cell_type": "code",
   "execution_count": 125,
   "metadata": {},
   "outputs": [],
   "source": [
    "names = vect.get_feature_names()\n",
    "words = pd.DataFrame(X_vino, columns = names)"
   ]
  },
  {
   "cell_type": "code",
   "execution_count": null,
   "metadata": {},
   "outputs": [],
   "source": []
  }
 ],
 "metadata": {
  "kernelspec": {
   "display_name": "Python 3",
   "language": "python",
   "name": "python3"
  },
  "language_info": {
   "codemirror_mode": {
    "name": "ipython",
    "version": 3
   },
   "file_extension": ".py",
   "mimetype": "text/x-python",
   "name": "python",
   "nbconvert_exporter": "python",
   "pygments_lexer": "ipython3",
   "version": "3.6.5"
  }
 },
 "nbformat": 4,
 "nbformat_minor": 2
}
