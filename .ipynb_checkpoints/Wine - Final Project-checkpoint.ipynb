{
 "cells": [
  {
   "cell_type": "code",
   "execution_count": 1,
   "metadata": {
    "scrolled": false
   },
   "outputs": [
    {
     "name": "stderr",
     "output_type": "stream",
     "text": [
      "/Users/brianlouie/anaconda3/lib/python3.6/site-packages/pandas_profiling/plot.py:15: UserWarning: \n",
      "This call to matplotlib.use() has no effect because the backend has already\n",
      "been chosen; matplotlib.use() must be called *before* pylab, matplotlib.pyplot,\n",
      "or matplotlib.backends is imported for the first time.\n",
      "\n",
      "The backend was *originally* set to 'module://ipykernel.pylab.backend_inline' by the following code:\n",
      "  File \"/Users/brianlouie/anaconda3/lib/python3.6/runpy.py\", line 193, in _run_module_as_main\n",
      "    \"__main__\", mod_spec)\n",
      "  File \"/Users/brianlouie/anaconda3/lib/python3.6/runpy.py\", line 85, in _run_code\n",
      "    exec(code, run_globals)\n",
      "  File \"/Users/brianlouie/anaconda3/lib/python3.6/site-packages/ipykernel_launcher.py\", line 16, in <module>\n",
      "    app.launch_new_instance()\n",
      "  File \"/Users/brianlouie/anaconda3/lib/python3.6/site-packages/traitlets/config/application.py\", line 658, in launch_instance\n",
      "    app.start()\n",
      "  File \"/Users/brianlouie/anaconda3/lib/python3.6/site-packages/ipykernel/kernelapp.py\", line 486, in start\n",
      "    self.io_loop.start()\n",
      "  File \"/Users/brianlouie/anaconda3/lib/python3.6/site-packages/tornado/platform/asyncio.py\", line 127, in start\n",
      "    self.asyncio_loop.run_forever()\n",
      "  File \"/Users/brianlouie/anaconda3/lib/python3.6/asyncio/base_events.py\", line 422, in run_forever\n",
      "    self._run_once()\n",
      "  File \"/Users/brianlouie/anaconda3/lib/python3.6/asyncio/base_events.py\", line 1432, in _run_once\n",
      "    handle._run()\n",
      "  File \"/Users/brianlouie/anaconda3/lib/python3.6/asyncio/events.py\", line 145, in _run\n",
      "    self._callback(*self._args)\n",
      "  File \"/Users/brianlouie/anaconda3/lib/python3.6/site-packages/tornado/platform/asyncio.py\", line 117, in _handle_events\n",
      "    handler_func(fileobj, events)\n",
      "  File \"/Users/brianlouie/anaconda3/lib/python3.6/site-packages/tornado/stack_context.py\", line 276, in null_wrapper\n",
      "    return fn(*args, **kwargs)\n",
      "  File \"/Users/brianlouie/anaconda3/lib/python3.6/site-packages/zmq/eventloop/zmqstream.py\", line 450, in _handle_events\n",
      "    self._handle_recv()\n",
      "  File \"/Users/brianlouie/anaconda3/lib/python3.6/site-packages/zmq/eventloop/zmqstream.py\", line 480, in _handle_recv\n",
      "    self._run_callback(callback, msg)\n",
      "  File \"/Users/brianlouie/anaconda3/lib/python3.6/site-packages/zmq/eventloop/zmqstream.py\", line 432, in _run_callback\n",
      "    callback(*args, **kwargs)\n",
      "  File \"/Users/brianlouie/anaconda3/lib/python3.6/site-packages/tornado/stack_context.py\", line 276, in null_wrapper\n",
      "    return fn(*args, **kwargs)\n",
      "  File \"/Users/brianlouie/anaconda3/lib/python3.6/site-packages/ipykernel/kernelbase.py\", line 283, in dispatcher\n",
      "    return self.dispatch_shell(stream, msg)\n",
      "  File \"/Users/brianlouie/anaconda3/lib/python3.6/site-packages/ipykernel/kernelbase.py\", line 233, in dispatch_shell\n",
      "    handler(stream, idents, msg)\n",
      "  File \"/Users/brianlouie/anaconda3/lib/python3.6/site-packages/ipykernel/kernelbase.py\", line 399, in execute_request\n",
      "    user_expressions, allow_stdin)\n",
      "  File \"/Users/brianlouie/anaconda3/lib/python3.6/site-packages/ipykernel/ipkernel.py\", line 208, in do_execute\n",
      "    res = shell.run_cell(code, store_history=store_history, silent=silent)\n",
      "  File \"/Users/brianlouie/anaconda3/lib/python3.6/site-packages/ipykernel/zmqshell.py\", line 537, in run_cell\n",
      "    return super(ZMQInteractiveShell, self).run_cell(*args, **kwargs)\n",
      "  File \"/Users/brianlouie/anaconda3/lib/python3.6/site-packages/IPython/core/interactiveshell.py\", line 2662, in run_cell\n",
      "    raw_cell, store_history, silent, shell_futures)\n",
      "  File \"/Users/brianlouie/anaconda3/lib/python3.6/site-packages/IPython/core/interactiveshell.py\", line 2785, in _run_cell\n",
      "    interactivity=interactivity, compiler=compiler, result=result)\n",
      "  File \"/Users/brianlouie/anaconda3/lib/python3.6/site-packages/IPython/core/interactiveshell.py\", line 2903, in run_ast_nodes\n",
      "    if self.run_code(code, result):\n",
      "  File \"/Users/brianlouie/anaconda3/lib/python3.6/site-packages/IPython/core/interactiveshell.py\", line 2963, in run_code\n",
      "    exec(code_obj, self.user_global_ns, self.user_ns)\n",
      "  File \"<ipython-input-1-08b8ae66ed3c>\", line 6, in <module>\n",
      "    get_ipython().run_line_magic('matplotlib', 'inline')\n",
      "  File \"/Users/brianlouie/anaconda3/lib/python3.6/site-packages/IPython/core/interactiveshell.py\", line 2131, in run_line_magic\n",
      "    result = fn(*args,**kwargs)\n",
      "  File \"<decorator-gen-107>\", line 2, in matplotlib\n",
      "  File \"/Users/brianlouie/anaconda3/lib/python3.6/site-packages/IPython/core/magic.py\", line 187, in <lambda>\n",
      "    call = lambda f, *a, **k: f(*a, **k)\n",
      "  File \"/Users/brianlouie/anaconda3/lib/python3.6/site-packages/IPython/core/magics/pylab.py\", line 99, in matplotlib\n",
      "    gui, backend = self.shell.enable_matplotlib(args.gui)\n",
      "  File \"/Users/brianlouie/anaconda3/lib/python3.6/site-packages/IPython/core/interactiveshell.py\", line 3051, in enable_matplotlib\n",
      "    pt.activate_matplotlib(backend)\n",
      "  File \"/Users/brianlouie/anaconda3/lib/python3.6/site-packages/IPython/core/pylabtools.py\", line 311, in activate_matplotlib\n",
      "    matplotlib.pyplot.switch_backend(backend)\n",
      "  File \"/Users/brianlouie/anaconda3/lib/python3.6/site-packages/matplotlib/pyplot.py\", line 233, in switch_backend\n",
      "    _backend_mod, new_figure_manager, draw_if_interactive, _show = pylab_setup()\n",
      "  File \"/Users/brianlouie/anaconda3/lib/python3.6/site-packages/matplotlib/backends/__init__.py\", line 62, in pylab_setup\n",
      "    [backend_name], 0)\n",
      "  File \"/Users/brianlouie/anaconda3/lib/python3.6/site-packages/ipykernel/pylab/backend_inline.py\", line 165, in <module>\n",
      "    _enable_matplotlib_integration()\n",
      "  File \"/Users/brianlouie/anaconda3/lib/python3.6/site-packages/ipykernel/pylab/backend_inline.py\", line 155, in _enable_matplotlib_integration\n",
      "    activate_matplotlib(backend)\n",
      "  File \"/Users/brianlouie/anaconda3/lib/python3.6/site-packages/IPython/core/pylabtools.py\", line 311, in activate_matplotlib\n",
      "    matplotlib.pyplot.switch_backend(backend)\n",
      "  File \"/Users/brianlouie/anaconda3/lib/python3.6/site-packages/matplotlib/pyplot.py\", line 231, in switch_backend\n",
      "    matplotlib.use(newbackend, warn=False, force=True)\n",
      "  File \"/Users/brianlouie/anaconda3/lib/python3.6/site-packages/matplotlib/__init__.py\", line 1410, in use\n",
      "    reload(sys.modules['matplotlib.backends'])\n",
      "  File \"/Users/brianlouie/anaconda3/lib/python3.6/importlib/__init__.py\", line 166, in reload\n",
      "    _bootstrap._exec(spec, module)\n",
      "  File \"/Users/brianlouie/anaconda3/lib/python3.6/site-packages/matplotlib/backends/__init__.py\", line 16, in <module>\n",
      "    line for line in traceback.format_stack()\n",
      "\n",
      "\n",
      "  matplotlib.use(BACKEND)\n"
     ]
    }
   ],
   "source": [
    "import pandas as pd\n",
    "import numpy as np\n",
    "import matplotlib\n",
    "matplotlib.use('Agg')\n",
    "import matplotlib.pyplot as plt\n",
    "%matplotlib inline \n",
    "import pandas_profiling as pp\n",
    "import seaborn as sns\n",
    "\n",
    "from sklearn.linear_model import LogisticRegression, LinearRegression\n",
    "from sklearn.model_selection import train_test_split, GridSearchCV\n",
    "from sklearn.metrics import accuracy_score, precision_score, classification_report\n",
    "from sklearn.pipeline import make_pipeline\n",
    "\n",
    "from sklearn.feature_extraction.text import CountVectorizer, TfidfVectorizer\n",
    "from sklearn.feature_extraction.text import ENGLISH_STOP_WORDS\n",
    "\n",
    "from textblob import TextBlob\n",
    "import spacy\n",
    "from spacy import displacy"
   ]
  },
  {
   "cell_type": "code",
   "execution_count": 100,
   "metadata": {},
   "outputs": [
    {
     "data": {
      "text/html": [
       "<div>\n",
       "<style scoped>\n",
       "    .dataframe tbody tr th:only-of-type {\n",
       "        vertical-align: middle;\n",
       "    }\n",
       "\n",
       "    .dataframe tbody tr th {\n",
       "        vertical-align: top;\n",
       "    }\n",
       "\n",
       "    .dataframe thead th {\n",
       "        text-align: right;\n",
       "    }\n",
       "</style>\n",
       "<table border=\"1\" class=\"dataframe\">\n",
       "  <thead>\n",
       "    <tr style=\"text-align: right;\">\n",
       "      <th></th>\n",
       "      <th>Unnamed: 0</th>\n",
       "      <th>country</th>\n",
       "      <th>description</th>\n",
       "      <th>designation</th>\n",
       "      <th>points</th>\n",
       "      <th>price</th>\n",
       "      <th>province</th>\n",
       "      <th>region_1</th>\n",
       "      <th>region_2</th>\n",
       "      <th>taster_name</th>\n",
       "      <th>taster_twitter_handle</th>\n",
       "      <th>title</th>\n",
       "      <th>variety</th>\n",
       "      <th>winery</th>\n",
       "    </tr>\n",
       "  </thead>\n",
       "  <tbody>\n",
       "    <tr>\n",
       "      <th>0</th>\n",
       "      <td>0</td>\n",
       "      <td>Italy</td>\n",
       "      <td>Aromas include tropical fruit, broom, brimston...</td>\n",
       "      <td>Vulkà Bianco</td>\n",
       "      <td>87</td>\n",
       "      <td>NaN</td>\n",
       "      <td>Sicily &amp; Sardinia</td>\n",
       "      <td>Etna</td>\n",
       "      <td>NaN</td>\n",
       "      <td>Kerin O’Keefe</td>\n",
       "      <td>@kerinokeefe</td>\n",
       "      <td>Nicosia 2013 Vulkà Bianco  (Etna)</td>\n",
       "      <td>White Blend</td>\n",
       "      <td>Nicosia</td>\n",
       "    </tr>\n",
       "    <tr>\n",
       "      <th>1</th>\n",
       "      <td>1</td>\n",
       "      <td>Portugal</td>\n",
       "      <td>This is ripe and fruity, a wine that is smooth...</td>\n",
       "      <td>Avidagos</td>\n",
       "      <td>87</td>\n",
       "      <td>15.0</td>\n",
       "      <td>Douro</td>\n",
       "      <td>NaN</td>\n",
       "      <td>NaN</td>\n",
       "      <td>Roger Voss</td>\n",
       "      <td>@vossroger</td>\n",
       "      <td>Quinta dos Avidagos 2011 Avidagos Red (Douro)</td>\n",
       "      <td>Portuguese Red</td>\n",
       "      <td>Quinta dos Avidagos</td>\n",
       "    </tr>\n",
       "    <tr>\n",
       "      <th>2</th>\n",
       "      <td>2</td>\n",
       "      <td>US</td>\n",
       "      <td>Tart and snappy, the flavors of lime flesh and...</td>\n",
       "      <td>NaN</td>\n",
       "      <td>87</td>\n",
       "      <td>14.0</td>\n",
       "      <td>Oregon</td>\n",
       "      <td>Willamette Valley</td>\n",
       "      <td>Willamette Valley</td>\n",
       "      <td>Paul Gregutt</td>\n",
       "      <td>@paulgwine</td>\n",
       "      <td>Rainstorm 2013 Pinot Gris (Willamette Valley)</td>\n",
       "      <td>Pinot Gris</td>\n",
       "      <td>Rainstorm</td>\n",
       "    </tr>\n",
       "  </tbody>\n",
       "</table>\n",
       "</div>"
      ],
      "text/plain": [
       "   Unnamed: 0   country                                        description  \\\n",
       "0           0     Italy  Aromas include tropical fruit, broom, brimston...   \n",
       "1           1  Portugal  This is ripe and fruity, a wine that is smooth...   \n",
       "2           2        US  Tart and snappy, the flavors of lime flesh and...   \n",
       "\n",
       "    designation  points  price           province           region_1  \\\n",
       "0  Vulkà Bianco      87    NaN  Sicily & Sardinia               Etna   \n",
       "1      Avidagos      87   15.0              Douro                NaN   \n",
       "2           NaN      87   14.0             Oregon  Willamette Valley   \n",
       "\n",
       "            region_2    taster_name taster_twitter_handle  \\\n",
       "0                NaN  Kerin O’Keefe          @kerinokeefe   \n",
       "1                NaN     Roger Voss            @vossroger   \n",
       "2  Willamette Valley   Paul Gregutt           @paulgwine    \n",
       "\n",
       "                                           title         variety  \\\n",
       "0              Nicosia 2013 Vulkà Bianco  (Etna)     White Blend   \n",
       "1  Quinta dos Avidagos 2011 Avidagos Red (Douro)  Portuguese Red   \n",
       "2  Rainstorm 2013 Pinot Gris (Willamette Valley)      Pinot Gris   \n",
       "\n",
       "                winery  \n",
       "0              Nicosia  \n",
       "1  Quinta dos Avidagos  \n",
       "2            Rainstorm  "
      ]
     },
     "execution_count": 100,
     "metadata": {},
     "output_type": "execute_result"
    }
   ],
   "source": [
    "wine = pd.read_csv('data/winemag-data-130k-v2.csv.zip')\n",
    "wine.head()[:3]"
   ]
  },
  {
   "cell_type": "code",
   "execution_count": 101,
   "metadata": {},
   "outputs": [],
   "source": [
    "wine = pd.read_csv('data/winemag-data-130k-v2.csv.zip', index_col=0)\n",
    "\n",
    "#removed index column from the csv file"
   ]
  },
  {
   "cell_type": "code",
   "execution_count": 102,
   "metadata": {},
   "outputs": [
    {
     "data": {
      "text/plain": [
       "(129971, 13)"
      ]
     },
     "execution_count": 102,
     "metadata": {},
     "output_type": "execute_result"
    }
   ],
   "source": [
    "wine.shape"
   ]
  },
  {
   "cell_type": "code",
   "execution_count": 103,
   "metadata": {},
   "outputs": [
    {
     "data": {
      "text/html": [
       "<div>\n",
       "<style scoped>\n",
       "    .dataframe tbody tr th:only-of-type {\n",
       "        vertical-align: middle;\n",
       "    }\n",
       "\n",
       "    .dataframe tbody tr th {\n",
       "        vertical-align: top;\n",
       "    }\n",
       "\n",
       "    .dataframe thead th {\n",
       "        text-align: right;\n",
       "    }\n",
       "</style>\n",
       "<table border=\"1\" class=\"dataframe\">\n",
       "  <thead>\n",
       "    <tr style=\"text-align: right;\">\n",
       "      <th></th>\n",
       "      <th>country</th>\n",
       "      <th>description</th>\n",
       "      <th>designation</th>\n",
       "      <th>points</th>\n",
       "      <th>price</th>\n",
       "      <th>province</th>\n",
       "      <th>region_1</th>\n",
       "      <th>region_2</th>\n",
       "      <th>taster_name</th>\n",
       "      <th>taster_twitter_handle</th>\n",
       "      <th>title</th>\n",
       "      <th>variety</th>\n",
       "      <th>winery</th>\n",
       "    </tr>\n",
       "  </thead>\n",
       "  <tbody>\n",
       "    <tr>\n",
       "      <th>0</th>\n",
       "      <td>Italy</td>\n",
       "      <td>Aromas include tropical fruit, broom, brimston...</td>\n",
       "      <td>Vulkà Bianco</td>\n",
       "      <td>87</td>\n",
       "      <td>NaN</td>\n",
       "      <td>Sicily &amp; Sardinia</td>\n",
       "      <td>Etna</td>\n",
       "      <td>NaN</td>\n",
       "      <td>Kerin O’Keefe</td>\n",
       "      <td>@kerinokeefe</td>\n",
       "      <td>Nicosia 2013 Vulkà Bianco  (Etna)</td>\n",
       "      <td>White Blend</td>\n",
       "      <td>Nicosia</td>\n",
       "    </tr>\n",
       "    <tr>\n",
       "      <th>1</th>\n",
       "      <td>Portugal</td>\n",
       "      <td>This is ripe and fruity, a wine that is smooth...</td>\n",
       "      <td>Avidagos</td>\n",
       "      <td>87</td>\n",
       "      <td>15.0</td>\n",
       "      <td>Douro</td>\n",
       "      <td>NaN</td>\n",
       "      <td>NaN</td>\n",
       "      <td>Roger Voss</td>\n",
       "      <td>@vossroger</td>\n",
       "      <td>Quinta dos Avidagos 2011 Avidagos Red (Douro)</td>\n",
       "      <td>Portuguese Red</td>\n",
       "      <td>Quinta dos Avidagos</td>\n",
       "    </tr>\n",
       "  </tbody>\n",
       "</table>\n",
       "</div>"
      ],
      "text/plain": [
       "    country                                        description   designation  \\\n",
       "0     Italy  Aromas include tropical fruit, broom, brimston...  Vulkà Bianco   \n",
       "1  Portugal  This is ripe and fruity, a wine that is smooth...      Avidagos   \n",
       "\n",
       "   points  price           province region_1 region_2    taster_name  \\\n",
       "0      87    NaN  Sicily & Sardinia     Etna      NaN  Kerin O’Keefe   \n",
       "1      87   15.0              Douro      NaN      NaN     Roger Voss   \n",
       "\n",
       "  taster_twitter_handle                                          title  \\\n",
       "0          @kerinokeefe              Nicosia 2013 Vulkà Bianco  (Etna)   \n",
       "1            @vossroger  Quinta dos Avidagos 2011 Avidagos Red (Douro)   \n",
       "\n",
       "          variety               winery  \n",
       "0     White Blend              Nicosia  \n",
       "1  Portuguese Red  Quinta dos Avidagos  "
      ]
     },
     "execution_count": 103,
     "metadata": {},
     "output_type": "execute_result"
    }
   ],
   "source": [
    "wine.head()[:2]"
   ]
  },
  {
   "cell_type": "code",
   "execution_count": 104,
   "metadata": {},
   "outputs": [
    {
     "data": {
      "text/plain": [
       "9983"
      ]
     },
     "execution_count": 104,
     "metadata": {},
     "output_type": "execute_result"
    }
   ],
   "source": [
    "wine[wine.duplicated(['description','title'])].shape[0]\n",
    "#9983 descriptions are duplicates"
   ]
  },
  {
   "cell_type": "code",
   "execution_count": 105,
   "metadata": {},
   "outputs": [
    {
     "data": {
      "text/plain": [
       "(119988, 13)"
      ]
     },
     "execution_count": 105,
     "metadata": {},
     "output_type": "execute_result"
    }
   ],
   "source": [
    "wine = wine.drop_duplicates(['description','title'])\n",
    "wine.shape"
   ]
  },
  {
   "cell_type": "code",
   "execution_count": 106,
   "metadata": {},
   "outputs": [
    {
     "data": {
      "text/plain": [
       "region_2                 61.021936\n",
       "designation              28.790379\n",
       "taster_twitter_handle    24.540787\n",
       "taster_name              20.766243\n",
       "region_1                 16.301630\n",
       "price                     6.996533\n",
       "province                  0.049172\n",
       "country                   0.049172\n",
       "variety                   0.000833\n",
       "winery                    0.000000\n",
       "title                     0.000000\n",
       "points                    0.000000\n",
       "description               0.000000\n",
       "dtype: float64"
      ]
     },
     "execution_count": 106,
     "metadata": {},
     "output_type": "execute_result"
    }
   ],
   "source": [
    "wine.isnull().sum().sort_values(ascending=False) / wine.shape[0] * 100\n",
    "\n",
    "#Percentage of null values in each column"
   ]
  },
  {
   "cell_type": "code",
   "execution_count": 37,
   "metadata": {},
   "outputs": [
    {
     "name": "stdout",
     "output_type": "stream",
     "text": [
      "<class 'pandas.core.frame.DataFrame'>\n",
      "Int64Index: 111593 entries, 1 to 129970\n",
      "Data columns (total 13 columns):\n",
      "country                  111538 non-null object\n",
      "description              111593 non-null object\n",
      "designation              79533 non-null object\n",
      "points                   111593 non-null int64\n",
      "price                    111593 non-null float64\n",
      "province                 111538 non-null object\n",
      "region_1                 93580 non-null object\n",
      "region_2                 46568 non-null object\n",
      "taster_name              88320 non-null object\n",
      "taster_twitter_handle    83837 non-null object\n",
      "title                    111593 non-null object\n",
      "variety                  111592 non-null object\n",
      "winery                   111593 non-null object\n",
      "dtypes: float64(1), int64(1), object(11)\n",
      "memory usage: 11.9+ MB\n"
     ]
    },
    {
     "data": {
      "text/plain": [
       "region_2                 58.269784\n",
       "designation              28.729401\n",
       "taster_twitter_handle    24.872528\n",
       "taster_name              20.855251\n",
       "region_1                 16.141693\n",
       "province                  0.049286\n",
       "country                   0.049286\n",
       "variety                   0.000896\n",
       "winery                    0.000000\n",
       "title                     0.000000\n",
       "price                     0.000000\n",
       "points                    0.000000\n",
       "description               0.000000\n",
       "dtype: float64"
      ]
     },
     "execution_count": 37,
     "metadata": {},
     "output_type": "execute_result"
    }
   ],
   "source": [
    "wine = wine.dropna(subset=['price'])\n",
    "wine.info()\n",
    "wine.isnull().sum().sort_values(ascending=False) / wine.shape[0] * 100"
   ]
  },
  {
   "cell_type": "code",
   "execution_count": 107,
   "metadata": {},
   "outputs": [
    {
     "data": {
      "text/html": [
       "<div>\n",
       "<style scoped>\n",
       "    .dataframe tbody tr th:only-of-type {\n",
       "        vertical-align: middle;\n",
       "    }\n",
       "\n",
       "    .dataframe tbody tr th {\n",
       "        vertical-align: top;\n",
       "    }\n",
       "\n",
       "    .dataframe thead th {\n",
       "        text-align: right;\n",
       "    }\n",
       "</style>\n",
       "<table border=\"1\" class=\"dataframe\">\n",
       "  <thead>\n",
       "    <tr style=\"text-align: right;\">\n",
       "      <th></th>\n",
       "      <th>designation</th>\n",
       "      <th>title</th>\n",
       "    </tr>\n",
       "  </thead>\n",
       "  <tbody>\n",
       "    <tr>\n",
       "      <th>68</th>\n",
       "      <td>NaN</td>\n",
       "      <td>Cocobon 2014 Red (California)</td>\n",
       "    </tr>\n",
       "    <tr>\n",
       "      <th>70</th>\n",
       "      <td>NaN</td>\n",
       "      <td>Drumheller 2014 Chardonnay (Columbia Valley (WA))</td>\n",
       "    </tr>\n",
       "    <tr>\n",
       "      <th>76</th>\n",
       "      <td>NaN</td>\n",
       "      <td>Schmitt Söhne 2015 Riesling (Rheinhessen)</td>\n",
       "    </tr>\n",
       "    <tr>\n",
       "      <th>81</th>\n",
       "      <td>NaN</td>\n",
       "      <td>Spyro 2014 Albariño (Rías Baixas)</td>\n",
       "    </tr>\n",
       "    <tr>\n",
       "      <th>86</th>\n",
       "      <td>NaN</td>\n",
       "      <td>Palencia 2016 Albariño (Ancient Lakes)</td>\n",
       "    </tr>\n",
       "    <tr>\n",
       "      <th>89</th>\n",
       "      <td>NaN</td>\n",
       "      <td>Fattoria Sardi 2015 Rosato (Toscana)</td>\n",
       "    </tr>\n",
       "    <tr>\n",
       "      <th>91</th>\n",
       "      <td>NaN</td>\n",
       "      <td>Folie à Deux 2015 Pinot Gris (Sonoma Coast)</td>\n",
       "    </tr>\n",
       "    <tr>\n",
       "      <th>93</th>\n",
       "      <td>NaN</td>\n",
       "      <td>Fuchs 2015 Grüner Veltliner (Burgenland)</td>\n",
       "    </tr>\n",
       "    <tr>\n",
       "      <th>95</th>\n",
       "      <td>NaN</td>\n",
       "      <td>Henry Fessy 2015  Juliénas</td>\n",
       "    </tr>\n",
       "    <tr>\n",
       "      <th>96</th>\n",
       "      <td>NaN</td>\n",
       "      <td>Henry Fessy 2015  Régnié</td>\n",
       "    </tr>\n",
       "  </tbody>\n",
       "</table>\n",
       "</div>"
      ],
      "text/plain": [
       "   designation                                              title\n",
       "68         NaN                      Cocobon 2014 Red (California)\n",
       "70         NaN  Drumheller 2014 Chardonnay (Columbia Valley (WA))\n",
       "76         NaN          Schmitt Söhne 2015 Riesling (Rheinhessen)\n",
       "81         NaN                  Spyro 2014 Albariño (Rías Baixas)\n",
       "86         NaN             Palencia 2016 Albariño (Ancient Lakes)\n",
       "89         NaN               Fattoria Sardi 2015 Rosato (Toscana)\n",
       "91         NaN        Folie à Deux 2015 Pinot Gris (Sonoma Coast)\n",
       "93         NaN           Fuchs 2015 Grüner Veltliner (Burgenland)\n",
       "95         NaN                         Henry Fessy 2015  Juliénas\n",
       "96         NaN                           Henry Fessy 2015  Régnié"
      ]
     },
     "execution_count": 107,
     "metadata": {},
     "output_type": "execute_result"
    }
   ],
   "source": [
    "no_design = wine[wine.designation.isna()]\n",
    "no_design[['designation', 'title']][20:30]\n",
    "\n",
    "#for missing designations looks like Wine type is listed after the year in the title, just before the region"
   ]
  },
  {
   "cell_type": "code",
   "execution_count": 10,
   "metadata": {},
   "outputs": [
    {
     "data": {
      "image/png": "[encoded data removed]",
      "text/plain": [
       "<Figure size 432x288 with 1 Axes>"
      ]
     },
     "metadata": {},
     "output_type": "display_data"
    }
   ],
   "source": [
    "wine['country'].value_counts()[:10].plot(kind='bar',rot=40)\n",
    "plt.show()\n",
    "\n",
    "#largest 10 wine producers in this dataset"
   ]
  },
  {
   "cell_type": "code",
   "execution_count": 109,
   "metadata": {
    "scrolled": true
   },
   "outputs": [
    {
     "data": {
      "image/png": "[encoded data removed]",
      "text/plain": [
       "<Figure size 432x288 with 1 Axes>"
      ]
     },
     "metadata": {},
     "output_type": "display_data"
    }
   ],
   "source": [
    "df = wine[wine.country.isin(wine.country.value_counts().head(10).index)]\n",
    "ax = sns.countplot(y='country', data = df, order= wine['country'].value_counts().head(10).index)\n",
    "plt.show()"
   ]
  },
  {
   "cell_type": "code",
   "execution_count": 110,
   "metadata": {},
   "outputs": [
    {
     "data": {
      "image/png": "[encoded data removed]",
      "text/plain": [
       "<Figure size 432x288 with 1 Axes>"
      ]
     },
     "metadata": {},
     "output_type": "display_data"
    }
   ],
   "source": [
    "sns.countplot(data = wine[wine['country'] =='US'], x='points')\n",
    "sns.countplot(data = wine[wine['country'] =='France'], x='points') \n",
    "plt.show()"
   ]
  },
  {
   "cell_type": "code",
   "execution_count": 89,
   "metadata": {},
   "outputs": [
    {
     "data": {
      "image/png": "[encoded data removed]",
      "text/plain": [
       "<Figure size 432x288 with 1 Axes>"
      ]
     },
     "metadata": {},
     "output_type": "display_data"
    }
   ],
   "source": [
    "plt.hist(data = wine[wine['country']=='US'], x='points', alpha=0.5)\n",
    "plt.hist(data = wine[wine['country']=='France'], x='points', alpha=0.5)\n",
    "plt.hist(data = wine[wine['country']=='Italy'], x='points', alpha=0.5)\n",
    "plt.hist(data = wine[wine['country']=='Spain'], x='points', alpha=0.5)\n",
    "plt.show()"
   ]
  },
  {
   "cell_type": "code",
   "execution_count": 87,
   "metadata": {},
   "outputs": [
    {
     "name": "stderr",
     "output_type": "stream",
     "text": [
      "/Users/brianlouie/anaconda3/lib/python3.6/site-packages/matplotlib/axes/_axes.py:6462: UserWarning: The 'normed' kwarg is deprecated, and has been replaced by the 'density' kwarg.\n",
      "  warnings.warn(\"The 'normed' kwarg is deprecated, and has been \"\n",
      "/Users/brianlouie/anaconda3/lib/python3.6/site-packages/matplotlib/axes/_axes.py:6462: UserWarning: The 'normed' kwarg is deprecated, and has been replaced by the 'density' kwarg.\n",
      "  warnings.warn(\"The 'normed' kwarg is deprecated, and has been \"\n"
     ]
    },
    {
     "data": {
      "text/plain": [
       "<Figure size 360x360 with 0 Axes>"
      ]
     },
     "metadata": {},
     "output_type": "display_data"
    },
    {
     "data": {
      "image/png": "[encoded data removed]",
      "text/plain": [
       "<Figure size 432x432 with 3 Axes>"
      ]
     },
     "metadata": {},
     "output_type": "display_data"
    }
   ],
   "source": [
    "plt.figure(figsize=(5,5))\n",
    "with sns.axes_style('white'):\n",
    "    sns.jointplot(x='points', y='price', data= wine[wine['price'] <= 100] , kind='hex', gridsize=20)"
   ]
  },
  {
   "cell_type": "code",
   "execution_count": 53,
   "metadata": {},
   "outputs": [
    {
     "data": {
      "text/plain": [
       "<matplotlib.axes._subplots.AxesSubplot at 0x1a38f10978>"
      ]
     },
     "execution_count": 53,
     "metadata": {},
     "output_type": "execute_result"
    },
    {
     "data": {
      "image/png": "[encoded data removed]",
      "text/plain": [
       "<Figure size 432x288 with 1 Axes>"
      ]
     },
     "metadata": {},
     "output_type": "display_data"
    }
   ],
   "source": [
    "wine_swarm = wine[wine['country'].isin(['US','France','Spain','Italy','Portugal'])][:10000]\n",
    "sns.swarmplot(x=\"country\", y=\"points\", data=wine_swarm)\n"
   ]
  },
  {
   "cell_type": "code",
   "execution_count": 54,
   "metadata": {},
   "outputs": [
    {
     "data": {
      "image/png": "[encoded data removed]",
      "text/plain": [
       "<Figure size 504x288 with 1 Axes>"
      ]
     },
     "metadata": {},
     "output_type": "display_data"
    }
   ],
   "source": [
    "wine['province'].value_counts()[:10].plot(kind='barh',figsize=(7,4))\n",
    "plt.show()"
   ]
  },
  {
   "cell_type": "code",
   "execution_count": 81,
   "metadata": {},
   "outputs": [
    {
     "data": {
      "image/png": "[encoded data removed]",
      "text/plain": [
       "<Figure size 432x288 with 1 Axes>"
      ]
     },
     "metadata": {},
     "output_type": "display_data"
    }
   ],
   "source": [
    "sns.countplot(data = wine[wine['province'] =='California'], x='points')\n",
    "plt.show()"
   ]
  },
  {
   "cell_type": "code",
   "execution_count": 56,
   "metadata": {
    "scrolled": true
   },
   "outputs": [
    {
     "data": {
      "image/png": "[encoded data removed]",
      "text/plain": [
       "<Figure size 432x288 with 1 Axes>"
      ]
     },
     "metadata": {},
     "output_type": "display_data"
    }
   ],
   "source": [
    "wine[wine['country']=='US']['province'].value_counts()[:5].plot(kind='barh')\n",
    "plt.show()"
   ]
  },
  {
   "cell_type": "code",
   "execution_count": 57,
   "metadata": {},
   "outputs": [
    {
     "data": {
      "image/png": "[encoded data removed]",
      "text/plain": [
       "<Figure size 576x360 with 1 Axes>"
      ]
     },
     "metadata": {},
     "output_type": "display_data"
    }
   ],
   "source": [
    "wine[wine['province']=='California']['variety'].value_counts()[:10].plot(kind='bar', figsize = (8,5), rot=50)\n",
    "plt.show()"
   ]
  },
  {
   "cell_type": "code",
   "execution_count": 90,
   "metadata": {},
   "outputs": [
    {
     "data": {
      "image/png": "[encoded data removed]",
      "text/plain": [
       "<Figure size 432x288 with 1 Axes>"
      ]
     },
     "metadata": {},
     "output_type": "display_data"
    }
   ],
   "source": [
    "wine[wine['country']=='France']['province'].value_counts()[:10].plot(kind='bar',rot=50)\n",
    "plt.show()"
   ]
  },
  {
   "cell_type": "code",
   "execution_count": 91,
   "metadata": {},
   "outputs": [
    {
     "data": {
      "image/png": "[encoded data removed]",
      "text/plain": [
       "<Figure size 432x288 with 1 Axes>"
      ]
     },
     "metadata": {},
     "output_type": "display_data"
    }
   ],
   "source": [
    "wine[wine['province']=='Bordeaux']['variety'].value_counts()[:5].plot(kind='barh')\n",
    "plt.show()"
   ]
  },
  {
   "cell_type": "code",
   "execution_count": 92,
   "metadata": {},
   "outputs": [
    {
     "data": {
      "text/plain": [
       "Pinot Noir                  12278\n",
       "Chardonnay                  10868\n",
       "Cabernet Sauvignon           8840\n",
       "Red Blend                    8243\n",
       "Bordeaux-style Red Blend     6471\n",
       "Riesling                     4773\n",
       "Sauvignon Blanc              4575\n",
       "Syrah                        3828\n",
       "Rosé                         3220\n",
       "Merlot                       2896\n",
       "Name: variety, dtype: int64"
      ]
     },
     "execution_count": 92,
     "metadata": {},
     "output_type": "execute_result"
    }
   ],
   "source": [
    "wine.variety.value_counts()[:10]"
   ]
  },
  {
   "cell_type": "code",
   "execution_count": 20,
   "metadata": {},
   "outputs": [
    {
     "data": {
      "text/plain": [
       "708"
      ]
     },
     "execution_count": 20,
     "metadata": {},
     "output_type": "execute_result"
    }
   ],
   "source": [
    "wine_variety = wine.variety.unique()\n",
    "len(wine_variety)\n",
    "\n",
    "#708 unique wine types "
   ]
  },
  {
   "cell_type": "code",
   "execution_count": 93,
   "metadata": {},
   "outputs": [
    {
     "name": "stderr",
     "output_type": "stream",
     "text": [
      "/Users/brianlouie/anaconda3/lib/python3.6/site-packages/ipykernel_launcher.py:1: UserWarning: Boolean Series key will be reindexed to match DataFrame index.\n",
      "  \"\"\"Entry point for launching an IPython kernel.\n"
     ]
    },
    {
     "data": {
      "text/plain": [
       "<matplotlib.axes._subplots.AxesSubplot at 0x1a3f8d7630>"
      ]
     },
     "execution_count": 93,
     "metadata": {},
     "output_type": "execute_result"
    },
    {
     "data": {
      "image/png": "[encoded data removed]",
      "text/plain": [
       "<Figure size 432x288 with 1 Axes>"
      ]
     },
     "metadata": {},
     "output_type": "display_data"
    }
   ],
   "source": [
    "US_pinotnoir = wine[wine['country'] == 'US'][wine['variety']== 'Pinot Noir']\n",
    "US_pinotnoir['points'].plot(kind='hist', color = 'purple')"
   ]
  },
  {
   "cell_type": "code",
   "execution_count": 94,
   "metadata": {},
   "outputs": [
    {
     "name": "stderr",
     "output_type": "stream",
     "text": [
      "/Users/brianlouie/anaconda3/lib/python3.6/site-packages/ipykernel_launcher.py:1: UserWarning: Boolean Series key will be reindexed to match DataFrame index.\n",
      "  \"\"\"Entry point for launching an IPython kernel.\n"
     ]
    },
    {
     "data": {
      "text/plain": [
       "<matplotlib.axes._subplots.AxesSubplot at 0x1a3d670f60>"
      ]
     },
     "execution_count": 94,
     "metadata": {},
     "output_type": "execute_result"
    },
    {
     "data": {
      "image/png": "[encoded data removed]",
      "text/plain": [
       "<Figure size 432x288 with 1 Axes>"
      ]
     },
     "metadata": {},
     "output_type": "display_data"
    }
   ],
   "source": [
    "Fra_pinotnoir = wine[wine['country'] == 'France'][wine['variety']== 'Bordeaux-style Red Blend']\n",
    "Fra_pinotnoir['points'].plot(kind='hist')"
   ]
  },
  {
   "cell_type": "code",
   "execution_count": 95,
   "metadata": {},
   "outputs": [
    {
     "name": "stderr",
     "output_type": "stream",
     "text": [
      "/Users/brianlouie/anaconda3/lib/python3.6/site-packages/ipykernel_launcher.py:1: UserWarning: Boolean Series key will be reindexed to match DataFrame index.\n",
      "  \"\"\"Entry point for launching an IPython kernel.\n",
      "/Users/brianlouie/anaconda3/lib/python3.6/site-packages/ipykernel_launcher.py:2: UserWarning: Boolean Series key will be reindexed to match DataFrame index.\n",
      "  \n"
     ]
    }
   ],
   "source": [
    "ita_pinotnoir = wine[wine['country'] == 'Italy'][wine['variety']== 'Pinot Noir']\n",
    "esp_pinotnoir = wine[wine['country'] == 'Spain'][wine['variety']== 'Pinot Noir']"
   ]
  },
  {
   "cell_type": "code",
   "execution_count": 96,
   "metadata": {},
   "outputs": [
    {
     "data": {
      "text/plain": [
       "Text(0.5,1,'France Pinot Noir Wine Mag rankings')"
      ]
     },
     "execution_count": 96,
     "metadata": {},
     "output_type": "execute_result"
    },
    {
     "data": {
      "image/png": "[encoded data removed]",
      "text/plain": [
       "<Figure size 864x288 with 2 Axes>"
      ]
     },
     "metadata": {},
     "output_type": "display_data"
    }
   ],
   "source": [
    "plt.figure(figsize = (12, 4))\n",
    "\n",
    "plt.subplot(1,2,1)\n",
    "plt.hist(US_pinotnoir['points'])\n",
    "plt.title('US Pinot Noit Wine Mag rankings')\n",
    "\n",
    "plt.subplot(1,2,2)\n",
    "plt.hist(Fra_pinotnoir['points'], color = 'orange')\n",
    "plt.title('France Pinot Noir Wine Mag rankings')\n"
   ]
  },
  {
   "cell_type": "code",
   "execution_count": 97,
   "metadata": {},
   "outputs": [
    {
     "data": {
      "image/png": "[encoded data removed]",
      "text/plain": [
       "<Figure size 432x288 with 4 Axes>"
      ]
     },
     "metadata": {},
     "output_type": "display_data"
    }
   ],
   "source": [
    "fig, axes = plt.subplots(nrows=2, ncols=2)\n",
    "\n",
    "\n",
    "plt.subplot(2,2,1)\n",
    "us_rating = wine[wine['country']== 'US']['points']\n",
    "plt.hist(us_rating)\n",
    "\n",
    "plt.subplot(2,2,2)\n",
    "ita_rating = wine[wine['country']== 'Italy']['points']\n",
    "plt.hist(ita_rating, color='aqua')\n",
    "\n",
    "plt.subplot(2,2,3)\n",
    "esp_rating = wine[wine['country']== 'Spain']['points']\n",
    "plt.hist(esp_rating, color='red')\n",
    "\n",
    "plt.subplot(2,2,4)\n",
    "fra_rating = wine[wine['country']== 'France']['points']\n",
    "plt.hist(fra_rating, color='orange')\n",
    "\n",
    "plt.show()"
   ]
  },
  {
   "cell_type": "code",
   "execution_count": 111,
   "metadata": {},
   "outputs": [
    {
     "data": {
      "text/plain": [
       "count    119988.000000\n",
       "mean         88.442236\n",
       "std           3.092915\n",
       "min          80.000000\n",
       "25%          86.000000\n",
       "50%          88.000000\n",
       "75%          91.000000\n",
       "max         100.000000\n",
       "Name: points, dtype: float64"
      ]
     },
     "execution_count": 111,
     "metadata": {},
     "output_type": "execute_result"
    }
   ],
   "source": [
    "wine.points.describe()"
   ]
  },
  {
   "cell_type": "code",
   "execution_count": 112,
   "metadata": {},
   "outputs": [
    {
     "data": {
      "text/plain": [
       "(56737, 13)"
      ]
     },
     "execution_count": 112,
     "metadata": {},
     "output_type": "execute_result"
    }
   ],
   "source": [
    "wine[wine['points'] > 88.5].shape\n",
    "#good wines - any wine above median value of ratings"
   ]
  },
  {
   "cell_type": "code",
   "execution_count": 113,
   "metadata": {},
   "outputs": [
    {
     "data": {
      "text/plain": [
       "(63251, 13)"
      ]
     },
     "execution_count": 113,
     "metadata": {},
     "output_type": "execute_result"
    }
   ],
   "source": [
    "wine[wine['points'] < 88.5].shape\n",
    "#bad wines - in bottom half of ratings"
   ]
  },
  {
   "cell_type": "code",
   "execution_count": 114,
   "metadata": {},
   "outputs": [
    {
     "data": {
      "text/plain": [
       "19"
      ]
     },
     "execution_count": 114,
     "metadata": {},
     "output_type": "execute_result"
    }
   ],
   "source": [
    "tasters = wine['taster_name'].value_counts()\n",
    "len(tasters)"
   ]
  },
  {
   "cell_type": "code",
   "execution_count": 115,
   "metadata": {},
   "outputs": [
    {
     "data": {
      "image/png": "[encoded data removed]",
      "text/plain": [
       "<Figure size 432x288 with 1 Axes>"
      ]
     },
     "metadata": {},
     "output_type": "display_data"
    }
   ],
   "source": [
    "tasters.plot(kind='barh')\n",
    "plt.show()"
   ]
  },
  {
   "cell_type": "code",
   "execution_count": 37,
   "metadata": {},
   "outputs": [
    {
     "data": {
      "image/png": "[encoded data removed]",
      "text/plain": [
       "<Figure size 720x432 with 1 Axes>"
      ]
     },
     "metadata": {},
     "output_type": "display_data"
    }
   ],
   "source": [
    "plt.figure(figsize=(10,6))\n",
    "from numpy import median\n",
    "ax = sns.barplot(x = 'taster_name', y='points', data=wine , estimator=median)\n",
    " \n",
    "for item in ax.get_xticklabels():\n",
    "    item.set_rotation(40)"
   ]
  },
  {
   "cell_type": "code",
   "execution_count": 38,
   "metadata": {},
   "outputs": [
    {
     "data": {
      "text/plain": [
       "taster_name\n",
       "Alexander Peartree    85.780679\n",
       "Anna Lee C. Iijima    88.416480\n",
       "Anne Krebiehl MW      90.625228\n",
       "Carrie Dykes          86.356589\n",
       "Christina Pickard     87.833333\n",
       "Fiona Adams           86.750000\n",
       "Jeff Jenssen          88.330275\n",
       "Jim Gordon            88.603558\n",
       "Joe Czerwinski        88.524339\n",
       "Kerin O’Keefe         88.897803\n",
       "Lauren Buzzeo         87.692941\n",
       "Matt Kettmann         90.061431\n",
       "Michael Schachner     86.857112\n",
       "Mike DeSimone         89.125813\n",
       "Paul Gregutt          89.094159\n",
       "Roger Voss            88.733107\n",
       "Sean P. Sullivan      88.754988\n",
       "Susan Kostrzewa       86.575758\n",
       "Virginie Boone        89.220946\n",
       "Name: points, dtype: float64"
      ]
     },
     "execution_count": 38,
     "metadata": {},
     "output_type": "execute_result"
    }
   ],
   "source": [
    "wine.groupby(['taster_name'])['points'].mean()"
   ]
  },
  {
   "cell_type": "code",
   "execution_count": 116,
   "metadata": {},
   "outputs": [
    {
     "data": {
      "text/plain": [
       "False    119987\n",
       "True          1\n",
       "Name: variety, dtype: int64"
      ]
     },
     "execution_count": 116,
     "metadata": {},
     "output_type": "execute_result"
    }
   ],
   "source": [
    "wine['variety'].isnull().value_counts()"
   ]
  },
  {
   "cell_type": "code",
   "execution_count": 117,
   "metadata": {},
   "outputs": [],
   "source": [
    "wine['variety'].fillna(value = 'Unknown', inplace=True)"
   ]
  },
  {
   "cell_type": "code",
   "execution_count": 118,
   "metadata": {},
   "outputs": [
    {
     "data": {
      "text/plain": [
       "False    119929\n",
       "True         59\n",
       "Name: country, dtype: int64"
      ]
     },
     "execution_count": 118,
     "metadata": {},
     "output_type": "execute_result"
    }
   ],
   "source": [
    "wine['country'].isnull().value_counts()"
   ]
  },
  {
   "cell_type": "code",
   "execution_count": 119,
   "metadata": {},
   "outputs": [
    {
     "data": {
      "text/plain": [
       "False    119988\n",
       "Name: country, dtype: int64"
      ]
     },
     "execution_count": 119,
     "metadata": {},
     "output_type": "execute_result"
    }
   ],
   "source": [
    "wine['country'].fillna(value = 'Unknown', inplace=True)\n",
    "wine['country'].isnull().value_counts()"
   ]
  },
  {
   "cell_type": "code",
   "execution_count": 122,
   "metadata": {},
   "outputs": [],
   "source": [
    "wine = wine.dropna(subset=['price'])"
   ]
  },
  {
   "cell_type": "code",
   "execution_count": 123,
   "metadata": {},
   "outputs": [
    {
     "data": {
      "text/plain": [
       "region_2                 65025\n",
       "designation              32060\n",
       "taster_twitter_handle    27756\n",
       "taster_name              23273\n",
       "region_1                 18013\n",
       "province                    55\n",
       "winery                       0\n",
       "variety                      0\n",
       "title                        0\n",
       "price                        0\n",
       "points                       0\n",
       "description                  0\n",
       "country                      0\n",
       "dtype: int64"
      ]
     },
     "execution_count": 123,
     "metadata": {},
     "output_type": "execute_result"
    }
   ],
   "source": [
    "wine.isnull().sum().sort_values(ascending=False)"
   ]
  },
  {
   "cell_type": "code",
   "execution_count": 124,
   "metadata": {},
   "outputs": [
    {
     "data": {
      "text/plain": [
       "country    variety                          \n",
       "Argentina  Barbera                                 1\n",
       "           Bonarda                                98\n",
       "           Bordeaux-style Red Blend               79\n",
       "           Bordeaux-style White Blend              1\n",
       "           Cabernet Blend                          8\n",
       "           Cabernet Franc                         56\n",
       "           Cabernet Franc-Cabernet Sauvignon       3\n",
       "           Cabernet Franc-Malbec                   3\n",
       "           Cabernet Sauvignon                    505\n",
       "           Cabernet Sauvignon-Cabernet Franc       1\n",
       "           Cabernet Sauvignon-Malbec              11\n",
       "           Cabernet Sauvignon-Merlot               5\n",
       "           Cabernet Sauvignon-Shiraz               3\n",
       "           Cabernet Sauvignon-Syrah                2\n",
       "           Cabernet-Malbec                         1\n",
       "           Cabernet-Syrah                          1\n",
       "           Champagne Blend                         7\n",
       "           Chardonnay                            273\n",
       "           Chardonnay-Sauvignon                    2\n",
       "           Chardonnay-Semillon                     1\n",
       "           Chardonnay-Viognier                     6\n",
       "           Chenin Blanc                            2\n",
       "           Chenin Blanc-Chardonnay                 4\n",
       "           Gewürztraminer                          1\n",
       "           Malbec                               1391\n",
       "           Malbec Blend                            2\n",
       "           Malbec-Bonarda                          5\n",
       "           Malbec-Cabernet                         3\n",
       "           Malbec-Cabernet Franc                  10\n",
       "           Malbec-Cabernet Sauvignon              52\n",
       "                                                ... \n",
       "Unknown    Pinot Noir                              2\n",
       "           Red Blend                               9\n",
       "           Rhône-style Red Blend                   1\n",
       "           Riesling                                1\n",
       "           Rosé                                    1\n",
       "           Roter Traminer                          1\n",
       "           Sauvignon Blanc                         3\n",
       "           Shiraz                                  1\n",
       "           Tannat                                  2\n",
       "           Tempranillo                             1\n",
       "           Tsapournakos                            1\n",
       "           Tsolikouri                              1\n",
       "           Vranac                                  1\n",
       "           White Blend                             4\n",
       "Uruguay    Albariño                                6\n",
       "           Cabernet Franc                          2\n",
       "           Cabernet Sauvignon                      2\n",
       "           Chardonnay                              3\n",
       "           Malbec                                  1\n",
       "           Merlot                                  1\n",
       "           Pinot Noir                              5\n",
       "           Red Blend                              17\n",
       "           Rosé                                    2\n",
       "           Sauvignon Blanc                         1\n",
       "           Tannat                                 47\n",
       "           Tannat-Cabernet Franc                   2\n",
       "           Tannat-Merlot                           6\n",
       "           Tannat-Syrah                            1\n",
       "           Tempranillo-Tannat                      1\n",
       "           White Blend                             1\n",
       "Name: variety, Length: 1619, dtype: int64"
      ]
     },
     "execution_count": 124,
     "metadata": {},
     "output_type": "execute_result"
    }
   ],
   "source": [
    "country_variety = wine.groupby(['country','variety'])['variety'].size()\n",
    "country_variety"
   ]
  },
  {
   "cell_type": "code",
   "execution_count": 125,
   "metadata": {},
   "outputs": [
    {
     "data": {
      "text/plain": [
       "106754"
      ]
     },
     "execution_count": 125,
     "metadata": {},
     "output_type": "execute_result"
    }
   ],
   "source": [
    "region_df = wine[(wine['region_1']) != (wine['region_2'])]\n",
    "region_df.shape[0]"
   ]
  },
  {
   "cell_type": "code",
   "execution_count": 126,
   "metadata": {},
   "outputs": [
    {
     "data": {
      "text/html": [
       "<div>\n",
       "<style scoped>\n",
       "    .dataframe tbody tr th:only-of-type {\n",
       "        vertical-align: middle;\n",
       "    }\n",
       "\n",
       "    .dataframe tbody tr th {\n",
       "        vertical-align: top;\n",
       "    }\n",
       "\n",
       "    .dataframe thead th {\n",
       "        text-align: right;\n",
       "    }\n",
       "</style>\n",
       "<table border=\"1\" class=\"dataframe\">\n",
       "  <thead>\n",
       "    <tr style=\"text-align: right;\">\n",
       "      <th></th>\n",
       "      <th>country</th>\n",
       "      <th>description</th>\n",
       "      <th>designation</th>\n",
       "      <th>points</th>\n",
       "      <th>price</th>\n",
       "      <th>province</th>\n",
       "      <th>region_1</th>\n",
       "      <th>region_2</th>\n",
       "      <th>taster_name</th>\n",
       "      <th>taster_twitter_handle</th>\n",
       "      <th>title</th>\n",
       "      <th>variety</th>\n",
       "      <th>winery</th>\n",
       "    </tr>\n",
       "  </thead>\n",
       "  <tbody>\n",
       "    <tr>\n",
       "      <th>129966</th>\n",
       "      <td>Germany</td>\n",
       "      <td>Notes of honeysuckle and cantaloupe sweeten th...</td>\n",
       "      <td>Brauneberger Juffer-Sonnenuhr Spätlese</td>\n",
       "      <td>90</td>\n",
       "      <td>28.0</td>\n",
       "      <td>Mosel</td>\n",
       "      <td>NaN</td>\n",
       "      <td>NaN</td>\n",
       "      <td>Anna Lee C. Iijima</td>\n",
       "      <td>NaN</td>\n",
       "      <td>Dr. H. Thanisch (Erben Müller-Burggraef) 2013 ...</td>\n",
       "      <td>Riesling</td>\n",
       "      <td>Dr. H. Thanisch (Erben Müller-Burggraef)</td>\n",
       "    </tr>\n",
       "    <tr>\n",
       "      <th>129967</th>\n",
       "      <td>US</td>\n",
       "      <td>Citation is given as much as a decade of bottl...</td>\n",
       "      <td>NaN</td>\n",
       "      <td>90</td>\n",
       "      <td>75.0</td>\n",
       "      <td>Oregon</td>\n",
       "      <td>Oregon</td>\n",
       "      <td>Oregon Other</td>\n",
       "      <td>Paul Gregutt</td>\n",
       "      <td>@paulgwine</td>\n",
       "      <td>Citation 2004 Pinot Noir (Oregon)</td>\n",
       "      <td>Pinot Noir</td>\n",
       "      <td>Citation</td>\n",
       "    </tr>\n",
       "    <tr>\n",
       "      <th>129968</th>\n",
       "      <td>France</td>\n",
       "      <td>Well-drained gravel soil gives this wine its c...</td>\n",
       "      <td>Kritt</td>\n",
       "      <td>90</td>\n",
       "      <td>30.0</td>\n",
       "      <td>Alsace</td>\n",
       "      <td>Alsace</td>\n",
       "      <td>NaN</td>\n",
       "      <td>Roger Voss</td>\n",
       "      <td>@vossroger</td>\n",
       "      <td>Domaine Gresser 2013 Kritt Gewurztraminer (Als...</td>\n",
       "      <td>Gewürztraminer</td>\n",
       "      <td>Domaine Gresser</td>\n",
       "    </tr>\n",
       "    <tr>\n",
       "      <th>129969</th>\n",
       "      <td>France</td>\n",
       "      <td>A dry style of Pinot Gris, this is crisp with ...</td>\n",
       "      <td>NaN</td>\n",
       "      <td>90</td>\n",
       "      <td>32.0</td>\n",
       "      <td>Alsace</td>\n",
       "      <td>Alsace</td>\n",
       "      <td>NaN</td>\n",
       "      <td>Roger Voss</td>\n",
       "      <td>@vossroger</td>\n",
       "      <td>Domaine Marcel Deiss 2012 Pinot Gris (Alsace)</td>\n",
       "      <td>Pinot Gris</td>\n",
       "      <td>Domaine Marcel Deiss</td>\n",
       "    </tr>\n",
       "    <tr>\n",
       "      <th>129970</th>\n",
       "      <td>France</td>\n",
       "      <td>Big, rich and off-dry, this is powered by inte...</td>\n",
       "      <td>Lieu-dit Harth Cuvée Caroline</td>\n",
       "      <td>90</td>\n",
       "      <td>21.0</td>\n",
       "      <td>Alsace</td>\n",
       "      <td>Alsace</td>\n",
       "      <td>NaN</td>\n",
       "      <td>Roger Voss</td>\n",
       "      <td>@vossroger</td>\n",
       "      <td>Domaine Schoffit 2012 Lieu-dit Harth Cuvée Car...</td>\n",
       "      <td>Gewürztraminer</td>\n",
       "      <td>Domaine Schoffit</td>\n",
       "    </tr>\n",
       "  </tbody>\n",
       "</table>\n",
       "</div>"
      ],
      "text/plain": [
       "        country                                        description  \\\n",
       "129966  Germany  Notes of honeysuckle and cantaloupe sweeten th...   \n",
       "129967       US  Citation is given as much as a decade of bottl...   \n",
       "129968   France  Well-drained gravel soil gives this wine its c...   \n",
       "129969   France  A dry style of Pinot Gris, this is crisp with ...   \n",
       "129970   France  Big, rich and off-dry, this is powered by inte...   \n",
       "\n",
       "                                   designation  points  price province  \\\n",
       "129966  Brauneberger Juffer-Sonnenuhr Spätlese      90   28.0    Mosel   \n",
       "129967                                     NaN      90   75.0   Oregon   \n",
       "129968                                   Kritt      90   30.0   Alsace   \n",
       "129969                                     NaN      90   32.0   Alsace   \n",
       "129970           Lieu-dit Harth Cuvée Caroline      90   21.0   Alsace   \n",
       "\n",
       "       region_1      region_2         taster_name taster_twitter_handle  \\\n",
       "129966      NaN           NaN  Anna Lee C. Iijima                   NaN   \n",
       "129967   Oregon  Oregon Other        Paul Gregutt           @paulgwine    \n",
       "129968   Alsace           NaN          Roger Voss            @vossroger   \n",
       "129969   Alsace           NaN          Roger Voss            @vossroger   \n",
       "129970   Alsace           NaN          Roger Voss            @vossroger   \n",
       "\n",
       "                                                    title         variety  \\\n",
       "129966  Dr. H. Thanisch (Erben Müller-Burggraef) 2013 ...        Riesling   \n",
       "129967                  Citation 2004 Pinot Noir (Oregon)      Pinot Noir   \n",
       "129968  Domaine Gresser 2013 Kritt Gewurztraminer (Als...  Gewürztraminer   \n",
       "129969      Domaine Marcel Deiss 2012 Pinot Gris (Alsace)      Pinot Gris   \n",
       "129970  Domaine Schoffit 2012 Lieu-dit Harth Cuvée Car...  Gewürztraminer   \n",
       "\n",
       "                                          winery  \n",
       "129966  Dr. H. Thanisch (Erben Müller-Burggraef)  \n",
       "129967                                  Citation  \n",
       "129968                           Domaine Gresser  \n",
       "129969                      Domaine Marcel Deiss  \n",
       "129970                          Domaine Schoffit  "
      ]
     },
     "execution_count": 126,
     "metadata": {},
     "output_type": "execute_result"
    }
   ],
   "source": [
    "region_df.tail()"
   ]
  },
  {
   "cell_type": "code",
   "execution_count": 127,
   "metadata": {},
   "outputs": [
    {
     "data": {
      "text/plain": [
       "['Erath 2010 Hyland Pinot Noir (McMinnville)',\n",
       " 'Estampa 2011 Estate Viognier-Chardonnay (Colchagua Valley)',\n",
       " 'Feudi del Pisciotto 2010 Missoni Cabernet Sauvignon (Sicilia)',\n",
       " 'Feudi di San Marzano 2011 I Tratturi Primitivo (Puglia)',\n",
       " \"Feudo di Santa Tresa 2011 Purato Made With Organic Grapes Nero d'Avola (Sicilia)\",\n",
       " 'Feudo Montoni 2011 Catarratto (Sicilia)',\n",
       " 'Hawkins Cellars 2009 Pinot Noir (Willamette Valley)',\n",
       " 'Henry Fessy 2012 Nouveau  (Beaujolais)',\n",
       " 'Robert Hall 2011 Sauvignon Blanc (Paso Robles)',\n",
       " 'Sundance 2011 Merlot (Maule Valley)',\n",
       " 'Tarara 2010 #SocialSecret Red (Virginia)',\n",
       " \"Tasca d'Almerita 2011 Sallier de la Tour Inzolia (Sicilia)\",\n",
       " 'The White Knight 2011 Riesling (Lake County)',\n",
       " 'Trump 2011 Sauvignon Blanc (Monticello)',\n",
       " 'Vignerons de Bel Air 2011 Eté Indien  (Brouilly)']"
      ]
     },
     "execution_count": 127,
     "metadata": {},
     "output_type": "execute_result"
    }
   ],
   "source": [
    "list(wine.title[30:45])\n",
    "\n",
    "#looking to pull year of vintage out of the title\n",
    "#also inside parenthesis is the Region, can use this to fill in NaN values"
   ]
  },
  {
   "cell_type": "code",
   "execution_count": 128,
   "metadata": {},
   "outputs": [
    {
     "data": {
      "text/html": [
       "<div>\n",
       "<style scoped>\n",
       "    .dataframe tbody tr th:only-of-type {\n",
       "        vertical-align: middle;\n",
       "    }\n",
       "\n",
       "    .dataframe tbody tr th {\n",
       "        vertical-align: top;\n",
       "    }\n",
       "\n",
       "    .dataframe thead th {\n",
       "        text-align: right;\n",
       "    }\n",
       "</style>\n",
       "<table border=\"1\" class=\"dataframe\">\n",
       "  <thead>\n",
       "    <tr style=\"text-align: right;\">\n",
       "      <th></th>\n",
       "      <th>country</th>\n",
       "      <th>description</th>\n",
       "      <th>designation</th>\n",
       "      <th>points</th>\n",
       "      <th>price</th>\n",
       "      <th>province</th>\n",
       "      <th>region_1</th>\n",
       "      <th>region_2</th>\n",
       "      <th>taster_name</th>\n",
       "      <th>taster_twitter_handle</th>\n",
       "      <th>title</th>\n",
       "      <th>variety</th>\n",
       "      <th>winery</th>\n",
       "      <th>region</th>\n",
       "    </tr>\n",
       "  </thead>\n",
       "  <tbody>\n",
       "    <tr>\n",
       "      <th>1</th>\n",
       "      <td>Portugal</td>\n",
       "      <td>This is ripe and fruity, a wine that is smooth...</td>\n",
       "      <td>Avidagos</td>\n",
       "      <td>87</td>\n",
       "      <td>15.0</td>\n",
       "      <td>Douro</td>\n",
       "      <td>NaN</td>\n",
       "      <td>NaN</td>\n",
       "      <td>Roger Voss</td>\n",
       "      <td>@vossroger</td>\n",
       "      <td>Quinta dos Avidagos 2011 Avidagos Red (Douro)</td>\n",
       "      <td>Portuguese Red</td>\n",
       "      <td>Quinta dos Avidagos</td>\n",
       "      <td>Douro</td>\n",
       "    </tr>\n",
       "    <tr>\n",
       "      <th>2</th>\n",
       "      <td>US</td>\n",
       "      <td>Tart and snappy, the flavors of lime flesh and...</td>\n",
       "      <td>NaN</td>\n",
       "      <td>87</td>\n",
       "      <td>14.0</td>\n",
       "      <td>Oregon</td>\n",
       "      <td>Willamette Valley</td>\n",
       "      <td>Willamette Valley</td>\n",
       "      <td>Paul Gregutt</td>\n",
       "      <td>@paulgwine</td>\n",
       "      <td>Rainstorm 2013 Pinot Gris (Willamette Valley)</td>\n",
       "      <td>Pinot Gris</td>\n",
       "      <td>Rainstorm</td>\n",
       "      <td>Willamette Valley</td>\n",
       "    </tr>\n",
       "    <tr>\n",
       "      <th>3</th>\n",
       "      <td>US</td>\n",
       "      <td>Pineapple rind, lemon pith and orange blossom ...</td>\n",
       "      <td>Reserve Late Harvest</td>\n",
       "      <td>87</td>\n",
       "      <td>13.0</td>\n",
       "      <td>Michigan</td>\n",
       "      <td>Lake Michigan Shore</td>\n",
       "      <td>NaN</td>\n",
       "      <td>Alexander Peartree</td>\n",
       "      <td>NaN</td>\n",
       "      <td>St. Julian 2013 Reserve Late Harvest Riesling ...</td>\n",
       "      <td>Riesling</td>\n",
       "      <td>St. Julian</td>\n",
       "      <td>Lake Michigan Shore</td>\n",
       "    </tr>\n",
       "    <tr>\n",
       "      <th>4</th>\n",
       "      <td>US</td>\n",
       "      <td>Much like the regular bottling from 2012, this...</td>\n",
       "      <td>Vintner's Reserve Wild Child Block</td>\n",
       "      <td>87</td>\n",
       "      <td>65.0</td>\n",
       "      <td>Oregon</td>\n",
       "      <td>Willamette Valley</td>\n",
       "      <td>Willamette Valley</td>\n",
       "      <td>Paul Gregutt</td>\n",
       "      <td>@paulgwine</td>\n",
       "      <td>Sweet Cheeks 2012 Vintner's Reserve Wild Child...</td>\n",
       "      <td>Pinot Noir</td>\n",
       "      <td>Sweet Cheeks</td>\n",
       "      <td>Willamette Valley</td>\n",
       "    </tr>\n",
       "    <tr>\n",
       "      <th>5</th>\n",
       "      <td>Spain</td>\n",
       "      <td>Blackberry and raspberry aromas show a typical...</td>\n",
       "      <td>Ars In Vitro</td>\n",
       "      <td>87</td>\n",
       "      <td>15.0</td>\n",
       "      <td>Northern Spain</td>\n",
       "      <td>Navarra</td>\n",
       "      <td>NaN</td>\n",
       "      <td>Michael Schachner</td>\n",
       "      <td>@wineschach</td>\n",
       "      <td>Tandem 2011 Ars In Vitro Tempranillo-Merlot (N...</td>\n",
       "      <td>Tempranillo-Merlot</td>\n",
       "      <td>Tandem</td>\n",
       "      <td>Navarra</td>\n",
       "    </tr>\n",
       "  </tbody>\n",
       "</table>\n",
       "</div>"
      ],
      "text/plain": [
       "    country                                        description  \\\n",
       "1  Portugal  This is ripe and fruity, a wine that is smooth...   \n",
       "2        US  Tart and snappy, the flavors of lime flesh and...   \n",
       "3        US  Pineapple rind, lemon pith and orange blossom ...   \n",
       "4        US  Much like the regular bottling from 2012, this...   \n",
       "5     Spain  Blackberry and raspberry aromas show a typical...   \n",
       "\n",
       "                          designation  points  price        province  \\\n",
       "1                            Avidagos      87   15.0           Douro   \n",
       "2                                 NaN      87   14.0          Oregon   \n",
       "3                Reserve Late Harvest      87   13.0        Michigan   \n",
       "4  Vintner's Reserve Wild Child Block      87   65.0          Oregon   \n",
       "5                        Ars In Vitro      87   15.0  Northern Spain   \n",
       "\n",
       "              region_1           region_2         taster_name  \\\n",
       "1                  NaN                NaN          Roger Voss   \n",
       "2    Willamette Valley  Willamette Valley        Paul Gregutt   \n",
       "3  Lake Michigan Shore                NaN  Alexander Peartree   \n",
       "4    Willamette Valley  Willamette Valley        Paul Gregutt   \n",
       "5              Navarra                NaN   Michael Schachner   \n",
       "\n",
       "  taster_twitter_handle                                              title  \\\n",
       "1            @vossroger      Quinta dos Avidagos 2011 Avidagos Red (Douro)   \n",
       "2           @paulgwine       Rainstorm 2013 Pinot Gris (Willamette Valley)   \n",
       "3                   NaN  St. Julian 2013 Reserve Late Harvest Riesling ...   \n",
       "4           @paulgwine   Sweet Cheeks 2012 Vintner's Reserve Wild Child...   \n",
       "5           @wineschach  Tandem 2011 Ars In Vitro Tempranillo-Merlot (N...   \n",
       "\n",
       "              variety               winery               region  \n",
       "1      Portuguese Red  Quinta dos Avidagos                Douro  \n",
       "2          Pinot Gris            Rainstorm    Willamette Valley  \n",
       "3            Riesling           St. Julian  Lake Michigan Shore  \n",
       "4          Pinot Noir         Sweet Cheeks    Willamette Valley  \n",
       "5  Tempranillo-Merlot               Tandem              Navarra  "
      ]
     },
     "execution_count": 128,
     "metadata": {},
     "output_type": "execute_result"
    }
   ],
   "source": [
    "def name_split(string):\n",
    "   brian = string.split(sep='(')\n",
    "   brian1 = brian[-1].split(sep=')')\n",
    "   return brian1[0]\n",
    "wine['region'] = wine['title'].map(name_split)\n",
    "wine.head()\n",
    "\n",
    "#replaced region_1 and region_2 columns with single region column with 'Region name' pulled fmor title feature"
   ]
  },
  {
   "cell_type": "code",
   "execution_count": 43,
   "metadata": {},
   "outputs": [
    {
     "data": {
      "text/plain": [
       "0               [Nicosia, 2013, Vulkà, Bianco, (Etna)]\n",
       "1    [Quinta, dos, Avidagos, 2011, Avidagos, Red, (...\n",
       "2    [Rainstorm, 2013, Pinot, Gris, (Willamette, Va...\n",
       "3    [St., Julian, 2013, Reserve, Late, Harvest, Ri...\n",
       "Name: title, dtype: object"
      ]
     },
     "execution_count": 43,
     "metadata": {},
     "output_type": "execute_result"
    }
   ],
   "source": [
    "wine['title'].str.split()[:4]"
   ]
  },
  {
   "cell_type": "code",
   "execution_count": 44,
   "metadata": {},
   "outputs": [
    {
     "data": {
      "text/plain": [
       "[2012]"
      ]
     },
     "execution_count": 44,
     "metadata": {},
     "output_type": "execute_result"
    }
   ],
   "source": [
    "[int(s) for s in wine['title'].str.split()[4] if s.isdigit()]"
   ]
  },
  {
   "cell_type": "code",
   "execution_count": 129,
   "metadata": {},
   "outputs": [],
   "source": [
    "wine['title'] = wine['title'].astype(str)"
   ]
  },
  {
   "cell_type": "code",
   "execution_count": 130,
   "metadata": {},
   "outputs": [],
   "source": [
    "wine['year'] = wine.title.str.extract(r'(\\d{4})')"
   ]
  },
  {
   "cell_type": "code",
   "execution_count": 131,
   "metadata": {},
   "outputs": [
    {
     "data": {
      "text/plain": [
       "1    2011\n",
       "2    2013\n",
       "3    2013\n",
       "4    2012\n",
       "5    2011\n",
       "Name: year, dtype: object"
      ]
     },
     "execution_count": 131,
     "metadata": {},
     "output_type": "execute_result"
    }
   ],
   "source": [
    "wine['year'].head()"
   ]
  },
  {
   "cell_type": "code",
   "execution_count": 132,
   "metadata": {},
   "outputs": [
    {
     "data": {
      "image/png": "[encoded data removed]",
      "text/plain": [
       "<Figure size 432x288 with 1 Axes>"
      ]
     },
     "metadata": {},
     "output_type": "display_data"
    }
   ],
   "source": [
    "ax = sns.barplot(x=\"points\", y=\"price\", data=wine[wine['points']>88.5])"
   ]
  },
  {
   "cell_type": "code",
   "execution_count": 133,
   "metadata": {},
   "outputs": [
    {
     "data": {
      "image/png": "[encoded data removed]",
      "text/plain": [
       "<Figure size 432x288 with 1 Axes>"
      ]
     },
     "metadata": {},
     "output_type": "display_data"
    }
   ],
   "source": [
    "ax = sns.barplot(x=\"points\", y=\"price\", data=wine[wine['points']<88.5])"
   ]
  },
  {
   "cell_type": "code",
   "execution_count": 134,
   "metadata": {},
   "outputs": [
    {
     "name": "stdout",
     "output_type": "stream",
     "text": [
      "<class 'pandas.core.frame.DataFrame'>\n",
      "Int64Index: 111593 entries, 1 to 129970\n",
      "Data columns (total 15 columns):\n",
      "country                  111593 non-null object\n",
      "description              111593 non-null object\n",
      "designation              79533 non-null object\n",
      "points                   111593 non-null int64\n",
      "price                    111593 non-null float64\n",
      "province                 111538 non-null object\n",
      "region_1                 93580 non-null object\n",
      "region_2                 46568 non-null object\n",
      "taster_name              88320 non-null object\n",
      "taster_twitter_handle    83837 non-null object\n",
      "title                    111593 non-null object\n",
      "variety                  111593 non-null object\n",
      "winery                   111593 non-null object\n",
      "region                   111593 non-null object\n",
      "year                     107742 non-null datetime64[ns]\n",
      "dtypes: datetime64[ns](1), float64(1), int64(1), object(12)\n",
      "memory usage: 13.6+ MB\n"
     ]
    }
   ],
   "source": [
    "from datetime import datetime\n",
    "wine['year'] = pd.to_datetime(wine.year, errors = 'coerce')\n",
    "wine.info()\n",
    "wine['year']= wine.year.dt.year"
   ]
  },
  {
   "cell_type": "code",
   "execution_count": 135,
   "metadata": {},
   "outputs": [
    {
     "data": {
      "image/png": "[encoded data removed]",
      "text/plain": [
       "<Figure size 432x288 with 1 Axes>"
      ]
     },
     "metadata": {},
     "output_type": "display_data"
    }
   ],
   "source": [
    "ax = sns.barplot(x=\"year\", y=\"price\", data=wine[wine['year']>2007])"
   ]
  },
  {
   "cell_type": "code",
   "execution_count": 136,
   "metadata": {},
   "outputs": [
    {
     "data": {
      "text/html": [
       "<div>\n",
       "<style scoped>\n",
       "    .dataframe tbody tr th:only-of-type {\n",
       "        vertical-align: middle;\n",
       "    }\n",
       "\n",
       "    .dataframe tbody tr th {\n",
       "        vertical-align: top;\n",
       "    }\n",
       "\n",
       "    .dataframe thead th {\n",
       "        text-align: right;\n",
       "    }\n",
       "</style>\n",
       "<table border=\"1\" class=\"dataframe\">\n",
       "  <thead>\n",
       "    <tr style=\"text-align: right;\">\n",
       "      <th></th>\n",
       "      <th>country</th>\n",
       "      <th>description</th>\n",
       "      <th>designation</th>\n",
       "      <th>points</th>\n",
       "      <th>price</th>\n",
       "      <th>province</th>\n",
       "      <th>region_1</th>\n",
       "      <th>region_2</th>\n",
       "      <th>taster_name</th>\n",
       "      <th>taster_twitter_handle</th>\n",
       "      <th>title</th>\n",
       "      <th>variety</th>\n",
       "      <th>winery</th>\n",
       "      <th>region</th>\n",
       "      <th>year</th>\n",
       "    </tr>\n",
       "  </thead>\n",
       "  <tbody>\n",
       "    <tr>\n",
       "      <th>1</th>\n",
       "      <td>Portugal</td>\n",
       "      <td>This is ripe and fruity, a wine that is smooth...</td>\n",
       "      <td>Avidagos</td>\n",
       "      <td>87</td>\n",
       "      <td>15.0</td>\n",
       "      <td>Douro</td>\n",
       "      <td>NaN</td>\n",
       "      <td>NaN</td>\n",
       "      <td>Roger Voss</td>\n",
       "      <td>@vossroger</td>\n",
       "      <td>Quinta dos Avidagos 2011 Avidagos Red (Douro)</td>\n",
       "      <td>Portuguese Red</td>\n",
       "      <td>Quinta dos Avidagos</td>\n",
       "      <td>Douro</td>\n",
       "      <td>2011.0</td>\n",
       "    </tr>\n",
       "    <tr>\n",
       "      <th>2</th>\n",
       "      <td>US</td>\n",
       "      <td>Tart and snappy, the flavors of lime flesh and...</td>\n",
       "      <td>NaN</td>\n",
       "      <td>87</td>\n",
       "      <td>14.0</td>\n",
       "      <td>Oregon</td>\n",
       "      <td>Willamette Valley</td>\n",
       "      <td>Willamette Valley</td>\n",
       "      <td>Paul Gregutt</td>\n",
       "      <td>@paulgwine</td>\n",
       "      <td>Rainstorm 2013 Pinot Gris (Willamette Valley)</td>\n",
       "      <td>Pinot Gris</td>\n",
       "      <td>Rainstorm</td>\n",
       "      <td>Willamette Valley</td>\n",
       "      <td>2013.0</td>\n",
       "    </tr>\n",
       "    <tr>\n",
       "      <th>3</th>\n",
       "      <td>US</td>\n",
       "      <td>Pineapple rind, lemon pith and orange blossom ...</td>\n",
       "      <td>Reserve Late Harvest</td>\n",
       "      <td>87</td>\n",
       "      <td>13.0</td>\n",
       "      <td>Michigan</td>\n",
       "      <td>Lake Michigan Shore</td>\n",
       "      <td>NaN</td>\n",
       "      <td>Alexander Peartree</td>\n",
       "      <td>NaN</td>\n",
       "      <td>St. Julian 2013 Reserve Late Harvest Riesling ...</td>\n",
       "      <td>Riesling</td>\n",
       "      <td>St. Julian</td>\n",
       "      <td>Lake Michigan Shore</td>\n",
       "      <td>2013.0</td>\n",
       "    </tr>\n",
       "    <tr>\n",
       "      <th>4</th>\n",
       "      <td>US</td>\n",
       "      <td>Much like the regular bottling from 2012, this...</td>\n",
       "      <td>Vintner's Reserve Wild Child Block</td>\n",
       "      <td>87</td>\n",
       "      <td>65.0</td>\n",
       "      <td>Oregon</td>\n",
       "      <td>Willamette Valley</td>\n",
       "      <td>Willamette Valley</td>\n",
       "      <td>Paul Gregutt</td>\n",
       "      <td>@paulgwine</td>\n",
       "      <td>Sweet Cheeks 2012 Vintner's Reserve Wild Child...</td>\n",
       "      <td>Pinot Noir</td>\n",
       "      <td>Sweet Cheeks</td>\n",
       "      <td>Willamette Valley</td>\n",
       "      <td>2012.0</td>\n",
       "    </tr>\n",
       "    <tr>\n",
       "      <th>5</th>\n",
       "      <td>Spain</td>\n",
       "      <td>Blackberry and raspberry aromas show a typical...</td>\n",
       "      <td>Ars In Vitro</td>\n",
       "      <td>87</td>\n",
       "      <td>15.0</td>\n",
       "      <td>Northern Spain</td>\n",
       "      <td>Navarra</td>\n",
       "      <td>NaN</td>\n",
       "      <td>Michael Schachner</td>\n",
       "      <td>@wineschach</td>\n",
       "      <td>Tandem 2011 Ars In Vitro Tempranillo-Merlot (N...</td>\n",
       "      <td>Tempranillo-Merlot</td>\n",
       "      <td>Tandem</td>\n",
       "      <td>Navarra</td>\n",
       "      <td>2011.0</td>\n",
       "    </tr>\n",
       "  </tbody>\n",
       "</table>\n",
       "</div>"
      ],
      "text/plain": [
       "    country                                        description  \\\n",
       "1  Portugal  This is ripe and fruity, a wine that is smooth...   \n",
       "2        US  Tart and snappy, the flavors of lime flesh and...   \n",
       "3        US  Pineapple rind, lemon pith and orange blossom ...   \n",
       "4        US  Much like the regular bottling from 2012, this...   \n",
       "5     Spain  Blackberry and raspberry aromas show a typical...   \n",
       "\n",
       "                          designation  points  price        province  \\\n",
       "1                            Avidagos      87   15.0           Douro   \n",
       "2                                 NaN      87   14.0          Oregon   \n",
       "3                Reserve Late Harvest      87   13.0        Michigan   \n",
       "4  Vintner's Reserve Wild Child Block      87   65.0          Oregon   \n",
       "5                        Ars In Vitro      87   15.0  Northern Spain   \n",
       "\n",
       "              region_1           region_2         taster_name  \\\n",
       "1                  NaN                NaN          Roger Voss   \n",
       "2    Willamette Valley  Willamette Valley        Paul Gregutt   \n",
       "3  Lake Michigan Shore                NaN  Alexander Peartree   \n",
       "4    Willamette Valley  Willamette Valley        Paul Gregutt   \n",
       "5              Navarra                NaN   Michael Schachner   \n",
       "\n",
       "  taster_twitter_handle                                              title  \\\n",
       "1            @vossroger      Quinta dos Avidagos 2011 Avidagos Red (Douro)   \n",
       "2           @paulgwine       Rainstorm 2013 Pinot Gris (Willamette Valley)   \n",
       "3                   NaN  St. Julian 2013 Reserve Late Harvest Riesling ...   \n",
       "4           @paulgwine   Sweet Cheeks 2012 Vintner's Reserve Wild Child...   \n",
       "5           @wineschach  Tandem 2011 Ars In Vitro Tempranillo-Merlot (N...   \n",
       "\n",
       "              variety               winery               region    year  \n",
       "1      Portuguese Red  Quinta dos Avidagos                Douro  2011.0  \n",
       "2          Pinot Gris            Rainstorm    Willamette Valley  2013.0  \n",
       "3            Riesling           St. Julian  Lake Michigan Shore  2013.0  \n",
       "4          Pinot Noir         Sweet Cheeks    Willamette Valley  2012.0  \n",
       "5  Tempranillo-Merlot               Tandem              Navarra  2011.0  "
      ]
     },
     "execution_count": 136,
     "metadata": {},
     "output_type": "execute_result"
    }
   ],
   "source": [
    "wine.head()"
   ]
  },
  {
   "cell_type": "code",
   "execution_count": 137,
   "metadata": {},
   "outputs": [],
   "source": [
    "wine['quality'] = wine['points'].map(lambda x: 1 if x>87.5 else 0)\n",
    "#including quality column to classify wines as good or bad"
   ]
  },
  {
   "cell_type": "code",
   "execution_count": 141,
   "metadata": {},
   "outputs": [
    {
     "data": {
      "text/plain": [
       "<matplotlib.axes._subplots.AxesSubplot at 0x1a3d3b9358>"
      ]
     },
     "execution_count": 141,
     "metadata": {},
     "output_type": "execute_result"
    },
    {
     "data": {
      "image/png": "[encoded data removed]",
      "text/plain": [
       "<Figure size 432x288 with 1 Axes>"
      ]
     },
     "metadata": {},
     "output_type": "display_data"
    }
   ],
   "source": [
    "sns.barplot(x = 'province', y='price', hue='quality', data = wine[wine['province']=='California'])"
   ]
  },
  {
   "cell_type": "code",
   "execution_count": 179,
   "metadata": {
    "scrolled": true
   },
   "outputs": [
    {
     "data": {
      "image/png": "[encoded data removed]",
      "text/plain": [
       "<Figure size 1080x360 with 1 Axes>"
      ]
     },
     "metadata": {},
     "output_type": "display_data"
    }
   ],
   "source": [
    "df_province = wine[wine.province.isin(wine.province.value_counts().head(10).index)]\n",
    "\n",
    "plt.figure(figsize=(15,5))\n",
    "ax = sns.barplot(x = 'province', y='price', hue='quality', data = df_province)"
   ]
  },
  {
   "cell_type": "code",
   "execution_count": 182,
   "metadata": {},
   "outputs": [
    {
     "data": {
      "text/plain": [
       "<matplotlib.axes._subplots.AxesSubplot at 0x1a297f5fd0>"
      ]
     },
     "execution_count": 182,
     "metadata": {},
     "output_type": "execute_result"
    },
    {
     "data": {
      "image/png": "[encoded data removed]",
      "text/plain": [
       "<Figure size 1080x360 with 1 Axes>"
      ]
     },
     "metadata": {},
     "output_type": "display_data"
    }
   ],
   "source": [
    "plt.figure(figsize=(15,5))\n",
    "sns.countplot(x='province', hue='quality', data = df_province)"
   ]
  },
  {
   "cell_type": "markdown",
   "metadata": {},
   "source": [
    "### Working with NLP and textblob on wine description "
   ]
  },
  {
   "cell_type": "code",
   "execution_count": 113,
   "metadata": {},
   "outputs": [],
   "source": [
    "from nltk.tokenize import word_tokenize\n",
    "import nltk\n",
    "\n",
    "import re"
   ]
  },
  {
   "cell_type": "code",
   "execution_count": 114,
   "metadata": {
    "scrolled": true
   },
   "outputs": [
    {
     "data": {
      "text/plain": [
       "'Pineapple rind, lemon pith and orange blossom start off the aromas. The palate is a bit more opulent, with notes of honey-drizzled guava and mango giving way to a slightly astringent, semidry finish.'"
      ]
     },
     "execution_count": 114,
     "metadata": {},
     "output_type": "execute_result"
    }
   ],
   "source": [
    "wine.description[3]"
   ]
  },
  {
   "cell_type": "code",
   "execution_count": 115,
   "metadata": {},
   "outputs": [],
   "source": [
    "review = wine.description[3]\n",
    "analysis = TextBlob(review)"
   ]
  },
  {
   "cell_type": "code",
   "execution_count": 116,
   "metadata": {},
   "outputs": [
    {
     "data": {
      "text/plain": [
       "Sentiment(polarity=0.16666666666666669, subjectivity=0.3333333333333333)"
      ]
     },
     "execution_count": 116,
     "metadata": {},
     "output_type": "execute_result"
    }
   ],
   "source": [
    "analysis.sentiment"
   ]
  },
  {
   "cell_type": "code",
   "execution_count": 117,
   "metadata": {},
   "outputs": [
    {
     "data": {
      "text/plain": [
       "WordList(['Pineapple', 'rind', 'lemon', 'pith', 'and', 'orange', 'blossom', 'start', 'off', 'the', 'aromas', 'The', 'palate', 'is', 'a', 'bit', 'more', 'opulent', 'with', 'notes', 'of', 'honey-drizzled', 'guava', 'and', 'mango', 'giving', 'way', 'to', 'a', 'slightly', 'astringent', 'semidry', 'finish'])"
      ]
     },
     "execution_count": 117,
     "metadata": {},
     "output_type": "execute_result"
    }
   ],
   "source": [
    "analysis.words"
   ]
  },
  {
   "cell_type": "code",
   "execution_count": 69,
   "metadata": {},
   "outputs": [],
   "source": [
    "def polarity_calc(text):\n",
    "    try:\n",
    "        return TextBlob(text).sentiment.polarity\n",
    "    except:\n",
    "        return None"
   ]
  },
  {
   "cell_type": "code",
   "execution_count": 70,
   "metadata": {},
   "outputs": [],
   "source": [
    "def subjectivity_calc(text):\n",
    "    try:\n",
    "        return TextBlob(text).sentiment.subjectivity\n",
    "    except:\n",
    "        return None"
   ]
  },
  {
   "cell_type": "code",
   "execution_count": 71,
   "metadata": {},
   "outputs": [],
   "source": [
    "wine['polarity'] = wine['description'].apply(polarity_calc)\n",
    "wine['subjectivity'] = wine['description'].apply(subjectivity_calc)"
   ]
  },
  {
   "cell_type": "code",
   "execution_count": 72,
   "metadata": {
    "scrolled": true
   },
   "outputs": [
    {
     "data": {
      "text/html": [
       "<div>\n",
       "<style scoped>\n",
       "    .dataframe tbody tr th:only-of-type {\n",
       "        vertical-align: middle;\n",
       "    }\n",
       "\n",
       "    .dataframe tbody tr th {\n",
       "        vertical-align: top;\n",
       "    }\n",
       "\n",
       "    .dataframe thead th {\n",
       "        text-align: right;\n",
       "    }\n",
       "</style>\n",
       "<table border=\"1\" class=\"dataframe\">\n",
       "  <thead>\n",
       "    <tr style=\"text-align: right;\">\n",
       "      <th></th>\n",
       "      <th>polarity</th>\n",
       "      <th>subjectivity</th>\n",
       "    </tr>\n",
       "  </thead>\n",
       "  <tbody>\n",
       "    <tr>\n",
       "      <th>0</th>\n",
       "      <td>0.133333</td>\n",
       "      <td>0.733333</td>\n",
       "    </tr>\n",
       "    <tr>\n",
       "      <th>1</th>\n",
       "      <td>0.220000</td>\n",
       "      <td>0.460000</td>\n",
       "    </tr>\n",
       "    <tr>\n",
       "      <th>2</th>\n",
       "      <td>0.025000</td>\n",
       "      <td>0.358333</td>\n",
       "    </tr>\n",
       "    <tr>\n",
       "      <th>3</th>\n",
       "      <td>0.166667</td>\n",
       "      <td>0.333333</td>\n",
       "    </tr>\n",
       "    <tr>\n",
       "      <th>4</th>\n",
       "      <td>0.306667</td>\n",
       "      <td>0.448718</td>\n",
       "    </tr>\n",
       "  </tbody>\n",
       "</table>\n",
       "</div>"
      ],
      "text/plain": [
       "   polarity  subjectivity\n",
       "0  0.133333      0.733333\n",
       "1  0.220000      0.460000\n",
       "2  0.025000      0.358333\n",
       "3  0.166667      0.333333\n",
       "4  0.306667      0.448718"
      ]
     },
     "execution_count": 72,
     "metadata": {},
     "output_type": "execute_result"
    }
   ],
   "source": [
    "wine[['polarity', 'subjectivity']].head()"
   ]
  },
  {
   "cell_type": "code",
   "execution_count": 73,
   "metadata": {
    "scrolled": true
   },
   "outputs": [
    {
     "data": {
      "text/html": [
       "<div>\n",
       "<style scoped>\n",
       "    .dataframe tbody tr th:only-of-type {\n",
       "        vertical-align: middle;\n",
       "    }\n",
       "\n",
       "    .dataframe tbody tr th {\n",
       "        vertical-align: top;\n",
       "    }\n",
       "\n",
       "    .dataframe thead th {\n",
       "        text-align: right;\n",
       "    }\n",
       "</style>\n",
       "<table border=\"1\" class=\"dataframe\">\n",
       "  <thead>\n",
       "    <tr style=\"text-align: right;\">\n",
       "      <th></th>\n",
       "      <th>polarity</th>\n",
       "      <th>subjectivity</th>\n",
       "    </tr>\n",
       "  </thead>\n",
       "  <tbody>\n",
       "    <tr>\n",
       "      <th>count</th>\n",
       "      <td>129971.000000</td>\n",
       "      <td>129971.000000</td>\n",
       "    </tr>\n",
       "    <tr>\n",
       "      <th>mean</th>\n",
       "      <td>0.156991</td>\n",
       "      <td>0.496492</td>\n",
       "    </tr>\n",
       "    <tr>\n",
       "      <th>std</th>\n",
       "      <td>0.170302</td>\n",
       "      <td>0.151836</td>\n",
       "    </tr>\n",
       "    <tr>\n",
       "      <th>min</th>\n",
       "      <td>-0.800000</td>\n",
       "      <td>0.000000</td>\n",
       "    </tr>\n",
       "    <tr>\n",
       "      <th>25%</th>\n",
       "      <td>0.042857</td>\n",
       "      <td>0.401886</td>\n",
       "    </tr>\n",
       "    <tr>\n",
       "      <th>50%</th>\n",
       "      <td>0.154167</td>\n",
       "      <td>0.500000</td>\n",
       "    </tr>\n",
       "    <tr>\n",
       "      <th>75%</th>\n",
       "      <td>0.266667</td>\n",
       "      <td>0.593788</td>\n",
       "    </tr>\n",
       "    <tr>\n",
       "      <th>max</th>\n",
       "      <td>1.000000</td>\n",
       "      <td>1.000000</td>\n",
       "    </tr>\n",
       "  </tbody>\n",
       "</table>\n",
       "</div>"
      ],
      "text/plain": [
       "            polarity   subjectivity\n",
       "count  129971.000000  129971.000000\n",
       "mean        0.156991       0.496492\n",
       "std         0.170302       0.151836\n",
       "min        -0.800000       0.000000\n",
       "25%         0.042857       0.401886\n",
       "50%         0.154167       0.500000\n",
       "75%         0.266667       0.593788\n",
       "max         1.000000       1.000000"
      ]
     },
     "execution_count": 73,
     "metadata": {},
     "output_type": "execute_result"
    }
   ],
   "source": [
    "wine[['polarity', 'subjectivity']].describe()"
   ]
  },
  {
   "cell_type": "code",
   "execution_count": 118,
   "metadata": {
    "scrolled": true
   },
   "outputs": [
    {
     "data": {
      "text/plain": [
       "\"Savory dried thyme notes accent sunnier flavors of preserved peach in this brisk, off-dry wine. It's fruity and fresh, with an elegant, sprightly footprint.\""
      ]
     },
     "execution_count": 118,
     "metadata": {},
     "output_type": "execute_result"
    }
   ],
   "source": [
    "rating = wine.description[8]\n",
    "rating"
   ]
  },
  {
   "cell_type": "code",
   "execution_count": 119,
   "metadata": {},
   "outputs": [],
   "source": [
    "if re.search(r'fruit.',review):\n",
    "        print(\"fruity wine\")"
   ]
  },
  {
   "cell_type": "code",
   "execution_count": 120,
   "metadata": {},
   "outputs": [
    {
     "name": "stdout",
     "output_type": "stream",
     "text": [
      "fruity wine\n"
     ]
    }
   ],
   "source": [
    "if re.search(r'fruit.',wine.description[8]):\n",
    "        print(\"fruity wine\")\n",
    "    "
   ]
  },
  {
   "cell_type": "code",
   "execution_count": 60,
   "metadata": {},
   "outputs": [],
   "source": [
    "txt = 'fruit\\w+'"
   ]
  },
  {
   "cell_type": "code",
   "execution_count": 61,
   "metadata": {},
   "outputs": [
    {
     "data": {
      "text/plain": [
       "[]"
      ]
     },
     "execution_count": 61,
     "metadata": {},
     "output_type": "execute_result"
    }
   ],
   "source": [
    "re.findall(txt, review)"
   ]
  },
  {
   "cell_type": "code",
   "execution_count": 62,
   "metadata": {},
   "outputs": [
    {
     "data": {
      "text/plain": [
       "['fruity']"
      ]
     },
     "execution_count": 62,
     "metadata": {},
     "output_type": "execute_result"
    }
   ],
   "source": [
    "re.findall(txt, rating)"
   ]
  },
  {
   "cell_type": "code",
   "execution_count": 121,
   "metadata": {},
   "outputs": [
    {
     "data": {
      "text/plain": [
       "TfidfTransformer(norm='l2', smooth_idf=True, sublinear_tf=False, use_idf=True)"
      ]
     },
     "execution_count": 121,
     "metadata": {},
     "output_type": "execute_result"
    }
   ],
   "source": [
    "from sklearn.feature_extraction.text import TfidfTransformer\n",
    "\n",
    "transformer = TfidfTransformer()\n",
    "transformer"
   ]
  },
  {
   "cell_type": "code",
   "execution_count": 122,
   "metadata": {},
   "outputs": [],
   "source": [
    "vect = TfidfVectorizer(stop_words='english', lowercase = True)"
   ]
  },
  {
   "cell_type": "code",
   "execution_count": 124,
   "metadata": {},
   "outputs": [],
   "source": [
    "wine_sample = wine.description[:5000]\n",
    "X= vect.fit_transform(wine_sample)"
   ]
  },
  {
   "cell_type": "code",
   "execution_count": 66,
   "metadata": {},
   "outputs": [],
   "source": [
    "wineX = X.toarray()"
   ]
  },
  {
   "cell_type": "code",
   "execution_count": 67,
   "metadata": {},
   "outputs": [
    {
     "data": {
      "text/html": [
       "<div>\n",
       "<style scoped>\n",
       "    .dataframe tbody tr th:only-of-type {\n",
       "        vertical-align: middle;\n",
       "    }\n",
       "\n",
       "    .dataframe tbody tr th {\n",
       "        vertical-align: top;\n",
       "    }\n",
       "\n",
       "    .dataframe thead th {\n",
       "        text-align: right;\n",
       "    }\n",
       "</style>\n",
       "<table border=\"1\" class=\"dataframe\">\n",
       "  <thead>\n",
       "    <tr style=\"text-align: right;\">\n",
       "      <th></th>\n",
       "      <th>000</th>\n",
       "      <th>08</th>\n",
       "      <th>10</th>\n",
       "      <th>100</th>\n",
       "      <th>11</th>\n",
       "      <th>12</th>\n",
       "      <th>13</th>\n",
       "      <th>14</th>\n",
       "      <th>15</th>\n",
       "      <th>150</th>\n",
       "      <th>...</th>\n",
       "      <th>zestiness</th>\n",
       "      <th>zesty</th>\n",
       "      <th>zin</th>\n",
       "      <th>zinfandel</th>\n",
       "      <th>zing</th>\n",
       "      <th>zingy</th>\n",
       "      <th>zins</th>\n",
       "      <th>zippy</th>\n",
       "      <th>zweigelt</th>\n",
       "      <th>über</th>\n",
       "    </tr>\n",
       "  </thead>\n",
       "  <tbody>\n",
       "    <tr>\n",
       "      <th>0</th>\n",
       "      <td>0.0</td>\n",
       "      <td>0.0</td>\n",
       "      <td>0.0</td>\n",
       "      <td>0.0</td>\n",
       "      <td>0.0</td>\n",
       "      <td>0.0</td>\n",
       "      <td>0.0</td>\n",
       "      <td>0.0</td>\n",
       "      <td>0.0</td>\n",
       "      <td>0.0</td>\n",
       "      <td>...</td>\n",
       "      <td>0.0</td>\n",
       "      <td>0.0</td>\n",
       "      <td>0.0</td>\n",
       "      <td>0.0</td>\n",
       "      <td>0.0</td>\n",
       "      <td>0.0</td>\n",
       "      <td>0.0</td>\n",
       "      <td>0.0</td>\n",
       "      <td>0.0</td>\n",
       "      <td>0.0</td>\n",
       "    </tr>\n",
       "    <tr>\n",
       "      <th>1</th>\n",
       "      <td>0.0</td>\n",
       "      <td>0.0</td>\n",
       "      <td>0.0</td>\n",
       "      <td>0.0</td>\n",
       "      <td>0.0</td>\n",
       "      <td>0.0</td>\n",
       "      <td>0.0</td>\n",
       "      <td>0.0</td>\n",
       "      <td>0.0</td>\n",
       "      <td>0.0</td>\n",
       "      <td>...</td>\n",
       "      <td>0.0</td>\n",
       "      <td>0.0</td>\n",
       "      <td>0.0</td>\n",
       "      <td>0.0</td>\n",
       "      <td>0.0</td>\n",
       "      <td>0.0</td>\n",
       "      <td>0.0</td>\n",
       "      <td>0.0</td>\n",
       "      <td>0.0</td>\n",
       "      <td>0.0</td>\n",
       "    </tr>\n",
       "    <tr>\n",
       "      <th>2</th>\n",
       "      <td>0.0</td>\n",
       "      <td>0.0</td>\n",
       "      <td>0.0</td>\n",
       "      <td>0.0</td>\n",
       "      <td>0.0</td>\n",
       "      <td>0.0</td>\n",
       "      <td>0.0</td>\n",
       "      <td>0.0</td>\n",
       "      <td>0.0</td>\n",
       "      <td>0.0</td>\n",
       "      <td>...</td>\n",
       "      <td>0.0</td>\n",
       "      <td>0.0</td>\n",
       "      <td>0.0</td>\n",
       "      <td>0.0</td>\n",
       "      <td>0.0</td>\n",
       "      <td>0.0</td>\n",
       "      <td>0.0</td>\n",
       "      <td>0.0</td>\n",
       "      <td>0.0</td>\n",
       "      <td>0.0</td>\n",
       "    </tr>\n",
       "    <tr>\n",
       "      <th>3</th>\n",
       "      <td>0.0</td>\n",
       "      <td>0.0</td>\n",
       "      <td>0.0</td>\n",
       "      <td>0.0</td>\n",
       "      <td>0.0</td>\n",
       "      <td>0.0</td>\n",
       "      <td>0.0</td>\n",
       "      <td>0.0</td>\n",
       "      <td>0.0</td>\n",
       "      <td>0.0</td>\n",
       "      <td>...</td>\n",
       "      <td>0.0</td>\n",
       "      <td>0.0</td>\n",
       "      <td>0.0</td>\n",
       "      <td>0.0</td>\n",
       "      <td>0.0</td>\n",
       "      <td>0.0</td>\n",
       "      <td>0.0</td>\n",
       "      <td>0.0</td>\n",
       "      <td>0.0</td>\n",
       "      <td>0.0</td>\n",
       "    </tr>\n",
       "    <tr>\n",
       "      <th>4</th>\n",
       "      <td>0.0</td>\n",
       "      <td>0.0</td>\n",
       "      <td>0.0</td>\n",
       "      <td>0.0</td>\n",
       "      <td>0.0</td>\n",
       "      <td>0.0</td>\n",
       "      <td>0.0</td>\n",
       "      <td>0.0</td>\n",
       "      <td>0.0</td>\n",
       "      <td>0.0</td>\n",
       "      <td>...</td>\n",
       "      <td>0.0</td>\n",
       "      <td>0.0</td>\n",
       "      <td>0.0</td>\n",
       "      <td>0.0</td>\n",
       "      <td>0.0</td>\n",
       "      <td>0.0</td>\n",
       "      <td>0.0</td>\n",
       "      <td>0.0</td>\n",
       "      <td>0.0</td>\n",
       "      <td>0.0</td>\n",
       "    </tr>\n",
       "  </tbody>\n",
       "</table>\n",
       "<p>5 rows × 3317 columns</p>\n",
       "</div>"
      ],
      "text/plain": [
       "   000   08   10  100   11   12   13   14   15  150  ...   zestiness  zesty  \\\n",
       "0  0.0  0.0  0.0  0.0  0.0  0.0  0.0  0.0  0.0  0.0  ...         0.0    0.0   \n",
       "1  0.0  0.0  0.0  0.0  0.0  0.0  0.0  0.0  0.0  0.0  ...         0.0    0.0   \n",
       "2  0.0  0.0  0.0  0.0  0.0  0.0  0.0  0.0  0.0  0.0  ...         0.0    0.0   \n",
       "3  0.0  0.0  0.0  0.0  0.0  0.0  0.0  0.0  0.0  0.0  ...         0.0    0.0   \n",
       "4  0.0  0.0  0.0  0.0  0.0  0.0  0.0  0.0  0.0  0.0  ...         0.0    0.0   \n",
       "\n",
       "   zin  zinfandel  zing  zingy  zins  zippy  zweigelt  über  \n",
       "0  0.0        0.0   0.0    0.0   0.0    0.0       0.0   0.0  \n",
       "1  0.0        0.0   0.0    0.0   0.0    0.0       0.0   0.0  \n",
       "2  0.0        0.0   0.0    0.0   0.0    0.0       0.0   0.0  \n",
       "3  0.0        0.0   0.0    0.0   0.0    0.0       0.0   0.0  \n",
       "4  0.0        0.0   0.0    0.0   0.0    0.0       0.0   0.0  \n",
       "\n",
       "[5 rows x 3317 columns]"
      ]
     },
     "execution_count": 67,
     "metadata": {},
     "output_type": "execute_result"
    }
   ],
   "source": [
    "wine_vocab = vect.get_feature_names()\n",
    "wine_words = pd.DataFrame(wineX, columns = wine_vocab)\n",
    "wine_words.head()"
   ]
  },
  {
   "cell_type": "code",
   "execution_count": 68,
   "metadata": {},
   "outputs": [
    {
     "data": {
      "text/html": [
       "<div>\n",
       "<style scoped>\n",
       "    .dataframe tbody tr th:only-of-type {\n",
       "        vertical-align: middle;\n",
       "    }\n",
       "\n",
       "    .dataframe tbody tr th {\n",
       "        vertical-align: top;\n",
       "    }\n",
       "\n",
       "    .dataframe thead th {\n",
       "        text-align: right;\n",
       "    }\n",
       "</style>\n",
       "<table border=\"1\" class=\"dataframe\">\n",
       "  <thead>\n",
       "    <tr style=\"text-align: right;\">\n",
       "      <th></th>\n",
       "      <th>points</th>\n",
       "      <th>000</th>\n",
       "      <th>08</th>\n",
       "      <th>10</th>\n",
       "      <th>100</th>\n",
       "      <th>11</th>\n",
       "      <th>12</th>\n",
       "      <th>13</th>\n",
       "      <th>14</th>\n",
       "      <th>15</th>\n",
       "      <th>...</th>\n",
       "      <th>zestiness</th>\n",
       "      <th>zesty</th>\n",
       "      <th>zin</th>\n",
       "      <th>zinfandel</th>\n",
       "      <th>zing</th>\n",
       "      <th>zingy</th>\n",
       "      <th>zins</th>\n",
       "      <th>zippy</th>\n",
       "      <th>zweigelt</th>\n",
       "      <th>über</th>\n",
       "    </tr>\n",
       "  </thead>\n",
       "  <tbody>\n",
       "    <tr>\n",
       "      <th>0</th>\n",
       "      <td>87</td>\n",
       "      <td>0.0</td>\n",
       "      <td>0.0</td>\n",
       "      <td>0.0</td>\n",
       "      <td>0.0</td>\n",
       "      <td>0.0</td>\n",
       "      <td>0.0</td>\n",
       "      <td>0.0</td>\n",
       "      <td>0.0</td>\n",
       "      <td>0.0</td>\n",
       "      <td>...</td>\n",
       "      <td>0.0</td>\n",
       "      <td>0.0</td>\n",
       "      <td>0.0</td>\n",
       "      <td>0.0</td>\n",
       "      <td>0.0</td>\n",
       "      <td>0.0</td>\n",
       "      <td>0.0</td>\n",
       "      <td>0.0</td>\n",
       "      <td>0.0</td>\n",
       "      <td>0.0</td>\n",
       "    </tr>\n",
       "    <tr>\n",
       "      <th>1</th>\n",
       "      <td>87</td>\n",
       "      <td>0.0</td>\n",
       "      <td>0.0</td>\n",
       "      <td>0.0</td>\n",
       "      <td>0.0</td>\n",
       "      <td>0.0</td>\n",
       "      <td>0.0</td>\n",
       "      <td>0.0</td>\n",
       "      <td>0.0</td>\n",
       "      <td>0.0</td>\n",
       "      <td>...</td>\n",
       "      <td>0.0</td>\n",
       "      <td>0.0</td>\n",
       "      <td>0.0</td>\n",
       "      <td>0.0</td>\n",
       "      <td>0.0</td>\n",
       "      <td>0.0</td>\n",
       "      <td>0.0</td>\n",
       "      <td>0.0</td>\n",
       "      <td>0.0</td>\n",
       "      <td>0.0</td>\n",
       "    </tr>\n",
       "    <tr>\n",
       "      <th>2</th>\n",
       "      <td>87</td>\n",
       "      <td>0.0</td>\n",
       "      <td>0.0</td>\n",
       "      <td>0.0</td>\n",
       "      <td>0.0</td>\n",
       "      <td>0.0</td>\n",
       "      <td>0.0</td>\n",
       "      <td>0.0</td>\n",
       "      <td>0.0</td>\n",
       "      <td>0.0</td>\n",
       "      <td>...</td>\n",
       "      <td>0.0</td>\n",
       "      <td>0.0</td>\n",
       "      <td>0.0</td>\n",
       "      <td>0.0</td>\n",
       "      <td>0.0</td>\n",
       "      <td>0.0</td>\n",
       "      <td>0.0</td>\n",
       "      <td>0.0</td>\n",
       "      <td>0.0</td>\n",
       "      <td>0.0</td>\n",
       "    </tr>\n",
       "    <tr>\n",
       "      <th>3</th>\n",
       "      <td>87</td>\n",
       "      <td>0.0</td>\n",
       "      <td>0.0</td>\n",
       "      <td>0.0</td>\n",
       "      <td>0.0</td>\n",
       "      <td>0.0</td>\n",
       "      <td>0.0</td>\n",
       "      <td>0.0</td>\n",
       "      <td>0.0</td>\n",
       "      <td>0.0</td>\n",
       "      <td>...</td>\n",
       "      <td>0.0</td>\n",
       "      <td>0.0</td>\n",
       "      <td>0.0</td>\n",
       "      <td>0.0</td>\n",
       "      <td>0.0</td>\n",
       "      <td>0.0</td>\n",
       "      <td>0.0</td>\n",
       "      <td>0.0</td>\n",
       "      <td>0.0</td>\n",
       "      <td>0.0</td>\n",
       "    </tr>\n",
       "    <tr>\n",
       "      <th>4</th>\n",
       "      <td>87</td>\n",
       "      <td>0.0</td>\n",
       "      <td>0.0</td>\n",
       "      <td>0.0</td>\n",
       "      <td>0.0</td>\n",
       "      <td>0.0</td>\n",
       "      <td>0.0</td>\n",
       "      <td>0.0</td>\n",
       "      <td>0.0</td>\n",
       "      <td>0.0</td>\n",
       "      <td>...</td>\n",
       "      <td>0.0</td>\n",
       "      <td>0.0</td>\n",
       "      <td>0.0</td>\n",
       "      <td>0.0</td>\n",
       "      <td>0.0</td>\n",
       "      <td>0.0</td>\n",
       "      <td>0.0</td>\n",
       "      <td>0.0</td>\n",
       "      <td>0.0</td>\n",
       "      <td>0.0</td>\n",
       "    </tr>\n",
       "  </tbody>\n",
       "</table>\n",
       "<p>5 rows × 3318 columns</p>\n",
       "</div>"
      ],
      "text/plain": [
       "   points  000   08   10  100   11   12   13   14   15  ...   zestiness  \\\n",
       "0      87  0.0  0.0  0.0  0.0  0.0  0.0  0.0  0.0  0.0  ...         0.0   \n",
       "1      87  0.0  0.0  0.0  0.0  0.0  0.0  0.0  0.0  0.0  ...         0.0   \n",
       "2      87  0.0  0.0  0.0  0.0  0.0  0.0  0.0  0.0  0.0  ...         0.0   \n",
       "3      87  0.0  0.0  0.0  0.0  0.0  0.0  0.0  0.0  0.0  ...         0.0   \n",
       "4      87  0.0  0.0  0.0  0.0  0.0  0.0  0.0  0.0  0.0  ...         0.0   \n",
       "\n",
       "   zesty  zin  zinfandel  zing  zingy  zins  zippy  zweigelt  über  \n",
       "0    0.0  0.0        0.0   0.0    0.0   0.0    0.0       0.0   0.0  \n",
       "1    0.0  0.0        0.0   0.0    0.0   0.0    0.0       0.0   0.0  \n",
       "2    0.0  0.0        0.0   0.0    0.0   0.0    0.0       0.0   0.0  \n",
       "3    0.0  0.0        0.0   0.0    0.0   0.0    0.0       0.0   0.0  \n",
       "4    0.0  0.0        0.0   0.0    0.0   0.0    0.0       0.0   0.0  \n",
       "\n",
       "[5 rows x 3318 columns]"
      ]
     },
     "execution_count": 68,
     "metadata": {},
     "output_type": "execute_result"
    }
   ],
   "source": [
    "reg_test = pd.concat([wine.points , wine_words],axis=1)\n",
    "reg_test.head()"
   ]
  },
  {
   "cell_type": "code",
   "execution_count": 172,
   "metadata": {},
   "outputs": [
    {
     "data": {
      "text/plain": [
       "(119988, 538)"
      ]
     },
     "execution_count": 172,
     "metadata": {},
     "output_type": "execute_result"
    }
   ],
   "source": [
    "reg_test.shape"
   ]
  },
  {
   "cell_type": "code",
   "execution_count": 94,
   "metadata": {},
   "outputs": [
    {
     "data": {
      "text/plain": [
       "points       200\n",
       "15           200\n",
       "2018         200\n",
       "2019         200\n",
       "2020         200\n",
       "accents      200\n",
       "acidity      200\n",
       "almond       200\n",
       "alongside    200\n",
       "anise        200\n",
       "dtype: int64"
      ]
     },
     "execution_count": 94,
     "metadata": {},
     "output_type": "execute_result"
    }
   ],
   "source": [
    "reg_test.notnull().sum()[:10]"
   ]
  },
  {
   "cell_type": "code",
   "execution_count": 79,
   "metadata": {},
   "outputs": [],
   "source": [
    "reg_test = reg_test.dropna()"
   ]
  },
  {
   "cell_type": "code",
   "execution_count": 80,
   "metadata": {},
   "outputs": [],
   "source": [
    "X = reg_test.drop('points',axis=1)\n",
    "y = reg_test.points\n",
    "\n",
    "X_train, X_test, y_train, y_test = train_test_split(X,y)"
   ]
  },
  {
   "cell_type": "code",
   "execution_count": 81,
   "metadata": {},
   "outputs": [
    {
     "data": {
      "text/plain": [
       "(200, 285)"
      ]
     },
     "execution_count": 81,
     "metadata": {},
     "output_type": "execute_result"
    }
   ],
   "source": [
    "X.shape"
   ]
  },
  {
   "cell_type": "code",
   "execution_count": 82,
   "metadata": {},
   "outputs": [
    {
     "data": {
      "text/plain": [
       "(200,)"
      ]
     },
     "execution_count": 82,
     "metadata": {},
     "output_type": "execute_result"
    }
   ],
   "source": [
    "y.shape"
   ]
  },
  {
   "cell_type": "code",
   "execution_count": 83,
   "metadata": {},
   "outputs": [],
   "source": [
    "from sklearn.preprocessing import StandardScaler\n",
    "from sklearn.preprocessing import PolynomialFeatures\n",
    "\n",
    "pipe = make_pipeline(StandardScaler(), LinearRegression())\n",
    "degrees = {'polynomialfeatures__degree': [i for i in range(1, 5)]}\n",
    "\n",
    "grid = GridSearchCV(pipe, param_grid=degrees)"
   ]
  },
  {
   "cell_type": "code",
   "execution_count": 84,
   "metadata": {},
   "outputs": [],
   "source": [
    "from sklearn.linear_model import Ridge\n",
    "ridge_reg = Ridge(alpha = 1)"
   ]
  },
  {
   "cell_type": "code",
   "execution_count": 85,
   "metadata": {},
   "outputs": [
    {
     "data": {
      "text/plain": [
       "Ridge(alpha=1, copy_X=True, fit_intercept=True, max_iter=None,\n",
       "   normalize=False, random_state=None, solver='auto', tol=0.001)"
      ]
     },
     "execution_count": 85,
     "metadata": {},
     "output_type": "execute_result"
    }
   ],
   "source": [
    "ridge_reg.fit(X_train, y_train)"
   ]
  },
  {
   "cell_type": "code",
   "execution_count": 86,
   "metadata": {},
   "outputs": [],
   "source": [
    "rpred = ridge_reg.predict(X_test)"
   ]
  },
  {
   "cell_type": "code",
   "execution_count": 87,
   "metadata": {},
   "outputs": [
    {
     "name": "stdout",
     "output_type": "stream",
     "text": [
      "The r2 value is : 0.3551\n"
     ]
    }
   ],
   "source": [
    "score = ridge_reg.score(X_test, y_test)\n",
    "print('The r2 value is : {:.4f}'.format(score))"
   ]
  },
  {
   "cell_type": "code",
   "execution_count": 88,
   "metadata": {},
   "outputs": [
    {
     "data": {
      "text/plain": [
       "285"
      ]
     },
     "execution_count": 88,
     "metadata": {},
     "output_type": "execute_result"
    }
   ],
   "source": [
    "np.sum(ridge_reg.coef_ != 0)"
   ]
  },
  {
   "cell_type": "code",
   "execution_count": 90,
   "metadata": {},
   "outputs": [
    {
     "data": {
      "text/plain": [
       "array([-0.59366265,  1.30579522,  0.56785089,  0.97467969, -0.11928891,\n",
       "       -0.33644341, -0.83726472, -0.3496633 ,  0.82882707, -0.18755208,\n",
       "        0.58139441, -0.62535949, -1.13618579,  0.31723831, -0.69672108,\n",
       "       -0.2703027 ,  1.75951391,  0.8371717 ,  0.25606639,  0.93536519,\n",
       "        0.12032811,  0.38818249,  0.06340849,  1.13379535,  0.14117501,\n",
       "        0.52384297,  0.76313015,  0.49515471, -0.73497864,  0.98356522,\n",
       "       -0.54592121, -0.67038628,  0.75953713, -0.09626139, -0.98598684,\n",
       "       -0.47603904, -0.08614658,  0.379667  ,  0.08588055,  0.09950466,\n",
       "        0.07319833,  0.18496283, -0.47517515, -0.54333053,  0.7527495 ,\n",
       "       -0.19162583,  0.63289773,  0.57048888,  0.98762488,  0.08062454,\n",
       "       -0.03675626,  0.87915189, -0.48214598, -0.01257593,  0.27906696,\n",
       "       -0.32411311,  0.02177154,  0.41892449,  1.15998165,  0.36093613,\n",
       "        0.55393662,  0.36334034,  0.37106912,  0.31566716, -0.70131144,\n",
       "       -0.18755717,  1.9279552 ,  0.28318783, -0.81440878,  0.38131659,\n",
       "        0.48004872,  0.21445202,  0.72632308, -0.32184631,  0.16940691,\n",
       "       -0.67215936, -0.09323388, -0.57901296, -0.61508585, -0.76301041,\n",
       "        1.79966789,  0.09762914,  0.99357165,  0.18092019,  0.46068521,\n",
       "        0.42476948, -0.61045083, -0.63371722,  0.71269324,  1.07712729,\n",
       "        0.56230406, -0.23576792, -1.18469084,  0.72618534, -0.52012499,\n",
       "        1.37653743, -0.3483314 , -0.45233448, -0.34795214,  1.27879642,\n",
       "        0.45176265,  0.59868568, -0.85885762, -0.33802608, -0.78090843,\n",
       "       -0.26753031,  1.14578082,  0.24478705,  0.44811111, -0.98469356,\n",
       "        0.01367209,  0.77083054,  0.32153313, -0.38889359,  0.97117711,\n",
       "        0.00258896, -1.66429787,  0.46255973,  0.86142551,  0.24479745,\n",
       "        0.98664397,  1.06159386,  1.1472302 ,  0.42095278,  0.42013209,\n",
       "        0.66512794,  0.3670429 , -0.23057786,  0.07558609,  0.99273002,\n",
       "       -0.90238281,  0.66840862, -1.52013394, -0.12211973,  0.29515241,\n",
       "       -0.6459834 ,  0.41260557, -0.15551059, -1.15692222, -0.66297316,\n",
       "       -0.40379347, -0.31357806,  1.28542656,  1.52065003,  0.87552783,\n",
       "       -0.40499945, -0.49374939, -0.61051046,  0.15698305,  0.0928562 ,\n",
       "        0.20053547,  0.9755157 , -0.44130374,  1.21681265,  0.09388385,\n",
       "       -0.62977187, -0.35830291, -0.64324253,  0.38617196, -0.69672108,\n",
       "        0.75587792,  0.50664692,  1.85669575, -0.1441381 , -0.82885469,\n",
       "        0.49441534, -0.36045461, -0.90135464, -0.14289181, -0.6307687 ,\n",
       "       -0.46205172, -0.61688987, -0.00439988,  0.08901599, -0.38536034,\n",
       "        0.62380934, -0.35453757,  0.83885917, -0.9662881 , -0.11935059,\n",
       "        0.96802147, -0.45888468,  0.08810471,  0.47326333, -0.4427811 ,\n",
       "       -0.37300438, -0.80806702, -0.82354055,  0.17512182,  0.77111472,\n",
       "       -0.30351402, -0.78445681,  0.67779563,  0.08583997,  0.10141155,\n",
       "       -0.43597222, -0.29577918, -0.3912953 , -0.06675533,  0.81131884,\n",
       "       -1.19691146, -1.07120146,  0.21509774, -0.05462992,  2.04484731,\n",
       "       -0.36861245,  0.57188567,  0.90524163,  0.50266182, -0.25872502,\n",
       "        0.33439052,  0.24298931, -0.09219456,  0.32016888,  0.02368247,\n",
       "       -0.17100783,  0.60112133, -0.45537075, -0.7011288 ,  0.24048398,\n",
       "        0.23892037, -0.89617887,  0.31663809,  0.08810471, -0.91800786,\n",
       "        0.55941043,  0.82748868,  0.26282101, -0.27583141, -1.71861858,\n",
       "       -0.34880665, -0.54962464, -0.16678163,  0.75529082, -0.25836671,\n",
       "        0.54515328, -0.18294141,  0.07129452,  1.71232767,  1.82963729,\n",
       "        0.54518893,  0.44679751,  0.36167344, -0.99274631, -0.18878848,\n",
       "       -0.20792225,  0.51651843,  0.17038297,  0.32324709,  0.31717672,\n",
       "        0.31083443, -1.29588072,  0.3674231 ,  0.8192611 ,  0.21862451,\n",
       "       -0.05072952,  0.53354581, -0.66015109,  0.17360843,  1.7277236 ,\n",
       "        0.29440661, -0.8847991 , -0.54138785, -0.90120371, -0.44164207,\n",
       "        0.15536474,  0.37529674,  0.25852388,  0.31339059, -0.10322445,\n",
       "        0.57378915,  1.14480033,  0.64302493, -0.52707391,  0.26783686,\n",
       "       -0.0874362 , -0.74623762, -0.36468449,  0.60390925,  1.42429568,\n",
       "        0.37045584,  1.13634138, -0.12251006,  0.64600363,  1.12114809])"
      ]
     },
     "execution_count": 90,
     "metadata": {},
     "output_type": "execute_result"
    }
   ],
   "source": [
    "ridge_reg.coef_"
   ]
  },
  {
   "cell_type": "code",
   "execution_count": 188,
   "metadata": {},
   "outputs": [],
   "source": [
    "#wine_sample = wine_sample.astype(str)\n"
   ]
  },
  {
   "cell_type": "code",
   "execution_count": 125,
   "metadata": {},
   "outputs": [],
   "source": [
    "from nltk.tokenize import RegexpTokenizer\n",
    "tokenizer = RegexpTokenizer('[a-zA-Z]\\w+')\n",
    "from nltk.tokenize import WordPunctTokenizer"
   ]
  },
  {
   "cell_type": "code",
   "execution_count": 126,
   "metadata": {},
   "outputs": [],
   "source": [
    "from nltk.corpus import stopwords\n",
    "stop_words = set(stopwords.words('english'))"
   ]
  },
  {
   "cell_type": "code",
   "execution_count": 153,
   "metadata": {},
   "outputs": [],
   "source": [
    "wine_sample = wine.description[:15000]\n",
    "wine_tokens = [] \n",
    "for string in wine_sample:\n",
    "    wine_tokens.append(tokenizer.tokenize(string))\n",
    "#tokenizer.tokenize(wine_sample)\n",
    "#tokens"
   ]
  },
  {
   "cell_type": "code",
   "execution_count": 154,
   "metadata": {},
   "outputs": [],
   "source": [
    "wine_list = sum(wine_tokens, [])\n"
   ]
  },
  {
   "cell_type": "code",
   "execution_count": 155,
   "metadata": {},
   "outputs": [],
   "source": [
    "words = []\n",
    "for word in wine_list:\n",
    "    words.append(word.lower())"
   ]
  },
  {
   "cell_type": "code",
   "execution_count": 156,
   "metadata": {},
   "outputs": [
    {
     "name": "stdout",
     "output_type": "stream",
     "text": [
      "['aromas', 'include', 'tropical', 'fruit', 'broom', 'brimstone', 'dried', 'herb', 'palate', 'overly', 'expressive', 'offering', 'unripened', 'apple', 'citrus', 'dried', 'sage', 'alongside', 'brisk', 'acidity', 'ripe', 'fruity', 'wine', 'smooth', 'still', 'structured', 'firm', 'tannins', 'filled', 'juicy', 'red', 'berry', 'fruits', 'freshened', 'acidity', 'already', 'drinkable', 'although', 'certainly', 'better', 'tart', 'snappy', 'flavors', 'lime', 'flesh', 'rind', 'dominate', 'green', 'pineapple', 'pokes', 'crisp', 'acidity', 'underscoring', 'flavors', 'wine', 'stainless', 'steel', 'fermented', 'pineapple', 'rind', 'lemon', 'pith', 'orange', 'blossom', 'start', 'aromas', 'palate', 'bit', 'opulent', 'notes', 'honey', 'drizzled', 'guava', 'mango', 'giving', 'way', 'slightly', 'astringent', 'semidry', 'finish', 'much', 'like', 'regular', 'bottling', 'comes', 'across', 'rather', 'rough', 'tannic', 'rustic', 'earthy', 'herbal', 'characteristics', 'nonetheless', 'think', 'pleasantly', 'unfussy', 'country', 'wine', 'good']\n"
     ]
    }
   ],
   "source": [
    "wine_wordin = [w for w in words if not w in stop_words]\n",
    "print(wine_wordin[:100])"
   ]
  },
  {
   "cell_type": "code",
   "execution_count": 157,
   "metadata": {},
   "outputs": [
    {
     "data": {
      "text/plain": [
       "nltk.probability.FreqDist"
      ]
     },
     "execution_count": 157,
     "metadata": {},
     "output_type": "execute_result"
    }
   ],
   "source": [
    "wine_text = nltk.Text(wine_wordin)\n",
    "fdist = nltk.FreqDist(wine_text)\n",
    "type(fdist)"
   ]
  },
  {
   "cell_type": "code",
   "execution_count": 158,
   "metadata": {},
   "outputs": [
    {
     "data": {
      "text/plain": [
       "[('wine', 9200),\n",
       " ('flavors', 7269),\n",
       " ('fruit', 5687),\n",
       " ('aromas', 4659),\n",
       " ('palate', 4388),\n",
       " ('finish', 4036),\n",
       " ('acidity', 4016),\n",
       " ('tannins', 3457),\n",
       " ('drink', 3423),\n",
       " ('black', 3412)]"
      ]
     },
     "execution_count": 158,
     "metadata": {},
     "output_type": "execute_result"
    }
   ],
   "source": [
    "fdist.most_common(10)"
   ]
  },
  {
   "cell_type": "code",
   "execution_count": 159,
   "metadata": {},
   "outputs": [
    {
     "data": {
      "image/png": "[encoded data removed]",
      "text/plain": [
       "<Figure size 648x504 with 1 Axes>"
      ]
     },
     "metadata": {},
     "output_type": "display_data"
    }
   ],
   "source": [
    "plt.figure(figsize = (9, 7))\n",
    "fdist.plot(20)"
   ]
  },
  {
   "cell_type": "code",
   "execution_count": 79,
   "metadata": {},
   "outputs": [
    {
     "name": "stdout",
     "output_type": "stream",
     "text": [
      "{'aromas': 206, 'include': 1508, 'tropical': 3070, 'fruit': 1264, 'broom': 441, 'brimstone': 425, 'dried': 938, 'herb': 1435, 'palate': 2070, 'isn': 1558, 'overly': 2049, 'expressive': 1092, 'offering': 2009, 'unripened': 3125, 'apple': 189, 'citrus': 607, 'sage': 2521, 'alongside': 158, 'brisk': 432, 'acidity': 101, 'ripe': 2457, 'fruity': 1269, 'wine': 3255, 'smooth': 2707, 'structured': 2852, 'firm': 1170, 'tannins': 2940, 'filled': 1153, 'juicy': 1589, 'red': 2378, 'berry': 317, 'fruits': 1268, 'freshened': 1249, 'drinkable': 941, 'certainly': 542, 'better': 320, '2016': 31, 'tart': 2945, 'snappy': 2711, 'flavors': 1184, 'lime': 1708, 'flesh': 1186, 'rind': 2452, 'dominate': 919, 'green': 1370, 'pineapple': 2156, 'pokes': 2203, 'crisp': 773, 'underscoring': 3109, 'stainless': 2790, 'steel': 2811, 'fermented': 1141, 'lemon': 1675, 'pith': 2167, 'orange': 2033, 'blossom': 355, 'start': 2797, 'bit': 328, 'opulent': 2032, 'notes': 1988, 'honey': 1467, 'drizzled': 948, 'guava': 1392, 'mango': 1780, 'giving': 1322, 'way': 3227, 'slightly': 2685, 'astringent': 225, 'semidry': 2595, 'finish': 1165, 'like': 1704, 'regular': 2393, 'bottling': 387, '2012': 28, 'comes': 664, 'rough': 2496, 'tannic': 2938, 'rustic': 2516, 'earthy': 971, 'herbal': 1438, 'characteristics': 556, 'nonetheless': 1979, 'think': 2998, 'pleasantly': 2181, 'unfussy': 3115, 'country': 746, 'good': 1335, 'companion': 671, 'hearty': 1422, 'winter': 3260, 'stew': 2821, 'blackberry': 336, 'raspberry': 2356, 'typical': 3088, 'navarran': 1940, 'whiff': 3244, 'herbs': 1441, 'case': 523, 'horseradish': 1474, 'mouth': 1916, 'fairly': 1112, 'bodied': 364, 'tomatoey': 3038, 'spicy': 2769, 'complement': 677, 'dark': 811, 'plum': 2189, 'fresh': 1248, 'grabby': 1340, 'bright': 418, 'informal': 1523, 'opens': 2028, 'candied': 496, 'white': 3248, 'pepper': 2108, 'savory': 2552, 'carry': 519, 'balanced': 260, 'soft': 2717, 'dry': 953, 'restrained': 2421, 'offers': 2010, 'spice': 2764, 'profusion': 2274, 'texture': 2988, 'food': 1216, 'thyme': 3010, 'accent': 88, 'sunnier': 2886, 'preserved': 2250, 'peach': 2095, 'elegant': 1001, 'sprightly': 2776, 'footprint': 1220, 'great': 1367, 'depth': 861, 'flavor': 1181, 'pear': 2099, 'touch': 3049, 'drink': 940, 'supple': 2895, 'envelopes': 1044, 'oaky': 2002, 'structure': 2851, 'cabernet': 483, 'supported': 2897, '15': 8, 'merlot': 1847, 'coffee': 649, 'chocolate': 594, 'complete': 680, 'picture': 2146, 'finishing': 1168, 'strong': 2848, 'end': 1018, 'resulting': 2425, 'value': 3139, 'priced': 2256, 'attractive': 231, 'immediate': 1492, 'accessibility': 93, 'tight': 3012, 'taut': 2957, 'strongly': 2849, 'mineral': 1867, 'character': 554, 'layered': 1648, 'aftertaste': 127, 'reduced': 2381, 'chalky': 546, 'backbone': 248, 'explosion': 1087, 'rich': 2440, 'black': 334, 'cherry': 577, 'accented': 89, 'oak': 2000, 'cigar': 603, 'box': 394, 'dominated': 920, 'driven': 946, 'roasted': 2470, 'bean': 286, 'espresso': 1051, 'coconut': 647, 'vanilla': 3141, 'drying': 954, 'abrupt': 82, 'building': 458, '150': 9, 'years': 3289, 'generations': 1297, 'winemaking': 3257, 'tradition': 3060, 'winery': 3258, 'trends': 3069, 'leaner': 1659, 'style': 2861, 'classic': 618, 'california': 487, 'buttercream': 476, 'aroma': 205, 'cut': 800, 'everyday': 1060, 'sipping': 2664, 'range': 2351, 'barely': 272, 'prove': 2290, 'approachable': 193, 'distinctive': 906, 'zesty': 3308, 'peels': 2104, 'abound': 81, 'toned': 3040, 'riesling': 2448, 'racy': 2338, 'lean': 1658, 'refreshing': 2387, 'easy': 975, 'quaffer': 2325, 'wide': 3250, 'appeal': 180, 'baked': 257, 'molasses': 1893, 'balsamic': 264, 'vinegar': 3179, 'cheesy': 573, 'feed': 1135, 'braced': 398, 'bolt': 371, 'compact': 670, 'set': 2602, 'saucy': 2548, 'features': 1134, 'tobacco': 3032, 'peppery': 2113, 'accents': 90, 'mildly': 1863, 'respectable': 2420, 'weight': 3233, 'balance': 259, 'raw': 2361, 'direct': 890, 'simple': 2656, 'feel': 1136, 'thickens': 2993, 'time': 3018, 'extract': 1098, 'apparent': 179, 'profile': 2273, 'smoldering': 2706, 'finishes': 1167, 'meaty': 1827, 'hot': 1476, 'desiccated': 866, 'leather': 1662, 'charred': 567, 'wood': 3270, 'mint': 1874, 'nose': 1984, 'heavily': 1426, 'oaked': 2001, 'tinto': 3025, 'fino': 1169, 'clove': 637, 'woodspice': 3272, 'sit': 2667, 'hickory': 1445, 'forceful': 1222, 'based': 280, 'rise': 2462, 'pervade': 2136, 'menthol': 1842, 'riding': 2447, 'entry': 1042, 'riper': 2460, 'specked': 2760, 'crushed': 783, 'blend': 346, 'sauvignon': 2550, 'franc': 1243, 'ready': 2366, 'enjoyed': 1032, 'berries': 316, 'mingle': 1871, 'ample': 171, 'toasted': 3029, 'dusty': 964, 'nature': 1939, 'currant': 792, 'shine': 2626, 'levity': 1689, 'sleek': 2681, 'mix': 1882, 'stem': 2817, 'hint': 1454, 'fair': 1111, 'widely': 3251, 'available': 240, 'oregon': 2037, 'pinot': 2160, 'aged': 131, 'months': 1899, 'neutral': 1962, 'staved': 2802, 'indicated': 1515, 'delicate': 841, 'recall': 2371, 'flower': 1198, 'passion': 2088, 'geneseo': 1300, 'district': 909, 'sour': 2741, 'plums': 2192, 'just': 1594, 'tempt': 2969, 'flat': 1180, 'tension': 2977, 'cherries': 576, 'emerges': 1012, 'midpalate': 1858, 'bolstered': 370, 'licorice': 1691, 'prune': 2296, 'blackcurrant': 337, 'toast': 3028, 'extracted': 1099, 'beans': 287, 'provide': 2292, 'framework': 1242, 'earth': 969, 'intermingle': 1541, 'robust': 2472, 'wet': 3243, 'forest': 1223, 'floor': 1193, 'vineyard': 3181, 'designated': 868, 'hails': 1399, 'high': 1447, 'elevation': 1006, 'site': 2668, 'small': 2694, 'production': 2272, 'intense': 1535, 'steeped': 2814, 'smoky': 2705, 'pretty': 2253, 'yellow': 3293, 'stone': 2827, 'lead': 1653, 'apricot': 197, 'lightly': 1701, 'cake': 485, 'round': 2498, 'soon': 2731, 'suggest': 2877, 'mature': 1812, 'scorched': 2565, 'animal': 173, 'anise': 174, 'cocoa': 646, 'clarksburg': 615, 'haven': 1415, 'chenin': 575, 'blanc': 341, 'using': 3134, 'sourced': 2743, 'vineyards': 3182, 'area': 201, 'trace': 3055, 'sweetness': 2919, 'background': 250, 'residual': 2417, 'sugar': 2875, 'straightforward': 2835, 'blessed': 350, 'cold': 652, 'laced': 1624, 'light': 1698, 'open': 2025, 'nero': 1958, 'avola': 243, 'form': 1225, 'base': 279, 'pair': 2066, 'fettuccine': 1145, 'meat': 1825, 'sauce': 2547, 'pork': 2217, 'roast': 2469, 'quality': 2329, 'clean': 623, 'sharp': 2618, 'extended': 1094, 'calanìca': 486, 'series': 2600, 'grillo': 1378, 'viognier': 3187, 'shows': 2638, 'honeysuckle': 1471, 'jasmine': 1571, 'backed': 249, 'touches': 3051, 'grass': 1359, 'wild': 3252, 'currants': 793, 'spices': 2766, 'gooseberry': 1337, 'similar': 2654, 'new': 1963, 'zealand': 3305, 'unoaked': 3121, 'splash': 2771, 'muscat': 1925, 'commendable': 668, 'dryness': 956, 'erath': 1049, '2010': 26, 'designates': 869, 'leaf': 1656, 'create': 766, 'somewhat': 2728, 'unripe': 3124, 'impressions': 1503, 'bitterness': 332, 'passes': 2087, 'ripeness': 2459, 'sweet': 2915, 'tomatoes': 3037, 'lychee': 1758, 'mellow': 1834, 'bouquet': 389, 'chunky': 599, 'feeling': 1137, 'bears': 289, 'powdery': 2229, 'melon': 1836, 'mixed': 1883, 'greener': 1371, '80': 73, 'component': 685, 'warm': 3213, 'climate': 630, 'plump': 2191, 'oily': 2014, 'short': 2630, 'chardonnay': 561, 'fills': 1155, 'concentrated': 693, 'cured': 791, 'rosemary': 2490, 'barbecue': 269, 'teriyaki': 2978, 'bold': 367, 'chewy': 582, 'inky': 1526, 'color': 654, 'jam': 1566, 'rum': 2509, 'natural': 1938, 'movement': 1921, 'organic': 2038, 'grapes': 1354, 'label': 1622, 'printed': 2261, 'vegetable': 3153, 'ink': 1525, 'recycled': 2377, 'paper': 2076, 'nice': 1967, 'catarratto': 528, 'sicily': 2643, 'farmed': 1122, 'grape': 1352, 'varieties': 3145, 'expression': 1090, 'note': 1987, 'almond': 156, 'stiff': 2825, 'slowly': 2691, 'brings': 429, 'brambly': 404, 'play': 2175, 'festive': 1144, 'plus': 2193, 'mouthfeel': 1917, 'gives': 1321, 'instant': 1529, 'likeability': 1705, 'streak': 2841, 'sweetens': 2917, 'asian': 217, 'fare': 1121, 'ham': 1402, 'salad': 2524, 'grapefruit': 1353, 'sections': 2582, 'cola': 651, 'tangy': 2936, 'delivers': 853, 'modest': 1892, 'right': 2450, 'starting': 2799, 'blocks': 353, 'dripping': 944, 'caramel': 505, 'finessed': 1162, 'graceful': 1343, 'latch': 1639, 'eccentric': 977, '50': 62, 'tannat': 2937, '35': 55, 'petit': 2140, 'verdot': 3163, 'pinotage': 2161, 'fried': 1254, 'seafood': 2572, 'spaghetti': 2749, 'vongole': 3202, 'tones': 3041, 'followed': 1213, 'nuance': 1991, 'brightened': 419, 'resembles': 2414, 'paradigm': 2078, 'bearing': 288, 'kiwi': 1616, 'sprinkling': 2779, 'graham': 1346, 'cracker': 753, 'adds': 118, 'hits': 1459, 'fleshy': 1187, 'fist': 1174, 'grassy': 1360, 'provides': 2293, 'plenty': 2187, 'punch': 2307, 'glazed': 1325, 'chicken': 584, 'generous': 1299, 'gentle': 1301, 'richness': 2444, 'syrah': 2924, 'cassis': 527, 'different': 883, 'casa': 521, 'silva': 2653, '2009': 25, 'tasted': 2949, 'flight': 1189, '08': 1, 'hard': 1409, 'tarry': 2944, 'leafy': 1657, 'grittiness': 1382, 'feels': 1138, 'miss': 1881, 'saltiness': 2531, 'long': 1738, 'length': 1682, 'monica': 1896, 'does': 911, 'added': 113, 'herbaceous': 1436, 'fine': 1159, 'textured': 2989, 'pink': 2158, 'nerello': 1957, 'mascalese': 1800, 'blue': 359, 'jelly': 1573, 'bounty': 388, 'buttered': 477, 'weighty': 3234, 'creamy': 765, 'medium': 1829, 'body': 365, 'slight': 2684, 'brown': 444, 'revs': 2433, 'glass': 1323, 'deliver': 851, 'strawberry': 2840, 'authentic': 238, 'cranberry': 758, 'barrel': 276, 'grainy': 1349, 'falls': 1116, 'variety': 3146, 'discern': 894, 'syrupy': 2926, 'dense': 856, 'jammy': 1568, 'indeterminate': 1513, 'graphite': 1357, 'densely': 857, 'hued': 1482, 'cedar': 531, 'pliant': 2188, 'easygoing': 976, 'brooding': 440, 'gritty': 1383, 'backing': 251, 'best': 318, 'suited': 2883, 'dinner': 888, 'table': 2928, 'fat': 1126, 'yeasty': 3292, 'champagne': 550, 'comprised': 690, 'predominantly': 2241, 'noir': 1977, 'intriguing': 1547, 'sea': 2571, 'salt': 2529, 'hay': 1417, 'quinine': 2334, 'rainy': 2341, 'sidewalk': 2645, 'sip': 2661, 'quite': 2335, 'golden': 1333, '2015': 30, 'vintage': 3184, 'broad': 435, 'lighter': 1700, 'usual': 3135, 'chablis': 543, 'particularly': 2081, 'rounded': 2499, 'young': 3299, 'attractively': 232, 'disjointed': 901, 'volatile': 3198, 'woody': 3274, 'deep': 826, 'packed': 2062, 'blueberry': 361, 'grilled': 1377, 'beef': 298, 'cardamom': 509, 'smoke': 2703, 'deny': 860, 'cooperative': 733, 'aÿ': 247, 'benefited': 314, 'village': 3176, 'produce': 2266, 'fruited': 1265, 'char': 553, 'canned': 498, 'corn': 737, 'overweighted': 2053, 'big': 324, 'defines': 831, 'robustly': 2473, 'swimming': 2920, 'gravelly': 1364, 'rustically': 2517, 'pleasant': 2180, 'pizza': 2169, 'nights': 1972, 'crowds': 779, 'skinned': 2676, 'underbrush': 3102, 'game': 1284, 'briny': 430, 'suggestions': 2880, 'leave': 1664, 'pencil': 2105, 'designate': 867, '000': 0, 'feet': 1139, 'meet': 1830, 'hit': 1458, 'puckering': 2298, 'tannin': 2939, 'youthfully': 3303, 'wrapped': 3285, 'boldness': 369, 'producer': 2268, 'release': 2395, 'add': 112, 'overall': 2046, 'sense': 2598, 'lightness': 1702, 'understatement': 3111, 'equal': 1047, 'parts': 2083, 'additions': 117, 'malbec': 1775, 'reveals': 2431, 'raisiny': 2346, 'integrated': 1532, 'pollen': 2207, 'lend': 1679, 'tone': 3039, 'pulpy': 2304, 'intensified': 1537, 'overripe': 2051, 'tangerine': 2935, '2018': 33, 'cashew': 525, 'nuts': 1998, 'mark': 1789, 'ease': 972, 'rosés': 2494, 'simply': 2657, 'bleeding': 345, 'juice': 1586, 'fermenter': 1142, 'concentrate': 692, 'remaining': 2400, 'expect': 1081, 'technique': 2962, 'undemanding': 3101, 'grown': 1388, 'sandy': 2536, 'soil': 2724, 'tejo': 2964, 'typically': 3089, 'accessible': 94, 'caramelized': 507, 'center': 540, 'heavy': 1428, 'choppy': 598, 'salty': 2532, 'wear': 3231, 'lot': 1742, 'makeup': 1773, 'forced': 1221, 'bland': 343, 'weak': 3228, 'albariño': 140, 'leesy': 1670, 'lack': 1626, 'pop': 2211, 'precision': 2239, 'free': 1245, 'flow': 1197, 'region': 2391, 'known': 1621, 'immediately': 1493, 'wait': 3207, 'newer': 1964, 'hints': 1456, 'balancing': 262, 'perfect': 2118, 'apéritif': 200, 'pale': 2071, 'copper': 734, 'hue': 1481, 'exudes': 1104, 'nuances': 1993, 'muskmelon': 1930, 'perfectly': 2119, 'summertime': 2885, 'refreshment': 2389, 'healthy': 1420, 'addition': 115, '13': 6, 'petite': 2141, 'sirah': 2665, 'intensity': 1538, 'richly': 2443, 'conceived': 691, 'combination': 658, 'mocha': 1886, 'pronounced': 2280, 'dust': 960, 'savoriness': 2551, 'citrusy': 608, 'turn': 3081, 'vibrant': 3173, 'flowers': 1199, 'softened': 2719, 'surround': 2907, 'approach': 192, 'dotted': 928, 'subdued': 2864, 'french': 1247, 'acacia': 86, 'waft': 3204, 'chopped': 597, 'shy': 2641, 'primarily': 2258, 'sangiovese': 2537, 'malvasia': 1776, 'bread': 411, 'dough': 931, 'enjoyable': 1031, 'pastry': 2091, 'cream': 760, 'honeydew': 1469, 'marks': 1791, 'close': 634, 'plays': 2179, 'type': 3087, 'wealth': 3230, 'perceptible': 2117, 'tastes': 2951, 'showing': 2637, 'coastal': 641, 'wrap': 3284, 'bordeaux': 378, 'represented': 2410, 'offer': 2008, 'strengthens': 2844, 'chewiness': 580, 'brawny': 408, 'freshness': 1252, 'characterizes': 558, 'ivy': 1562, 'leaves': 1665, 'footed': 1218, 'drinking': 942, 'charming': 566, 'prominent': 2276, 'creamsicle': 764, 'baking': 258, 'intrigue': 1546, 'times': 3019, 'ageworthiness': 134, 'appellation': 184, 'potential': 2222, 'cru': 780, 'estates': 1054, 'negociant': 1954, 'house': 1478, 'finished': 1166, 'wisp': 3264, 'bramble': 403, 'extends': 1095, 'bristling': 434, 'register': 2392, 'neatly': 1944, 'freshly': 1251, 'pressed': 2251, 'apples': 190, 'pears': 2101, 'marked': 1790, '2020': 35, 'violet': 3188, 'shape': 2615, 'linear': 1712, 'assertive': 223, 'grained': 1348, 'sooner': 2732, 'later': 1642, 'capture': 503, 'blends': 349, '20': 18, 'grapy': 1358, 'plummy': 2190, 'core': 735, 'tar': 2943, 'complements': 679, 'ending': 1019, 'elegantly': 1002, 'smoked': 2704, 'gris': 1381, 'briskly': 433, 'satisfying': 2544, 'pairing': 2068, '2019': 34, 'struck': 2850, 'flint': 1190, 'delicately': 842, 'nectarine': 1947, '2021': 37, 'intensely': 1536, 'ash': 215, 'extend': 1093, 'nimble': 1973, 'boasts': 362, 'accentuated': 91, 'zippy': 3314, 'citric': 606, 'mild': 1862, 'acidic': 100, 'composition': 688, 'roundness': 2501, 'edges': 981, 'holds': 1463, 'acid': 99, '65': 69, 'subtle': 2869, 'cinnamon': 605, 'trebbiano': 3067, 'bianco': 322, 'grigio': 1376, 'renano': 2406, 'inviting': 1551, 'orchard': 2034, 'doles': 917, 'zest': 3306, 'polished': 2206, 'spring': 2777, 'lift': 1695, 'lots': 1743, 'spearmint': 2758, 'coyote': 751, 'ginger': 1316, 'snaps': 2712, 'dr': 933, 'oregano': 2036, 'marjoram': 1788, 'dill': 885, 'make': 1771, 'silky': 2652, 'produced': 2267, 'vines': 3180, 'mount': 1909, 'brouilly': 443, 'solid': 2726, 'wines': 3259, '100': 3, 'varietal': 3143, 'heady': 1419, 'pouch': 2225, 'marshmallow': 1796, 'begs': 306, 'bottle': 385, 'substantial': 2867, 'swirling': 2923, '90': 76, '10': 2, 'alicante': 144, 'suggesting': 2878, 'enjoy': 1030, 'vermentino': 3167, 'di': 879, 'candia': 494, 'aromatica': 208, 'manseng': 1784, 'fragrant': 1239, 'saline': 2527, 'olallieberry': 2015, '51': 63, '49': 61, 'strawberries': 2839, 'rose': 2489, 'petals': 2138, 'poached': 2197, 'butter': 475, 'steely': 2813, 'frame': 1240, 'kicks': 1608, 'lady': 1629, 'minerality': 1868, 'skins': 2677, 'rinds': 2453, 'gin': 1315, 'juniper': 1593, 'converging': 725, 'tightly': 3015, 'woven': 3283, 'tropicality': 3071, 'petrol': 2142, 'iron': 1555, 'standard': 2793, 'sizzle': 2673, 'acitity': 104, 'complex': 682, '30': 53, 'teeth': 2963, 'coating': 644, 'grip': 1379, 'gold': 1332, 'focused': 1207, 'defined': 830, 'succulent': 2873, 'viscous': 3192, 'crispness': 776, 'lingering': 1715, 'backward': 252, 'given': 1320, 'turkish': 3080, 'delight': 847, 'begins': 305, 'run': 2510, 'steam': 2810, 'little': 1724, 'mid': 1856, 'returns': 2428, 'flourish': 1196, 'nuanced': 1992, 'repay': 2408, 'cellaring': 537, 'sources': 2744, 'alexander': 143, 'valley': 3138, 'lends': 1681, 'key': 1606, 'pie': 2147, 'mandarin': 1779, 'toasty': 3031, 'influence': 1521, 'burgundian': 467, 'rockpile': 2475, 'zinfandel': 3310, 'alcohol': 141, 'keeping': 1603, 'volume': 3200, 'world': 3278, 'fully': 1272, 'potent': 2221, 'blackberries': 335, 'blackcurrants': 338, 'huge': 1483, 'negotiable': 1955, 'demands': 854, 'richest': 2442, 'meats': 1826, 'cheeses': 572, 'roughly': 2497, 'thirds': 2999, 'shiraz': 2628, 'result': 2424, 'combines': 661, 'generosity': 1298, 'framed': 1241, 'sophisticated': 2734, 'accounts': 96, 'smaller': 2695, 'amounts': 169, 'violets': 3189, 'contributes': 723, 'complexities': 683, 'lovely': 1745, 'etienne': 1057, 'le': 1652, 'riche': 2441, 'total': 3048, 'specialist': 2759, 'tiny': 3026, 'cases': 524, 'boutique': 393, 'reserve': 2415, 'cabernets': 484, 'course': 749, 'stars': 2796, '2003': 20, 'powerful': 2232, 'super': 2888, 'enticing': 1040, 'floral': 1194, 'twist': 3086, 'deliciously': 845, 'blood': 354, 'follows': 1215, 'precise': 2238, 'compelling': 674, 'refined': 2383, 'layers': 1650, 'prevails': 2254, 'leading': 1654, 'bruiser': 449, 'olive': 2020, 'mulberry': 1922, 'vie': 3175, 'tough': 3052, 'reap': 2369, 'benefits': 315, 'muted': 1932, 'minute': 1877, 'period': 2127, 'developed': 875, 'beautifully': 292, 'dominant': 918, 'beginning': 303, 'interesting': 1539, 'tertiary': 2983, 'mushrooms': 1928, 'needs': 1953, 'deal': 817, 'pleasure': 2185, '98': 77, 'underly': 3105, 'contribute': 722, 'ribbon': 2437, 'impressive': 1504, 'flagship': 1178, 'estate': 1053, 'founded': 1233, 'spatz': 2755, 'sperling': 2763, 'ago': 137, 'einaudi': 994, 'improving': 1507, 'lately': 1641, 'barolo': 275, 'trying': 3078, 'conditions': 698, 'dose': 927, 'didn': 881, 'peter': 2139, 'early': 968, 'stayed': 2804, 'culminating': 789, 'cab': 482, 'cellar': 536, 'come': 663, 'primary': 2259, 'hasn': 1413, 'knit': 1617, 'signs': 2649, 'browning': 447, 'edge': 979, 'summer': 2884, 'roses': 2491, 'lacks': 1628, 'concentration': 694, 'peak': 2097, 'veer': 3150, 'dangerously': 810, 'doubt': 929, 'product': 2271, 'exceedingly': 1067, 'adding': 114, 'complexity': 684, 'elegance': 1000, 'imported': 1500, 'acadia': 87, 'imports': 1501, 'leaving': 1666, 'keeps': 1604, 'essential': 1052, 'bruised': 448, 'compote': 689, 'cantaloupe': 500, 'austere': 235, 'beautiful': 291, 'marmalade': 1793, 'botrytis': 384, 'ultra': 3092, 'following': 1214, 'luscious': 1751, 'showed': 2635, 'lushness': 1755, 'surprising': 2905, 'delicious': 844, 'hefty': 1430, 'effort': 988, 'finesse': 1161, 'liquer': 1718, 'truffle': 3074, 'road': 2468, 'heavier': 1425, 'melds': 1832, 'mushroomy': 1929, 'kaffir': 1599, 'skin': 2675, 'minerals': 1870, 'cleansing': 626, 'half': 1401, 'barrels': 277, 'sommeliers': 2729, 'buy': 480, 'bone': 373, 'palette': 2072, 'earthiness': 970, 'kick': 1607, 'sweetly': 2918, 'higher': 1448, 'elements': 1004, 'finds': 1158, 'amid': 168, 'density': 859, 'girth': 1319, '2023': 39, 'cooked': 727, 'spiced': 2765, 'peppercorn': 2109, 'slices': 2683, 'planted': 2173, 'brothers': 442, 'longtime': 1739, 'salinas': 2526, 'farmers': 1123, 'bay': 285, 'asphalt': 221, 'miso': 1880, 'promising': 2279, 'funded': 1274, 'project': 2275, 'elderberry': 998, 'rounding': 2500, 'gamy': 1286, 'sesame': 2601, 'oil': 2013, 'scents': 2561, 'newest': 1965, 'properties': 2282, 'discloses': 895, 'lush': 1754, 'sexy': 2606, 'pristine': 2263, 'resonate': 2419, 'blossomy': 357, 'lithe': 1723, 'smashed': 2697, 'enhanced': 1029, 'burned': 469, 'slate': 2680, 'soy': 2747, 'sipped': 2662, 'layer': 1647, 'revealing': 2430, 'boysenberry': 397, 'lavender': 1644, 'yountville': 3300, 'finest': 1163, 'lifted': 1696, 'coats': 645, 'snap': 2710, 'developing': 876, 'age': 129, 'named': 1935, 'celebrate': 532, 'second': 2580, 'lança': 1635, 'generation': 1296, 'charge': 563, '2017': 32, 'sagebrush': 2522, 'rain': 2340, 'tactile': 2929, 'creates': 768, 'fascinating': 1124, 'buzz': 481, 'tongue': 3042, 'tomato': 3036, 'camphor': 492, 'eucalyptus': 1058, 'bitter': 331, 'glaze': 1324, 'campfire': 491, 'bourbon': 390, 'massive': 1805, 'gooey': 1336, 'condensed': 697, 'purple': 2316, 'judicious': 1585, 'ensures': 1039, '2027': 43, 'raisin': 2342, 'horsehide': 1473, 'pointy': 2200, 'graciano': 1345, 'energetic': 1024, 'lifting': 1697, 'loud': 1744, 'moderate': 1889, 'bradley': 400, 'point': 2198, 'exciting': 1075, 'lavish': 1645, 'aromatically': 209, 'element': 1003, 'packs': 2063, 'relies': 2398, 'syrup': 2925, 'approachably': 194, 'electrifying': 999, 'exceptional': 1072, 'sweeten': 2916, 'nerve': 1959, 'tingling': 3022, 'ripples': 2461, 'honeycomb': 1468, 'power': 2230, 'south': 2745, 'alentejo': 142, 'support': 2896, 'star': 2795, 'morello': 1905, '2025': 41, 'low': 1746, 'yield': 3295, 'parcels': 2079, 'vincens': 3177, 'source': 2742, 'maybe': 1815, 'excess': 1073, '76': 72, '24': 50, 'wallop': 3211, 'stick': 2824, 'puree': 2313, 'allspice': 152, 'nutmeg': 1997, 'arise': 202, 'requiring': 2412, 'reach': 2364, 'surf': 2903, 'wax': 3225, 'grippy': 1380, 'sizzling': 2674, 'mouthwatering': 1920, 'spritz': 2780, 'nut': 1996, 'emerge': 1011, '2034': 46, 'donated': 924, 'charitable': 564, 'hospital': 1475, '19th': 17, 'century': 541, 'lie': 1692, 'attraction': 230, 'ornate': 2042, 'dates': 814, '1926': 16, 'blackened': 339, 'creosote': 771, 'quickly': 2332, 'sheds': 2621, 'display': 902, 'olives': 2021, 'chilean': 588, 'patented': 2093, 'briary': 416, 'field': 1146, 'brush': 451, 'textbook': 2985, 'maipo': 1769, '2022': 38, 'promises': 2278, 'dominating': 922, 'takes': 2931, 'place': 2171, 'bones': 375, 'awhile': 245, 'kirsch': 1612, 'petal': 2137, 'rector': 2376, 'creek': 770, 'north': 1981, 'rocky': 2477, 'alluvial': 154, 'soils': 2725, 'multiple': 1923, 'including': 1510, 'morelli': 1904, 'lane': 1633, 'widdoes': 3249, 'duttons': 965, 'larger': 1637, 'overtones': 2052, 'atop': 226, 'luxuriously': 1757, 'll': 1728, 'blossoms': 356, 'maintains': 1768, 'crystalline': 784, 'purity': 2315, 'persists': 2134, 'fritz': 1258, 'haag': 1398, 'invigorating': 1550, 'irresistably': 1556, 'quaffable': 2324, 'lip': 1717, 'smacking': 2692, 'smackingly': 2693, 'reverberate': 2432, 'drinks': 943, 'meld': 1831, 'nicely': 1968, 'maule': 1814, 'harmonious': 1411, 'pushy': 2321, 'turned': 3082, 'bursting': 471, 'gorgeous': 1338, 'forward': 1231, 'acids': 102, 'proportion': 2284, 'buoyed': 464, 'textural': 2986, 'ride': 2445, 'stoneleigh': 2828, 'traditionally': 3062, 'favors': 1130, 'herbaceousness': 1437, '2008': 24, 'true': 3073, 'appealing': 181, 'dishes': 900, 'enduring': 1023, 'mountainous': 1911, 'alto': 161, 'adige': 120, 'italy': 1561, 'appetizers': 186, 'foods': 1217, 'seen': 2588, 'unusual': 3127, 'know': 1620, 'saw': 2553, '2001': 19, 'magnetic': 1764, 'boring': 380, '325': 54, 'chianti': 583, 'classico': 620, 'strikes': 2846, 'forth': 1230, 'continuous': 717, 'steady': 2808, 'manner': 1782, 'lively': 1727, 'ends': 1022, 'piquant': 2165, 'moonless': 1901, 'night': 1971, 'relief': 2397, 'likelihood': 1706, 'cocoon': 648, 'carob': 515, 'impact': 1495, 'year': 3288, 'old': 2016, 'apricots': 198, 'edged': 980, 'reminder': 2403, '2006': 22, 'custard': 799, 'meringue': 1846, 'dominates': 921, 'making': 1774, 'wateringly': 3220, 'folks': 1211, 'enriched': 1036, 'loaded': 1730, 'exotic': 1079, 'genuine': 1303, 'brunello': 450, 'montalcino': 1897, 'torrontés': 3047, 'rises': 2463, 'masses': 1804, 'smells': 2701, 'pure': 2312, 'sonoma': 2730, 'coast': 640, 'chard': 560, 'firms': 1172, 'hangtime': 1407, 'pineapples': 2157, 'peaches': 2096, 'nectarines': 1948, 'papaya': 2075, 'joined': 1577, 'composed': 687, 'share': 2617, 'manifested': 1781, 'interestingly': 1540, 'rings': 2454, 'borderline': 379, 'heft': 1429, 'things': 2997, 'example': 1065, 'elevated': 1005, 'carmenère': 513, 'doesn': 912, 'cost': 741, 'arm': 203, 'leg': 1672, 'virtue': 3191, 'explodes': 1086, 'crisply': 775, 'luminous': 1749, 'emphasis': 1014, 'bisquertt': 327, 'usually': 3136, 'merlots': 1848, 'seeing': 2586, '2007': 23, 'excellent': 1069, 'chile': 587, 'excels': 1071, 'price': 2255, 'saturated': 2546, 'honest': 1466, 'telltale': 2967, 'casablanca': 522, 'plate': 2174, 'creamier': 762, 'cider': 601, 'qualify': 2327, 'rubber': 2504, 'muscular': 1926, '2005': 21, 'vintages': 3185, 'blended': 347, 'padthaway': 2064, 'starts': 2800, 'perfumed': 2124, 'raisined': 2343, 'mouthfilling': 1918, 'consume': 711, 'corvina': 740, 'rondinella': 2484, 'reflects': 2386, 'act': 107, 'counter': 744, 'screwcap': 2570, 'traditional': 3061, 'mesquite': 1849, 'almonds': 157, 'appearance': 183, 'sensation': 2597, 'heaviness': 1427, 'carries': 518, 'pancole': 2074, 'tuscany': 3085, 'popular': 2214, 'vernaccia': 3168, 'san': 2534, 'gimignano': 1314, 'tonic': 3043, 'decadent': 819, 'crafted': 755, 'eastern': 974, 'st': 2787, 'helena': 1431, 'tea': 2959, 'beatifully': 290, '400': 58, 'sierra': 2646, 'spiciness': 2767, 'velvety': 3159, 'persistent': 2133, 'heat': 1423, 'evolving': 1062, '60': 66, 'alpine': 159, 'gala': 1283, 'pleasing': 2183, 'jumper': 1591, 'mélange': 1933, 'notably': 1986, 'ply': 2195, 'salinity': 2528, 'allowed': 149, 'develop': 874, 'belongs': 311, 'legendary': 1673, 'jerry': 1575, 'lohr': 1737, 'emphasizing': 1016, 'rhône': 2436, 'potpourri': 2224, 'flowery': 1200, 'leads': 1655, 'marzipan': 1799, 'lemongrass': 1676, 'oxidative': 2058, 'sides': 2644, 'brioche': 431, 'botanical': 382, 'extraordiary': 1100, 'solidly': 2727, 'built': 459, 'level': 1688, 'mellowed': 1835, 'understated': 3110, 'waves': 3224, 'leathery': 1663, 'package': 2061, 'vine': 3178, 'heritage': 1442, 'dustiness': 961, 'stony': 2830, 'flinty': 1191, '54': 64, '46': 60, 'sémillon': 2927, 'thought': 3003, 'provoking': 2295, 'imbued': 1491, 'adhesive': 119, 'bandage': 266, 'anjoy': 176, 'lending': 1680, 'sinewy': 2659, 'storm': 2831, 'nonspecific': 1980, 'verdejo': 3161, 'pile': 2151, '21': 48, 'grenache': 1374, 'wound': 3282, 'likely': 1707, 'improve': 1506, 'opened': 2026, 'loam': 1732, 'lava': 1643, 'rock': 2474, 'crème': 785, 'slowing': 2690, 'emerging': 1013, 'mourvèdre': 1913, 'counoise': 743, 'playing': 2178, 'role': 2480, 'seasoned': 2579, 'overdone': 2047, 'fennel': 1140, 'bulb': 460, 'scene': 2558, 'tapers': 2942, 'pomegranate': 2208, 'pipe': 2164, 'mediterranean': 1828, 'peel': 2103, 'aging': 136, 'baga': 255, 'touriga': 3053, 'nacional': 1934, 'easily': 973, 'pithy': 2168, 'deceptively': 824, 'includes': 1509, 'partly': 2082, 'beloved': 312, 'kalon': 1601, 'northern': 1983, 'tokaj': 3034, 'furmint': 1278, 'delightful': 848, 'underlie': 3104, 'tropically': 3072, 'chamomile': 549, 'mcintosh': 1816, 'vein': 3156, 'energizing': 1027, 'powerfully': 2233, 'unwind': 3129, 'bartlett': 278, 'energize': 1025, 'stout': 2832, 'moderately': 1890, 'jagged': 1564, 'stewed': 2822, 'extreme': 1101, 'seam': 2573, 'expressed': 1088, 'plush': 2194, 'flabby': 1176, 'thanks': 2992, 'challah': 547, 'drive': 945, 'unfold': 3114, 'check': 568, 'ruby': 2506, 'belies': 308, 'cool': 731, 'origins': 2041, 'filling': 1154, 'allow': 148, 'consumption': 712, 'gain': 1281, 'thoroughly': 3002, 'opening': 2027, 'quince': 2333, 'clear': 627, 'southern': 2746, 'gewürtz': 1310, 'outweighs': 2045, 'components': 686, 'prettier': 2252, 'poultry': 2226, 'rubbery': 2505, 'bonarda': 372, 'sound': 2740, 'pulsing': 2305, 'tasty': 2954, 'pine': 2155, 'interspersed': 1544, 'woodsy': 3273, 'surprisingly': 2906, 'ultimately': 3091, 'nearly': 1943, 'imperceptible': 1497, 'odd': 2006, 'piercing': 2150, 'acetic': 97, 'pungent': 2311, 'diesel': 882, 'putting': 2323, 'atypical': 233, 'rhubarb': 2435, 'tasting': 2952, 'dirt': 891, 'bark': 274, 'dish': 899, 'bourgogne': 391, 'unassuming': 3095, 'rosé': 2493, 'eventually': 1059, 'exhibits': 1077, 'disappointment': 893, 'past': 2089, 'performance': 2120, 'melted': 1838, 'stirred': 2826, 'sprinkled': 2778, 'mountain': 1910, 'ripened': 2458, 'loses': 1740, 'points': 2199, 'caramelization': 506, 'shriveled': 2639, 'faint': 1110, 'amber': 166, 'highlights': 1451, 'soapy': 2714, 'sort': 2736, 'imagines': 1490, 'australian': 237, 'settlers': 2604, 'gulped': 1393, 'burly': 468, 'rugged': 2508, 'jangly': 1569, 'veers': 3152, 'raisins': 2345, 'probably': 2264, 'ugni': 3090, 'used': 3133, 'local': 1734, 'armagnac': 204, 'brandy': 405, 'unpleasantly': 3122, 'touched': 3050, 'juiciness': 1588, 'cheese': 571, 'modern': 1891, 'sparkling': 2753, 'earlier': 967, 'enjoyment': 1033, 'maded': 1761, 'chewing': 581, 'gum': 1394, 'mass': 1803, 'exactly': 1063, 'class': 616, 'curd': 790, 'jumpy': 1592, 'drunk': 952, 'admirable': 121, 'boxwood': 396, 'impression': 1502, 'assembled': 222, 'lesser': 1684, 'abundant': 85, 'jellied': 1572, 'inexpensive': 1519, 'hill': 1452, 'suggestion': 2879, 'foothills': 1219, 'zin': 3309, 'array': 211, 'finely': 1160, 'ground': 1384, 'childish': 586, 'gumball': 1395, 'volatility': 3199, 'settle': 2603, 'rests': 2423, 'size': 2672, 'refinement': 2384, 'polish': 2205, 'track': 3057, 'record': 2375, 'warmer': 3214, 'napa': 1936, 'dryish': 955, 'blueberries': 360, 'bacon': 253, 'firmly': 1171, 'esterlina': 1055, 'perfumey': 2126, 'soul': 2739, 'gathers': 1293, 'staying': 2805, 'meal': 1817, 'reminiscent': 2404, 'powder': 2228, 'stay': 2803, 'swallow': 2912, '18': 12, '11': 4, 'florals': 1195, 'velvet': 3158, 'tag': 2930, 'shame': 2613, 'superb': 2889, 'graced': 1342, 'kiss': 1613, 'flood': 1192, 'transition': 3063, 'swathe': 2913, 'drum': 951, 'campari': 490, 'additional': 116, 'budging': 457, 'moment': 1895, 'minty': 1875, 'clampy': 610, 'beaver': 294, 'makes': 1772, 'variation': 3142, 'fairytale': 1113, '41': 59, '36': 56, '23': 49, 'work': 3277, 'sturdy': 2860, 'trading': 3059, 'favor': 1129, 'gratification': 1361, '2014': 29, 'forrest': 1229, 'follow': 1212, 'shortly': 2631, 'transitions': 3064, 'bittersweet': 333, 'flavorful': 1183, 'expresses': 1089, 'frosting': 1262, 'corte': 739, 'going': 1331, 'scratchy': 2569, 'spare': 2750, 'grechetto': 1368, 'homeland': 1465, 'reds': 2380, 'ripasso': 2456, 'amarone': 163, 'consistency': 706, 'comfortably': 666, 'ensconsed': 1037, 'cushion': 797, 'friulano': 1259, 'pasta': 2090, 'dinners': 889, 'greece': 1369, 'dimension': 887, 'fish': 1173, 'clams': 611, 'partially': 2080, 'far': 1120, 'measured': 1824, 'qualities': 2328, 'define': 829, 'tempranillo': 2968, 'led': 1667, 'active': 108, 'thorough': 3001, 'italian': 1560, 'basil': 282, 'thai': 2991, 'curry': 796, 'average': 241, 'pinch': 2154, 'butt': 474, 'absolutely': 84, 'real': 2367, 'fruitiness': 1267, 'drily': 939, 'candy': 497, 'sufficient': 2874, 'artsy': 213, 'absolute': 83, 'contrast': 719, 'don': 923, 'cambria': 489, 'ratio': 2358, 'words': 3276, 'mind': 1866, 'indian': 1514, 'lamb': 1631, 'mushroom': 1927, 'risotto': 2464, 'continue': 715, 'fragrance': 1238, 'punctuated': 2310, '2024': 40, 'bella': 310, 'vida': 3174, 'replaces': 2409, 'abbey': 79, 'ridge': 2446, 'pizzazz': 2170, '2011': 27, 'releases': 2396, 'clay': 622, 'deeply': 827, 'penetrating': 2107, 'raspberries': 2355, 'uncommon': 3098, 'quarter': 2330, 'echoes': 978, 'thickness': 2996, 'spine': 2770, 'foundation': 1232, 'aromatic': 207, 'wonderful': 3268, 'showered': 2636, 'future': 1280, 'evolve': 1061, 'stud': 2854, 'acústic': 110, 'stable': 2788, '70': 70, 'carignan': 511, 'garnacha': 1289, 'braó': 410, 'cuts': 801, 'decidedly': 825, 'milk': 1864, 'celebrity': 534, 'winemaker': 3256, 'philippe': 2143, 'melka': 1833, 'approacheable': 195, 'bet': 319, 'tell': 2965, 'closed': 635, 'initially': 1524, 'afterntaste': 126, 'sagrantino': 2523, 'trademark': 3058, 'oxidized': 2059, 'tang': 2934, 'displays': 903, 'raisining': 2344, 'figs': 1150, 'calls': 488, 'fudge': 1270, 'minus': 1876, 'opt': 2031, 'relatively': 2394, 'near': 1941, 'term': 2979, 'welcoming': 3237, 'friendly': 1255, 'filter': 1156, 'classy': 621, 'throw': 3008, 'punches': 2308, 'showcases': 2633, 'lusciousness': 1753, 'paso': 2086, 'robles': 2471, 'sandalwood': 2535, 'rooty': 2488, 'peeking': 2102, 'obvious': 2004, 'proper': 2281, 'layering': 1649, 'foresty': 1224, 'foxiness': 1235, 'fig': 1149, 'pinay': 2153, 'ephemeral': 1046, 'instantly': 1530, 'especially': 1050, 'puts': 2322, 'match': 1808, 'shellfish': 2622, 'nebbiolo': 1945, 'roero': 2479, 'cantina': 501, 'dei': 838, 'liqueur': 1719, 'pulp': 2303, 'sites': 2669, 'minutes': 1878, 'nizza': 1974, 'subzone': 2871, 'asti': 224, 'characteristic': 555, 'mendocino': 1841, 'county': 747, 'steak': 2809, 'romanian': 2483, 'unbeatable': 3097, 'bargain': 273, 'fuller': 1271, 'meals': 1818, 'fun': 1273, 'formal': 1226, 'compared': 673, 'barbaresco': 268, 'shadings': 2610, '12': 5, 'large': 1636, 'casks': 526, 'braised': 401, 'quail': 2326, 'tenderloin': 2974, 'mouthful': 1919, 'upfront': 3130, 'verges': 3166, 'coat': 642, 'decant': 821, 'let': 1685, 'breathe': 413, 'hours': 1477, 'rabino': 2337, 'offset': 2011, 'presents': 2249, 'ensemble': 1038, 'capped': 502, 'jaggy': 1565, 'foam': 1203, 'prosecco': 2287, 'muscadelle': 1924, 'flavored': 1182, 'fiery': 1147, 'strange': 2837, 'familiar': 1117, 'flashy': 1179, 'clangy': 612, 'rounds': 2502, 'air': 138, 'settles': 2605, 'paladin': 2069, 'produces': 2270, 'northeast': 1982, 'wash': 3218, 'finger': 1164, 'bee': 297, 'sparkler': 2751, 'aftertastes': 128, 'organically': 2039, 'according': 95, 'biodynamic': 325, 'principles': 2260, 'brut': 452, 'interpretation': 1543, 'means': 1821, 'fizz': 1175, 'soda': 2716, 'puff': 2299, 'surrounded': 2908, 'afternoon': 125, 'sipper': 2663, 'wintergreen': 3261, 'blast': 344, 'personality': 2135, 'tells': 2966, 'conegliano': 699, 'degrees': 837, 'valdobbiadene': 3137, 'poise': 2201, 'face': 1106, 'extra': 1097, 'bubbly': 455, 'cheerful': 570, 'foaming': 1204, 'cookie': 728, 'resemblance': 2413, 'crackers': 754, 'vivacious': 3195, 'wouldn': 3281, 'issues': 1559, 'attitude': 229, 'content': 714, 'salads': 2525, 'honeysuckles': 1472, 'sugary': 2876, 'root': 2487, 'beer': 299, 'frosted': 1261, 'unique': 3116, 'gewürztraminers': 1312, 'ones': 2022, 'kind': 1609, 'embellished': 1010, 'characterized': 557, 'foamy': 1205, 'job': 1576, 'representing': 2411, 'category': 529, 'softness': 2723, 'peppermint': 2112, 'bubbling': 454, 'frothy': 1263, 'explain': 1085, 'peanuts': 2098, 'burnt': 470, 'harsh': 1412, 'version': 3170, 'selection': 2593, 'mentholated': 1843, 'breezy': 414, 'dissipating': 904, 'fleeting': 1185, 'spoiled': 2773, 'chill': 589, 'drastically': 934, 'effervescence': 986, 'despite': 871, 'equally': 1048, 'hinting': 1455, 'distracting': 908, 'throttled': 3007, 'descent': 863, 'funky': 1276, 'spent': 2762, 'lees': 1669, 'yeast': 3290, 'vegetal': 3155, 'pn': 2196, 'pumpkin': 2306, 'squash': 2784, 'chips': 592, 'stale': 2791, 'acceptable': 92, 'weird': 3235, 'unbalanced': 3096, 'mealy': 1819, 'sautéed': 2549, 'vegetables': 3154, 'contains': 713, 'material': 1810, 'fragility': 1237, 'instead': 1531, 'hold': 1461, 'indefinitely': 1512, 'delectable': 839, 'rancio': 2350, 'enormous': 1035, 'avoids': 242, 'excessive': 1074, 'amazingly': 165, 'endless': 1020, 'damp': 807, 'mossy': 1907, 'cave': 530, 'maple': 1785, 'wonderfully': 3269, 'saffron': 2520, 'juxtaposed': 1596, 'unctuously': 3099, 'penetrates': 2106, 'spry': 2782, 'silken': 2651, 'whisper': 3247, 'mahogany': 1765, 'enlivened': 1034, 'terrific': 2981, 'runrig': 2512, 'disappoint': 892, 'regard': 2390, 'mixing': 1884, 'bacony': 254, 'supremely': 2901, '2030': 45, 'stunning': 2859, 'reveal': 2429, 'tilled': 3017, '2035': 47, 'colored': 655, 'hungarian': 1484, 'stunner': 2858, 'ethereal': 1056, 'beeswax': 300, 'tarte': 2946, 'tatin': 2956, 'clover': 638, 'appreciate': 191, 'cloying': 639, 'kissed': 1614, 'lies': 1693, 'incredibly': 1511, 'deliriously': 850, 'grower': 1386, 'heart': 1421, 'russian': 2515, 'river': 2466, 'lingers': 1716, 'memorable': 1839, 'conveys': 726, 'tightness': 3016, 'whiffs': 3245, 'elixir': 1008, 'honeyed': 1470, 'vivaciously': 3196, 'glazing': 1326, 'textures': 2990, 'gossamer': 1339, 'tulle': 3079, 'endlessly': 1021, 'acre': 106, 'historic': 1457, 'unleashing': 3119, 'torrent': 3046, 'remain': 2399, 'memory': 1840, 'apt': 199, 'descriptors': 864, 'heathcote': 1424, 'feature': 1133, 'clos': 633, 'vougeot': 3203, 'fresher': 1250, 'auslese': 234, 'wafts': 3205, 'collide': 653, 'falling': 1115, 'line': 1711, 'strike': 2845, 'peppered': 2111, 'dusting': 962, 'brightly': 421, 'decades': 820, 'slope': 2687, 'grand': 1351, 'montrachet': 1900, 'grew': 1375, 'hemp': 1434, 'cheneve': 574, 'poised': 2202, 'stylish': 2863, 'allied': 147, 'promise': 2277, 'ages': 133, 'tapenade': 2941, 'merge': 1845, 'underlying': 3106, 'impeccably': 1496, '2028': 44, 'woman': 3266, 'pioneer': 2163, 'property': 2283, 'diamond': 880, 'hand': 1403, 'rolled': 2481, 'fabled': 1105, 'crus': 782, 'gravitas': 1365, 'weber': 3232, 'winderlea': 3253, 'lineup': 1713, 'jammed': 1567, 'annotated': 178, 'gunmetal': 1397, 'taste': 2948, 'candidate': 495, 'taylor': 2958, 'family': 1118, 'selected': 2592, 'clare': 613, 'affinity': 123, 'knockout': 1618, 'yes': 3294, 'immense': 1494, 'spends': 2761, 'liquid': 1720, 'try': 3077, 'chèvres': 600, 'lemony': 1678, 'lay': 1646, 'carpet': 516, 'dance': 808, 'popping': 2213, 'vital': 3193, 'worth': 3280, 'broiled': 439, 'broaden': 436, 'flows': 1201, 'effortlessly': 989, 'blending': 348, 'picks': 2145, 'nutty': 1999, 'gruyère': 1390, 'taster': 2950, 'traces': 3056, 'bell': 309, 'soften': 2718, 'soave': 2715, 'brimming': 423, 'measure': 1823, 'herbeceous': 1439, 'irresistibly': 1557, 'juiciest': 1587, 'tiniest': 3023, 'cleanses': 625, 'manages': 1778, 'showcase': 2632, 'lightweight': 1703, 'format': 1227, 'judged': 1584, 'balances': 261, 'appropriately': 196, 'helping': 1433, 'greens': 1373, 've': 3148, 'mexico': 1853, 'nosiola': 1985, 'comfortable': 665, 'aggressive': 135, 'dog': 913, 'legs': 1674, 'batch': 284, 'currently': 795, 'wall': 3209, 'occasion': 2005, 'testament': 2984, 'remains': 2401, 'alive': 146, 'biancos': 323, 'faded': 1109, 'impersonate': 1498, 'model': 1888, 'bracing': 399, 'attention': 227, 'lacking': 1627, 'gewürztraminer': 1311, 'acidty': 103, 'rate': 2357, 'today': 3033, 'versatile': 3169, 'oriental': 2040, 'consistent': 707, 'stand': 2792, 'mixture': 1885, 'ager': 132, 'melons': 1837, 'limes': 1709, 'presented': 2248, 'verve': 3171, 'editors': 983, 'choice': 596, 'bat': 283, 'shading': 2609, 'draws': 935, 'applause': 188, 'clarity': 614, 'buttery': 479, 'weakling': 3229, 'contrary': 718, 'won': 3267, 'lemons': 1677, 'technically': 2961, 'smell': 2699, 'current': 794, 'smelling': 2700, 'goes': 1330, 'lasts': 1638, 'terms': 2980, 'meant': 1822, '16th': 10, 'abbess': 78, 'rylint': 2519, 'formentini': 1228, 'porty': 2219, 'precede': 2237, 'runs': 2513, 'presence': 2246, 'sure': 2902, 'really': 2368, 'sb': 2556, 'morph': 1906, 'decent': 823, 'cardboard': 510, 'masks': 1802, 'gets': 1307, 'started': 2798, 'transparent': 3065, 'perlage': 2128, 'non': 1978, 'doc': 910, 'butterscotch': 478, 'watery': 3222, 'bubbles': 453, 'doing': 914, 'business': 473, 'tint': 3024, 'grapey': 1356, 'brims': 424, 'driving': 947, 'timid': 3020, 'ordinary': 2035, 'mashed': 1801, 'cherryskins': 578, 'prosciutto': 2286, 'sweaty': 2914, 'loads': 1731, 'home': 1464, 'pit': 2166, 'par': 2077, 'flaccid': 1177, 'flexibility': 1188, 'ideally': 1488, 'cuisine': 788, 'indonesian': 1518, 'fowl': 1234, 'canah': 493, 'fatter': 1127, 'denser': 858, 'proseccos': 2288, 'fuss': 1279, 'experience': 1082, 'reaching': 2365, 'aspect': 219, 'recalls': 2373, 'talc': 2932, 'playful': 2176, 'appetizer': 185, 'friends': 1256, 'lazy': 1651, 'appear': 182, 'practices': 2235, 'werner': 3238, 'michlits': 1855, 'vivid': 3197, 'final': 1157, 'fifth': 1148, 'gonfrier': 1334, 'owns': 2056, 'influences': 1522, 'characters': 559, 'late': 1640, 'ciel': 602, 'du': 957, 'cheval': 579, 'conner': 702, 'lee': 1668, 'obelisco': 2003, 'stonetree': 2829, 'reserved': 2416, 'lost': 1741, 'focus': 1206, 'greenness': 1372, 'distinct': 905, 'bosc': 381, 'arugula': 214, 'zestiness': 3307, 'banana': 265, 'seguing': 2591, 'substance': 2866, 'refreshingly': 2388, 'ideal': 1487, 'fall': 1114, 'porch': 2215, 'waxy': 3226, 'foxy': 1236, 'elastic': 996, 'warming': 3215, 'perfume': 2123, 'method': 1851, 'alluring': 153, 'mousse': 1914, 'colors': 656, 'acquire': 105, 'counterpoint': 745, 'squeezed': 2785, 'cement': 539, 'veteran': 3172, 'adam': 111, 'tolmach': 3035, 'pinkie': 2159, 'shave': 2620, 'ice': 1485, 'watermelon': 3221, 'extremely': 1102, 'sorts': 2737, 'jolly': 1579, 'rancher': 2348, 'seemingly': 2587, 'concrete': 696, 'egg': 992, 'shaped': 2616, 'vats': 3147, 'tempting': 2970, 'appetizing': 187, 'confiture': 700, 'crumble': 781, 'superclean': 2890, 'closes': 636, 'softly': 2722, 'ranches': 2349, 'seamless': 2574, 'undertone': 3112, 'introduction': 1549, 'energy': 1028, 'scattered': 2557, 'locked': 1736, 'tender': 2973, 'bottled': 386, 'pulled': 2301, 'fashion': 1125, 'voluptuous': 3201, 'fringed': 1257, 'bare': 271, 'feather': 1131, 'unctuousness': 3100, 'unleash': 3118, 'swing': 2921, 'steve': 2820, 'dooley': 925, 'stephen': 2819, 'ross': 2492, 'cellars': 538, 'coated': 643, 'exterior': 1096, 'crisper': 774, 'tighter': 3014, 'roussanne': 2503, 'clairette': 609, 'broadening': 438, 'underripe': 3108, 'aligi': 145, 'sassu': 2542, 'drop': 949, 'jacquart': 1563, 'montaudon': 1898, 'classe': 617, 'toastiness': 3030, 'vino': 3183, 'nobile': 1975, 'warmth': 3217, 'retains': 2426, 'delicatio': 843, 'slopes': 2688, 'meursault': 1852, 'secondary': 2581, 'cookies': 729, 'stage': 2789, 'development': 877, '250': 52, 'carmelized': 512, 'lengthy': 1683, 'lick': 1690, 'day': 815, 'wisely': 3263, 'kept': 1605, 'allowing': 150, 'continues': 716, 'string': 2847, 'chardonnays': 562, 'thickly': 2995, 'moussed': 1915, 'roederer': 2478, '40': 57, 'affordable': 124, 'luxurious': 1756, 'aromatics': 210, 'marriage': 1794, 'constructed': 709, 'question': 2331, 'ageability': 130, 'deliciousness': 846, 'thrilling': 3005, 'silk': 2650, 'satin': 2543, 'franciacorta': 1244, 'producers': 2269, 'gran': 1350, 'cuvée': 803, 'pas': 2085, 'operé': 2029, 'seamlessly': 2575, 'proving': 2294, 'marvelous': 1798, 'tickles': 3011, 'sensuously': 2599, 'sight': 2647, 'minerally': 1869, 'remarkable': 2402, 'maturity': 1813, 'combine': 659, 'unabashedly': 3094, 'lanolin': 1634, 'envigorates': 1045, 'morar': 1902, 'mingled': 1872, 'dancing': 809, 'thicket': 2994, 'briar': 415, 'wants': 3212, 'say': 2555, 'thistle': 3000, 'gun': 1396, 'metal': 1850, 'running': 2511, 'warms': 3216, 'pat': 2092, 'left': 1671, 'decade': 818, 'lusciously': 1752, 'kabinett': 1598, 'shocking': 2629, 'throated': 3006, 'supports': 2900, 'underlay': 3103, 'anchored': 172, 'lightened': 1699, 'beckstoffer': 295, 'georges': 1305, 'iii': 1489, 'funny': 1277, 'fade': 1108, 'awkward': 246, 'doldrums': 916, 'clearly': 628, 'need': 1949, 'rigidly': 2451, 'tuscan': 3084, 'begin': 302, 'percentage': 2116, 'pomerols': 2209, 'needing': 1950, 'superior': 2892, 'beware': 321, 'cork': 736, 'secured': 2583, 'precariously': 2236, 'garnet': 1290, 'stella': 2815, 'mae': 1762, 'sparkman': 2754, 'portfolio': 2218, 'having': 1416, '14': 7, 'cannonau': 499, 'persimmons': 2130, 'unripeness': 3126, 'glimmer': 1327, 'bulky': 462, 'compensates': 675, 'garrigue': 1291, 'braises': 402, 'stews': 2823, 'scour': 2568, 'middle': 1857, 'suggests': 2881, 'fatty': 1128, 'verduzzo': 3164, 'window': 3254, 'friuli': 1260, 'grave': 1363, 'tends': 2975, 'creaminess': 763, 'stellar': 2816, 'redolent': 2379, 'salvia': 2533, 'brightness': 422, 'satisfyingly': 2545, 'eggy': 993, 'semisweet': 2596, 'basic': 281, 'creamed': 761, 'shaft': 2612, 'cutting': 802, 'welcome': 3236, 'rivers': 2467, 'geoff': 1304, 'tate': 2955, 'insania': 1528, 'actually': 109, 'tame': 2933, 'introduce': 1548, 'gracefully': 1344, 'deftly': 836, 'boost': 376, 'el': 995, 'dorado': 926, 'sings': 2660, 'midweek': 1860, 'blowsy': 358, 'cuddly': 787, 'resin': 2418, 'qulaity': 2336, 'ss': 2786, 'verdelho': 3162, 'marcona': 1786, 'swirl': 2922, 'performer': 2121, 'hanna': 1408, 'yielding': 3296, 'efforts': 990, 'meyer': 1854, 'côtes': 805, 'impressively': 1505, 'couple': 748, 'tire': 3027, 'grating': 1362, 'darkness': 812, 'ribolla': 2438, 'gialla': 1313, 'sharply': 2619, 'captures': 504, 'defining': 832, 'wahluke': 3206, 'reflecting': 2385, 'abbreviated': 80, 'growing': 1387, 'season': 2578, 'crafting': 756, 'annotate': 177, 'thread': 3004, 'chalk': 544, '74': 71, 'howell': 1480, 'sizably': 2671, 'balm': 263, 'energized': 1026, 'potentially': 2223, 'splendid': 2772, 'tense': 2976, 'defiantly': 828, 'searing': 2577, 'cushions': 798, 'nervy': 1960, 'leans': 1660, 'speak': 2756, 'overflows': 2048, 'chocolaty': 595, 'highlighted': 1450, 'uplifted': 3131, 'breadth': 412, 'figure': 1151, 'youthful': 3302, 'desiring': 870, 'strength': 2843, 'beginnings': 304, 'delicacy': 840, 'grace': 1341, 'commingling': 669, 'unraveling': 3123, 'youth': 3301, 'glorious': 1328, 'celebration': 533, 'walled': 3210, 'owned': 2054, 'bishop': 326, 'number': 1994, 'premier': 2244, 'effusive': 991, 'bob': 363, 'lindquist': 1710, 'vintner': 3186, 'america': 167, 'marsanne': 1795, 'straw': 2838, 'mats': 1811, 'dessert': 872, 'steadily': 2807, 'grows': 1389, 'cotton': 742, 'stuff': 2856, 'hibiscus': 1444, 'garden': 1287, 'carrying': 520, 'sims': 2658, 'amped': 170, 'kahlua': 1600, 'push': 2318, 'mode': 1887, 'liquorous': 1721, 'suitable': 2882, 'ribs': 2439, 'burger': 466, 'rush': 2514, 'scent': 2559, 'effervescent': 987, 'carbonation': 508, 'coming': 667, 'yum': 3304, 'factor': 1107, 'expert': 1084, 'iconic': 1486, 'rolls': 2482, '2020s': 36, 'scheurebe': 2562, 'germany': 1306, 'wittmann': 3265, 'contrasted': 720, 'preference': 2243, 'champagnes': 551, 'softening': 2720, 'effect': 985, 'gently': 1302, 'room': 2486, 'sought': 2738, 'westside': 3242, 'overpowering': 2050, 'iodine': 1553, 'airing': 139, 'flush': 1202, 'slip': 2686, 'crop': 777, 'sparklers': 2752, 'native': 1937, '56': 65, 'prior': 2262, 'disgorging': 898, 'cucumber': 786, 'odds': 2007, 'scott': 2567, 'shull': 2640, 'raptor': 2353, 'consults': 710, 'clones': 632, 'filet': 1152, 'pushes': 2320, 'entwined': 1043, 'decanting': 822, 'cracked': 752, 'excellently': 1070, 'umami': 3093, 'olie': 2019, 'delightfully': 849, '63': 68, 'present': 2247, 'über': 3316, 'allows': 151, 'bolder': 368, 'notions': 1990, 'wädenswil': 3286, 'elkton': 1009, 'ava': 239, 'sassafras': 2541, 'proportioned': 2285, 'scope': 2564, 'descend': 862, 'funk': 1275, 'grapeseeds': 1355, 'gingerbread': 1317, 'powered': 2231, 'westernmost': 3241, 'gamey': 1285, 'musky': 1931, 'needles': 1952, 'beg': 301, 'paired': 2067, 'sizable': 2670, 'expressions': 1091, 'linger': 1714, 'beauty': 293, 'vanguards': 3140, '62': 67, '19': 14, 'entirely': 1041, 'showcasing': 2634, 'tease': 2960, 'lurking': 1750, 'letting': 1687, 'unveil': 3128, 'self': 2594, 'bricks': 417, 'highest': 1449, 'westerly': 3239, 'lacings': 1625, 'tremendous': 3068, '2026': 42, 'veeder': 3149, 'surprise': 2904, 'salted': 2530, 'mighty': 1861, 'pagani': 2065, '1895': 13, 'study': 2855, 'rusticity': 2518, 'jolt': 1580, 'rears': 2370, 'head': 1418, 'compete': 676, 'remote': 2405, 'lubéron': 1747, 'mountains': 1912, 'provence': 2291, 'gains': 1282, 'negrel': 1956, 'owners': 2055, 'ranging': 2352, 'discovery': 897, 'champoux': 552, 'shamelessly': 2614, 'premium': 2245, 'surrounding': 2909, 'boned': 374, 'rdd': 2363, 'manageable': 1777, 'dennis': 855, 'martin': 1797, 'miller': 1865, 'signature': 2648, 'nod': 1976, 'importance': 1499, 'cranberries': 757, 'rattle': 2359, 'numerous': 1995, 'blanched': 342, 'soothing': 2733, 'combining': 662, 'opaque': 2024, 'word': 3275, 'maintain': 1767, 'beguiling': 307, 'pruned': 2297, 'older': 2017, 'block': 351, 'unlikely': 3120, 'seductive': 2584, 'rare': 2354, 'jump': 1590, 'purpose': 2317, 'school': 2563, 'oodles': 2023, 'kinds': 1610, 'proteins': 2289, 'boisterous': 366, 'elias': 1007, 'fernandez': 1143, 'doug': 930, 'shafer': 2611, 'macaroon': 1760, 'substantiate': 2868, 'unexpected': 3113, 'sarsaparilla': 2540, 'rocks': 2476, 'needle': 1951, 'spicing': 2768, 'excitingly': 1076, 'peppercorns': 2110, 'picked': 2144, 'elderberries': 997, 'hoisin': 1460, 'magic': 1763, 'shiitake': 2625, 'porcini': 2216, 'truffles': 3075, 'gravy': 1366, 'concoction': 695, 'standout': 2794, 'gas': 1292, 'classically': 619, 'rendered': 2407, 'persist': 2131, 'bursts': 472, 'life': 1694, 'persistence': 2132, 'handed': 1404, 'brine': 426, 'achieving': 98, 'located': 1735, 'inland': 1527, 'arrives': 212, 'bringing': 428, 'party': 2084, 'bend': 313, 'major': 1770, 'success': 2872, 'softer': 2721, 'enable': 1017, 'shade': 2607, 'juxtaposing': 1597, 'clingy': 631, 'grüner': 1391, 'veltliner': 3157, 'state': 2801, 'days': 816, 'leap': 1661, 'strain': 2836, 'plentiful': 2186, 'rooibos': 2485, 'diffuse': 884, 'considering': 705, 'reduction': 2382, 'hangs': 1406, 'await': 244, 'underneath': 3107, 'slender': 2682, 'yeastiness': 3291, 'treat': 3066, 'discover': 896, 'crowd': 778, 'pleaser': 2182, 'smudge': 2709, 'cover': 750, 'mining': 1873, 'town': 3054, 'pozo': 2234, 'tightens': 3013, 'smartly': 2696, 'anjou': 175, 'peardrop': 2100, 'brightening': 420, 'liveliness': 1726, 'hovers': 1479, 'recalling': 2372, 'restricts': 2422, 'sunny': 2887, 'load': 1729, 'dressed': 937, 'turning': 3083, 'pan': 2073, 'washington': 3219, 'columbia': 657, 'styled': 2862, 'bring': 427, 'indigenous': 1517, 'cretan': 772, 'deft': 835, 'hands': 1405, 'lyrarakis': 1759, 'altitude': 160, 'shines': 2627, 'focusing': 1208, 'pleasurable': 2184, 'cohesive': 650, 'integrates': 1533, 'barbecues': 270, 'dustings': 963, 'gavi': 1294, 'nicest': 1969, 'general': 1295, 'baja': 256, 'performers': 2122, 'varietally': 3144, 'nettle': 1961, 'stuffing': 2857, 'haul': 1414, 'chock': 593, 'ruffle': 2507, 'feathery': 1132, 'matched': 1809, 'punchy': 2309, 'pushed': 2319, 'labeled': 1623, 'steelhead': 2812, 'ox': 2057, 'sappy': 2539, 'supporting': 2898, 'crashing': 759, 'predict': 2240, 'superripe': 2894, 'persimmon': 2129, 'prickle': 2257, 'possible': 2220, 'boosted': 377, 'dynamic': 966, 'sisters': 2666, 'territory': 2982, 'scored': 2566, '87': 75, 'pour': 2227, 'fridge': 1253, 'develops': 878, 'considerably': 704, 'jarring': 1570, 'superiore': 2893, 'piedmont': 2148, 'tartness': 2947, 'edna': 984, 'dash': 813, 'sawtooth': 2554, 'skyline': 2679, 'mainly': 1766, '85': 74, 'nez': 1966, 'perce': 2114, 'clearwater': 629, 'thrown': 3009, 'getting': 1308, 'attenuated': 228, 'garganega': 1288, 'sees': 2589, 'nectar': 1946, 'ashy': 216, 'segues': 2590, 'nearing': 1942, 'bother': 383, 'aside': 218, 'delivering': 852, 'wave': 3223, 'marinated': 1787, 'intended': 1534, 'experiment': 1083, 'creativity': 769, 'involves': 1552, 'santa': 2538, 'rita': 2465, 'hills': 1453, 'pillowy': 2152, 'oldest': 2018, 'rewards': 2434, 'patience': 2094, 'adorn': 122, 'emphasizes': 1015, 'hidden': 1446, 'altogether': 162, 'tinged': 3021, 'moreish': 1903, 'joyful': 1582, 'mirabelle': 1879, 'constitute': 708, 'chief': 585, 'carried': 517, 'gingery': 1318, 'amazing': 164, '1910': 15, 'blacks': 340, 'conjuring': 701, 'topped': 3044, 'whipped': 3246, 'buoys': 465, 'proceedings': 2265, 'grain': 1347, 'sherry': 2624, 'rioja': 2455, 'viura': 3194, 'excel': 1068, 'indicates': 1516, 'torbreck': 3045, 'controversial': 724, 'verge': 3165, 'joins': 1578, 'gewurztraminer': 1309, 'smashing': 2698, 'duo': 959, 'polar': 2204, 'opposites': 2030, 'straight': 2834, 'playfulness': 2177, 'charm': 565, 'lit': 1722, 'worlds': 3279, 'scented': 2560, 'drenched': 936, 'purest': 2314, 'mere': 1844, 'space': 2748, 'definite': 833, 'pull': 2300, 'plane': 2172, 'yields': 3297, 'tend': 2971, 'struggles': 2853, 'drought': 950, 'fantastic': 1119, 'browned': 445, 'popcorn': 2212, 'chalkiness': 545, 'texturally': 2987, 'completely': 681, 'blockbuster': 352, 'intoxication': 1545, 'edginess': 982, 'master': 1806, 'luis': 1748, 'duarte': 958, 'broadened': 437, 'chip': 591, 'pommard': 2210, 'combined': 660, 'detailed': 873, 'streaks': 2842, 'spot': 2774, 'suspension': 2910, 'speaks': 2757, 'landscape': 1632, 'douro': 932, 'percent': 2115, 'venture': 3160, 'created': 767, 'joão': 1583, 'nicolau': 1970, 'almeida': 155, 'ramos': 2347, 'pinto': 2162, 'spray': 2775, 'perfumes': 2125, 'spätlese': 2783, 'exhilarating': 1078, 'contrasting': 721, 'bites': 330, 'smidgen': 2702, 'exalted': 1064, 'aspects': 220, 'waiting': 3208, 'companionship': 672, 'radiant': 2339, 'celery': 535, 'challenging': 548, 'zingy': 3312, 'sorbet': 2735, 'tastings': 2953, 'rieslings': 2449, 'western': 3240, 'australia': 236, 'sherbet': 2623, 'consider': 703, 'holding': 1462, 'fog': 1209, 'soaked': 2713, 'brazil': 409, 'laid': 1630, 'bed': 296, 'lets': 1686, 'inflects': 1520, 'zins': 3313, 'subtly': 2870, 'pulling': 2302, 'sky': 2678, 'grounded': 1385, 'expansive': 1080, 'smoothly': 2708, 'wire': 3262, 'king': 1611, 'midway': 1859, 'veering': 3151, 'help': 1432, 'livelier': 1725, 'cleanser': 624, 'oysters': 2060, 'herbed': 1440, 'goat': 1329, 'justice': 1595, 'dolcetto': 915, 'kitchen': 1615, 'cooking': 730, 'reticent': 2427, 'recent': 2374, 'hair': 1400, 'spritzy': 2781, 'razor': 2362, 'loamy': 1733, 'buoyantly': 463, 'brashly': 407, 'virgin': 3190, 'uniquely': 3117, 'seedless': 2585, 'tendency': 2972, 'exuberant': 1103, 'checks': 569, 'boxes': 395, 'correctness': 738, 'mastered': 1807, 'jolts': 1581, 'meanders': 1820, 'similarly': 2655, 'sibling': 2642, 'roth': 2495, 'distinctly': 907, 'stays': 2806, 'knoll': 1619, 'carneros': 514, 'oft': 2012, 'chilly': 590, 'cooler': 732, 'complemented': 678, 'fruitier': 1266, 'pierce': 2149, 'otis': 2044, 'harlan': 1410, 'rattlesnake': 2360, 'yakima': 3287, 'interplay': 1542, 'notion': 1989, 'definition': 834, 'foggy': 1210, 'shaded': 2608, 'freestone': 1246, 'yogurt': 3298, 'seared': 2576, 'keeled': 1602, 'dairy': 806, 'mounds': 1908, 'bar': 267, 'desert': 865, 'cuyama': 804, '25': 51, 'jerky': 1574, 'superfine': 2891, 'zweigelt': 3315, 'swagger': 2911, 'step': 2818, 'brash': 406, 'slow': 2689, 'osso': 2043, 'buco': 456, 'supportive': 2899, 'ciliegiolo': 604, 'bouschet': 392, 'straddles': 2833, 'bulk': 461, '17': 11, 'use': 3132, 'bite': 329, 'iris': 1554, 'woodland': 3271, 'dillons': 886, 'subregion': 2865, 'marlborough': 1792, 'examples': 1066, 'hew': 1443, 'mold': 1894, 'mannered': 1783, 'zing': 3311, 'predominate': 2242, 'truly': 3076, 'brownie': 446}\n"
     ]
    }
   ],
   "source": [
    "C_vect = CountVectorizer(stop_words='english')\n",
    "C_vect.fit_transform(wine_sample)\n",
    "print(C_vect.vocabulary_)"
   ]
  },
  {
   "cell_type": "code",
   "execution_count": 239,
   "metadata": {},
   "outputs": [],
   "source": [
    "wine_dict = C_vect.vocabulary_"
   ]
  },
  {
   "cell_type": "code",
   "execution_count": 252,
   "metadata": {},
   "outputs": [
    {
     "data": {
      "text/html": [
       "<div>\n",
       "<style scoped>\n",
       "    .dataframe tbody tr th:only-of-type {\n",
       "        vertical-align: middle;\n",
       "    }\n",
       "\n",
       "    .dataframe tbody tr th {\n",
       "        vertical-align: top;\n",
       "    }\n",
       "\n",
       "    .dataframe thead th {\n",
       "        text-align: right;\n",
       "    }\n",
       "</style>\n",
       "<table border=\"1\" class=\"dataframe\">\n",
       "  <thead>\n",
       "    <tr style=\"text-align: right;\">\n",
       "      <th></th>\n",
       "      <th>word_count</th>\n",
       "    </tr>\n",
       "  </thead>\n",
       "  <tbody>\n",
       "    <tr>\n",
       "      <th>aromas</th>\n",
       "      <td>206</td>\n",
       "    </tr>\n",
       "    <tr>\n",
       "      <th>include</th>\n",
       "      <td>1508</td>\n",
       "    </tr>\n",
       "    <tr>\n",
       "      <th>tropical</th>\n",
       "      <td>3070</td>\n",
       "    </tr>\n",
       "    <tr>\n",
       "      <th>fruit</th>\n",
       "      <td>1264</td>\n",
       "    </tr>\n",
       "    <tr>\n",
       "      <th>broom</th>\n",
       "      <td>441</td>\n",
       "    </tr>\n",
       "  </tbody>\n",
       "</table>\n",
       "</div>"
      ],
      "text/plain": [
       "          word_count\n",
       "aromas           206\n",
       "include         1508\n",
       "tropical        3070\n",
       "fruit           1264\n",
       "broom            441"
      ]
     },
     "execution_count": 252,
     "metadata": {},
     "output_type": "execute_result"
    }
   ],
   "source": [
    "df_winewords = pd.DataFrame.from_dict(wine_dict, orient = 'index', columns=['word_count'])\n",
    "df_winewords.head()"
   ]
  },
  {
   "cell_type": "code",
   "execution_count": 270,
   "metadata": {},
   "outputs": [
    {
     "data": {
      "text/plain": [
       "über          3316\n",
       "zweigelt      3315\n",
       "zippy         3314\n",
       "zins          3313\n",
       "zingy         3312\n",
       "zing          3311\n",
       "zinfandel     3310\n",
       "zin           3309\n",
       "zesty         3308\n",
       "zestiness     3307\n",
       "zest          3306\n",
       "zealand       3305\n",
       "yum           3304\n",
       "youthfully    3303\n",
       "youthful      3302\n",
       "youth         3301\n",
       "yountville    3300\n",
       "young         3299\n",
       "yogurt        3298\n",
       "yields        3297\n",
       "Name: word_count, dtype: int64"
      ]
     },
     "execution_count": 270,
     "metadata": {},
     "output_type": "execute_result"
    }
   ],
   "source": [
    "df_winewords['word_count'].sort_values(ascending=False)[:20]"
   ]
  },
  {
   "cell_type": "code",
   "execution_count": 280,
   "metadata": {},
   "outputs": [],
   "source": [
    "sum_words = df_winewords['word_count'].unique().sum()\n",
    "df_winewords['pct_count'] = df_winewords['word_count'] / sum_words * 100"
   ]
  },
  {
   "cell_type": "code",
   "execution_count": 281,
   "metadata": {},
   "outputs": [
    {
     "data": {
      "text/html": [
       "<div>\n",
       "<style scoped>\n",
       "    .dataframe tbody tr th:only-of-type {\n",
       "        vertical-align: middle;\n",
       "    }\n",
       "\n",
       "    .dataframe tbody tr th {\n",
       "        vertical-align: top;\n",
       "    }\n",
       "\n",
       "    .dataframe thead th {\n",
       "        text-align: right;\n",
       "    }\n",
       "</style>\n",
       "<table border=\"1\" class=\"dataframe\">\n",
       "  <thead>\n",
       "    <tr style=\"text-align: right;\">\n",
       "      <th></th>\n",
       "      <th>word_count</th>\n",
       "      <th>pct_count</th>\n",
       "    </tr>\n",
       "  </thead>\n",
       "  <tbody>\n",
       "    <tr>\n",
       "      <th>aromas</th>\n",
       "      <td>206</td>\n",
       "      <td>0.003746</td>\n",
       "    </tr>\n",
       "    <tr>\n",
       "      <th>include</th>\n",
       "      <td>1508</td>\n",
       "      <td>0.027420</td>\n",
       "    </tr>\n",
       "    <tr>\n",
       "      <th>tropical</th>\n",
       "      <td>3070</td>\n",
       "      <td>0.055822</td>\n",
       "    </tr>\n",
       "    <tr>\n",
       "      <th>fruit</th>\n",
       "      <td>1264</td>\n",
       "      <td>0.022984</td>\n",
       "    </tr>\n",
       "    <tr>\n",
       "      <th>broom</th>\n",
       "      <td>441</td>\n",
       "      <td>0.008019</td>\n",
       "    </tr>\n",
       "  </tbody>\n",
       "</table>\n",
       "</div>"
      ],
      "text/plain": [
       "          word_count  pct_count\n",
       "aromas           206   0.003746\n",
       "include         1508   0.027420\n",
       "tropical        3070   0.055822\n",
       "fruit           1264   0.022984\n",
       "broom            441   0.008019"
      ]
     },
     "execution_count": 281,
     "metadata": {},
     "output_type": "execute_result"
    }
   ],
   "source": [
    "df_winewords.head()"
   ]
  },
  {
   "cell_type": "code",
   "execution_count": 282,
   "metadata": {},
   "outputs": [
    {
     "data": {
      "text/plain": [
       "über          0.060295\n",
       "zweigelt      0.060277\n",
       "zippy         0.060259\n",
       "zins          0.060241\n",
       "zingy         0.060223\n",
       "zing          0.060205\n",
       "zinfandel     0.060186\n",
       "zin           0.060168\n",
       "zesty         0.060150\n",
       "zestiness     0.060132\n",
       "zest          0.060114\n",
       "zealand       0.060095\n",
       "yum           0.060077\n",
       "youthfully    0.060059\n",
       "youthful      0.060041\n",
       "youth         0.060023\n",
       "yountville    0.060005\n",
       "young         0.059986\n",
       "yogurt        0.059968\n",
       "yields        0.059950\n",
       "Name: pct_count, dtype: float64"
      ]
     },
     "execution_count": 282,
     "metadata": {},
     "output_type": "execute_result"
    }
   ],
   "source": [
    "df_winewords['pct_count'].sort_values(ascending=False)[:20]"
   ]
  },
  {
   "cell_type": "code",
   "execution_count": 183,
   "metadata": {},
   "outputs": [],
   "source": [
    "#df_winewords['pct_count'].sort_values(ascending=False)[:20].plot()"
   ]
  },
  {
   "cell_type": "code",
   "execution_count": 145,
   "metadata": {},
   "outputs": [
    {
     "data": {
      "text/html": [
       "<div>\n",
       "<style scoped>\n",
       "    .dataframe tbody tr th:only-of-type {\n",
       "        vertical-align: middle;\n",
       "    }\n",
       "\n",
       "    .dataframe tbody tr th {\n",
       "        vertical-align: top;\n",
       "    }\n",
       "\n",
       "    .dataframe thead th {\n",
       "        text-align: right;\n",
       "    }\n",
       "</style>\n",
       "<table border=\"1\" class=\"dataframe\">\n",
       "  <thead>\n",
       "    <tr style=\"text-align: right;\">\n",
       "      <th></th>\n",
       "      <th>region_name</th>\n",
       "      <th>region_count</th>\n",
       "    </tr>\n",
       "  </thead>\n",
       "  <tbody>\n",
       "    <tr>\n",
       "      <th>0</th>\n",
       "      <td>Napa Valley</td>\n",
       "      <td>4170</td>\n",
       "    </tr>\n",
       "    <tr>\n",
       "      <th>1</th>\n",
       "      <td>Russian River Valley</td>\n",
       "      <td>2861</td>\n",
       "    </tr>\n",
       "    <tr>\n",
       "      <th>2</th>\n",
       "      <td>California</td>\n",
       "      <td>2466</td>\n",
       "    </tr>\n",
       "    <tr>\n",
       "      <th>3</th>\n",
       "      <td>Paso Robles</td>\n",
       "      <td>2133</td>\n",
       "    </tr>\n",
       "    <tr>\n",
       "      <th>4</th>\n",
       "      <td>Sonoma Coast</td>\n",
       "      <td>1368</td>\n",
       "    </tr>\n",
       "    <tr>\n",
       "      <th>5</th>\n",
       "      <td>Sonoma County</td>\n",
       "      <td>1162</td>\n",
       "    </tr>\n",
       "    <tr>\n",
       "      <th>6</th>\n",
       "      <td>Carneros</td>\n",
       "      <td>930</td>\n",
       "    </tr>\n",
       "    <tr>\n",
       "      <th>7</th>\n",
       "      <td>Santa Barbara County</td>\n",
       "      <td>912</td>\n",
       "    </tr>\n",
       "    <tr>\n",
       "      <th>8</th>\n",
       "      <td>Sta. Rita Hills</td>\n",
       "      <td>900</td>\n",
       "    </tr>\n",
       "    <tr>\n",
       "      <th>9</th>\n",
       "      <td>Dry Creek Valley</td>\n",
       "      <td>867</td>\n",
       "    </tr>\n",
       "    <tr>\n",
       "      <th>10</th>\n",
       "      <td>Lodi</td>\n",
       "      <td>752</td>\n",
       "    </tr>\n",
       "    <tr>\n",
       "      <th>11</th>\n",
       "      <td>Santa Lucia Highlands</td>\n",
       "      <td>738</td>\n",
       "    </tr>\n",
       "    <tr>\n",
       "      <th>12</th>\n",
       "      <td>Santa Ynez Valley</td>\n",
       "      <td>735</td>\n",
       "    </tr>\n",
       "    <tr>\n",
       "      <th>13</th>\n",
       "      <td>Alexander Valley</td>\n",
       "      <td>729</td>\n",
       "    </tr>\n",
       "    <tr>\n",
       "      <th>14</th>\n",
       "      <td>Central Coast</td>\n",
       "      <td>667</td>\n",
       "    </tr>\n",
       "    <tr>\n",
       "      <th>15</th>\n",
       "      <td>Santa Maria Valley</td>\n",
       "      <td>665</td>\n",
       "    </tr>\n",
       "    <tr>\n",
       "      <th>16</th>\n",
       "      <td>Sonoma Valley</td>\n",
       "      <td>619</td>\n",
       "    </tr>\n",
       "    <tr>\n",
       "      <th>17</th>\n",
       "      <td>Anderson Valley</td>\n",
       "      <td>597</td>\n",
       "    </tr>\n",
       "    <tr>\n",
       "      <th>18</th>\n",
       "      <td>Santa Cruz Mountains</td>\n",
       "      <td>510</td>\n",
       "    </tr>\n",
       "    <tr>\n",
       "      <th>19</th>\n",
       "      <td>Livermore Valley</td>\n",
       "      <td>417</td>\n",
       "    </tr>\n",
       "  </tbody>\n",
       "</table>\n",
       "</div>"
      ],
      "text/plain": [
       "              region_name  region_count\n",
       "0             Napa Valley          4170\n",
       "1    Russian River Valley          2861\n",
       "2              California          2466\n",
       "3             Paso Robles          2133\n",
       "4            Sonoma Coast          1368\n",
       "5           Sonoma County          1162\n",
       "6                Carneros           930\n",
       "7    Santa Barbara County           912\n",
       "8         Sta. Rita Hills           900\n",
       "9        Dry Creek Valley           867\n",
       "10                   Lodi           752\n",
       "11  Santa Lucia Highlands           738\n",
       "12      Santa Ynez Valley           735\n",
       "13       Alexander Valley           729\n",
       "14          Central Coast           667\n",
       "15     Santa Maria Valley           665\n",
       "16          Sonoma Valley           619\n",
       "17        Anderson Valley           597\n",
       "18   Santa Cruz Mountains           510\n",
       "19       Livermore Valley           417"
      ]
     },
     "execution_count": 145,
     "metadata": {},
     "output_type": "execute_result"
    }
   ],
   "source": [
    "cali_top20 = wine[wine['province']=='California']['region'].value_counts()[:20]\n",
    "cali_top20 = pd.DataFrame(cali_top20)\n",
    "cali_top20 = cali_top20.reset_index()\n",
    "cali_top20.columns = ['region_name', 'region_count']\n",
    "cali_top20"
   ]
  },
  {
   "cell_type": "code",
   "execution_count": 162,
   "metadata": {},
   "outputs": [],
   "source": [
    "import geopy\n",
    "import geopandas\n",
    "import geocoder\n",
    "import googlemaps\n",
    "from geopy.geocoders import Nominatim\n",
    "from geopy.extra.rate_limiter import RateLimiter"
   ]
  },
  {
   "cell_type": "code",
   "execution_count": 158,
   "metadata": {},
   "outputs": [
    {
     "ename": "NameError",
     "evalue": "name 'gmaps' is not defined",
     "output_type": "error",
     "traceback": [
      "\u001b[0;31m---------------------------------------------------------------------------\u001b[0m",
      "\u001b[0;31mNameError\u001b[0m                                 Traceback (most recent call last)",
      "\u001b[0;32m<ipython-input-158-67bf3abfa2da>\u001b[0m in \u001b[0;36m<module>\u001b[0;34m()\u001b[0m\n\u001b[1;32m      1\u001b[0m \u001b[0;31m#cali_top20_locations = geopandas.tools.geocode(cali_top20.region_name, provider = 'google' )\u001b[0m\u001b[0;34m\u001b[0m\u001b[0;34m\u001b[0m\u001b[0m\n\u001b[0;32m----> 2\u001b[0;31m \u001b[0mgmaps\u001b[0m\u001b[0;34m.\u001b[0m\u001b[0mgeocode\u001b[0m\u001b[0;34m(\u001b[0m\u001b[0;34m'Santa Maria Valley'\u001b[0m\u001b[0;34m)\u001b[0m\u001b[0;34m\u001b[0m\u001b[0m\n\u001b[0m",
      "\u001b[0;31mNameError\u001b[0m: name 'gmaps' is not defined"
     ]
    }
   ],
   "source": [
    "#cali_top20_locations = geopandas.tools.geocode(cali_top20.region_name, provider = 'google' )\n",
    "#gmaps.geocode('Santa Maria Valley')"
   ]
  },
  {
   "cell_type": "code",
   "execution_count": 211,
   "metadata": {},
   "outputs": [
    {
     "data": {
      "text/html": [
       "<div>\n",
       "<style scoped>\n",
       "    .dataframe tbody tr th:only-of-type {\n",
       "        vertical-align: middle;\n",
       "    }\n",
       "\n",
       "    .dataframe tbody tr th {\n",
       "        vertical-align: top;\n",
       "    }\n",
       "\n",
       "    .dataframe thead th {\n",
       "        text-align: right;\n",
       "    }\n",
       "</style>\n",
       "<table border=\"1\" class=\"dataframe\">\n",
       "  <thead>\n",
       "    <tr style=\"text-align: right;\">\n",
       "      <th></th>\n",
       "      <th>name</th>\n",
       "      <th>location</th>\n",
       "      <th>point</th>\n",
       "    </tr>\n",
       "  </thead>\n",
       "  <tbody>\n",
       "    <tr>\n",
       "      <th>0</th>\n",
       "      <td>paris</td>\n",
       "      <td>(Paris, Île-de-France, France métropolitaine, ...</td>\n",
       "      <td>[48.85881005, 2.32003101155031, 0.0]</td>\n",
       "    </tr>\n",
       "    <tr>\n",
       "      <th>1</th>\n",
       "      <td>berlin</td>\n",
       "      <td>(Berlin, 10117, Deutschland, (52.5170365, 13.3...</td>\n",
       "      <td>[52.5170365, 13.3888599, 0.0]</td>\n",
       "    </tr>\n",
       "    <tr>\n",
       "      <th>2</th>\n",
       "      <td>london</td>\n",
       "      <td>(London, Greater London, England, SW1A 2DU, UK...</td>\n",
       "      <td>[51.5073219, -0.1276474, 0.0]</td>\n",
       "    </tr>\n",
       "  </tbody>\n",
       "</table>\n",
       "</div>"
      ],
      "text/plain": [
       "     name                                           location  \\\n",
       "0   paris  (Paris, Île-de-France, France métropolitaine, ...   \n",
       "1  berlin  (Berlin, 10117, Deutschland, (52.5170365, 13.3...   \n",
       "2  london  (London, Greater London, England, SW1A 2DU, UK...   \n",
       "\n",
       "                                  point  \n",
       "0  [48.85881005, 2.32003101155031, 0.0]  \n",
       "1         [52.5170365, 13.3888599, 0.0]  \n",
       "2         [51.5073219, -0.1276474, 0.0]  "
      ]
     },
     "execution_count": 211,
     "metadata": {},
     "output_type": "execute_result"
    }
   ],
   "source": [
    "df_geo = pd.DataFrame({'name': ['paris', 'berlin', 'london']})\n",
    "geolocator = Nominatim(user_agent=\"MyGA_project\")\n",
    "geocode = RateLimiter(geolocator.geocode, min_delay_seconds=1)\n",
    "df_geo['location'] = df_geo['name'].apply(geocode)\n",
    "df_geo['point'] = df_geo['location'].apply(lambda loc: list(loc.point) if loc else None)\n",
    "df_geo"
   ]
  },
  {
   "cell_type": "code",
   "execution_count": 225,
   "metadata": {},
   "outputs": [],
   "source": [
    "cali_top20['location'] = cali_top20['region_name'].apply(geocode)\n",
    "cali_top20['point'] = cali_top20['location'].apply(lambda loc: list(loc.point) if loc else None)\n"
   ]
  },
  {
   "cell_type": "code",
   "execution_count": 228,
   "metadata": {},
   "outputs": [],
   "source": [
    "def long_lat(lst):\n",
    "    lst.pop(2)\n",
    "    return lst\n",
    "    "
   ]
  },
  {
   "cell_type": "code",
   "execution_count": 229,
   "metadata": {},
   "outputs": [
    {
     "ename": "AttributeError",
     "evalue": "'NoneType' object has no attribute 'pop'",
     "output_type": "error",
     "traceback": [
      "\u001b[0;31m---------------------------------------------------------------------------\u001b[0m",
      "\u001b[0;31mAttributeError\u001b[0m                            Traceback (most recent call last)",
      "\u001b[0;32m<ipython-input-229-c688469fdb72>\u001b[0m in \u001b[0;36m<module>\u001b[0;34m()\u001b[0m\n\u001b[0;32m----> 1\u001b[0;31m \u001b[0mcali_top20\u001b[0m\u001b[0;34m[\u001b[0m\u001b[0;34m'real_point'\u001b[0m\u001b[0;34m]\u001b[0m \u001b[0;34m=\u001b[0m \u001b[0mcali_top20\u001b[0m\u001b[0;34m[\u001b[0m\u001b[0;34m'point'\u001b[0m\u001b[0;34m]\u001b[0m\u001b[0;34m.\u001b[0m\u001b[0mapply\u001b[0m\u001b[0;34m(\u001b[0m\u001b[0mlong_lat\u001b[0m\u001b[0;34m)\u001b[0m\u001b[0;34m\u001b[0m\u001b[0m\n\u001b[0m",
      "\u001b[0;32m~/anaconda3/lib/python3.6/site-packages/pandas/core/series.py\u001b[0m in \u001b[0;36mapply\u001b[0;34m(self, func, convert_dtype, args, **kwds)\u001b[0m\n\u001b[1;32m   3190\u001b[0m             \u001b[0;32melse\u001b[0m\u001b[0;34m:\u001b[0m\u001b[0;34m\u001b[0m\u001b[0m\n\u001b[1;32m   3191\u001b[0m                 \u001b[0mvalues\u001b[0m \u001b[0;34m=\u001b[0m \u001b[0mself\u001b[0m\u001b[0;34m.\u001b[0m\u001b[0mastype\u001b[0m\u001b[0;34m(\u001b[0m\u001b[0mobject\u001b[0m\u001b[0;34m)\u001b[0m\u001b[0;34m.\u001b[0m\u001b[0mvalues\u001b[0m\u001b[0;34m\u001b[0m\u001b[0m\n\u001b[0;32m-> 3192\u001b[0;31m                 \u001b[0mmapped\u001b[0m \u001b[0;34m=\u001b[0m \u001b[0mlib\u001b[0m\u001b[0;34m.\u001b[0m\u001b[0mmap_infer\u001b[0m\u001b[0;34m(\u001b[0m\u001b[0mvalues\u001b[0m\u001b[0;34m,\u001b[0m \u001b[0mf\u001b[0m\u001b[0;34m,\u001b[0m \u001b[0mconvert\u001b[0m\u001b[0;34m=\u001b[0m\u001b[0mconvert_dtype\u001b[0m\u001b[0;34m)\u001b[0m\u001b[0;34m\u001b[0m\u001b[0m\n\u001b[0m\u001b[1;32m   3193\u001b[0m \u001b[0;34m\u001b[0m\u001b[0m\n\u001b[1;32m   3194\u001b[0m         \u001b[0;32mif\u001b[0m \u001b[0mlen\u001b[0m\u001b[0;34m(\u001b[0m\u001b[0mmapped\u001b[0m\u001b[0;34m)\u001b[0m \u001b[0;32mand\u001b[0m \u001b[0misinstance\u001b[0m\u001b[0;34m(\u001b[0m\u001b[0mmapped\u001b[0m\u001b[0;34m[\u001b[0m\u001b[0;36m0\u001b[0m\u001b[0;34m]\u001b[0m\u001b[0;34m,\u001b[0m \u001b[0mSeries\u001b[0m\u001b[0;34m)\u001b[0m\u001b[0;34m:\u001b[0m\u001b[0;34m\u001b[0m\u001b[0m\n",
      "\u001b[0;32mpandas/_libs/src/inference.pyx\u001b[0m in \u001b[0;36mpandas._libs.lib.map_infer\u001b[0;34m()\u001b[0m\n",
      "\u001b[0;32m<ipython-input-228-16ebadcd86ab>\u001b[0m in \u001b[0;36mlong_lat\u001b[0;34m(lst)\u001b[0m\n\u001b[1;32m      1\u001b[0m \u001b[0;32mdef\u001b[0m \u001b[0mlong_lat\u001b[0m\u001b[0;34m(\u001b[0m\u001b[0mlst\u001b[0m\u001b[0;34m)\u001b[0m\u001b[0;34m:\u001b[0m\u001b[0;34m\u001b[0m\u001b[0m\n\u001b[0;32m----> 2\u001b[0;31m     \u001b[0mlst\u001b[0m\u001b[0;34m.\u001b[0m\u001b[0mpop\u001b[0m\u001b[0;34m(\u001b[0m\u001b[0;36m2\u001b[0m\u001b[0;34m)\u001b[0m\u001b[0;34m\u001b[0m\u001b[0m\n\u001b[0m\u001b[1;32m      3\u001b[0m     \u001b[0;32mreturn\u001b[0m \u001b[0mlst\u001b[0m\u001b[0;34m\u001b[0m\u001b[0m\n\u001b[1;32m      4\u001b[0m \u001b[0;34m\u001b[0m\u001b[0m\n",
      "\u001b[0;31mAttributeError\u001b[0m: 'NoneType' object has no attribute 'pop'"
     ]
    }
   ],
   "source": [
    "cali_top20['real_point'] = cali_top20['point'].apply(long_lat)\n"
   ]
  },
  {
   "cell_type": "code",
   "execution_count": 230,
   "metadata": {},
   "outputs": [
    {
     "data": {
      "text/html": [
       "<div>\n",
       "<style scoped>\n",
       "    .dataframe tbody tr th:only-of-type {\n",
       "        vertical-align: middle;\n",
       "    }\n",
       "\n",
       "    .dataframe tbody tr th {\n",
       "        vertical-align: top;\n",
       "    }\n",
       "\n",
       "    .dataframe thead th {\n",
       "        text-align: right;\n",
       "    }\n",
       "</style>\n",
       "<table border=\"1\" class=\"dataframe\">\n",
       "  <thead>\n",
       "    <tr style=\"text-align: right;\">\n",
       "      <th></th>\n",
       "      <th>region_name</th>\n",
       "      <th>region_count</th>\n",
       "      <th>location</th>\n",
       "      <th>point</th>\n",
       "      <th>real_point</th>\n",
       "    </tr>\n",
       "  </thead>\n",
       "  <tbody>\n",
       "    <tr>\n",
       "      <th>0</th>\n",
       "      <td>Napa Valley</td>\n",
       "      <td>4170</td>\n",
       "      <td>(名賢居 Napa Valley, 藍地 Lam Tei, 麒麟圍 Kei Lun Wai,...</td>\n",
       "      <td>[22.41124455, 113.980393164403]</td>\n",
       "      <td>None</td>\n",
       "    </tr>\n",
       "    <tr>\n",
       "      <th>1</th>\n",
       "      <td>Russian River Valley</td>\n",
       "      <td>2861</td>\n",
       "      <td>(Russian River, Mendocino County, California, ...</td>\n",
       "      <td>[38.9028592, -123.0581113]</td>\n",
       "      <td>None</td>\n",
       "    </tr>\n",
       "    <tr>\n",
       "      <th>2</th>\n",
       "      <td>California</td>\n",
       "      <td>2466</td>\n",
       "      <td>(California, United States of America, (36.701...</td>\n",
       "      <td>[36.7014631, -118.7559974]</td>\n",
       "      <td>None</td>\n",
       "    </tr>\n",
       "    <tr>\n",
       "      <th>3</th>\n",
       "      <td>Paso Robles</td>\n",
       "      <td>2133</td>\n",
       "      <td>(Paso Robles, San Luis Obispo County, Californ...</td>\n",
       "      <td>[35.6267654, -120.6912456]</td>\n",
       "      <td>None</td>\n",
       "    </tr>\n",
       "    <tr>\n",
       "      <th>4</th>\n",
       "      <td>Sonoma Coast</td>\n",
       "      <td>1368</td>\n",
       "      <td>(Coast Guard Training Center Petaluma, Two Roc...</td>\n",
       "      <td>[38.2481125, -122.786881081212]</td>\n",
       "      <td>None</td>\n",
       "    </tr>\n",
       "  </tbody>\n",
       "</table>\n",
       "</div>"
      ],
      "text/plain": [
       "            region_name  region_count  \\\n",
       "0           Napa Valley          4170   \n",
       "1  Russian River Valley          2861   \n",
       "2            California          2466   \n",
       "3           Paso Robles          2133   \n",
       "4          Sonoma Coast          1368   \n",
       "\n",
       "                                            location  \\\n",
       "0  (名賢居 Napa Valley, 藍地 Lam Tei, 麒麟圍 Kei Lun Wai,...   \n",
       "1  (Russian River, Mendocino County, California, ...   \n",
       "2  (California, United States of America, (36.701...   \n",
       "3  (Paso Robles, San Luis Obispo County, Californ...   \n",
       "4  (Coast Guard Training Center Petaluma, Two Roc...   \n",
       "\n",
       "                             point real_point  \n",
       "0  [22.41124455, 113.980393164403]       None  \n",
       "1       [38.9028592, -123.0581113]       None  \n",
       "2       [36.7014631, -118.7559974]       None  \n",
       "3       [35.6267654, -120.6912456]       None  \n",
       "4  [38.2481125, -122.786881081212]       None  "
      ]
     },
     "execution_count": 230,
     "metadata": {},
     "output_type": "execute_result"
    }
   ],
   "source": [
    "cali_top20.head()"
   ]
  },
  {
   "cell_type": "code",
   "execution_count": 231,
   "metadata": {},
   "outputs": [],
   "source": [
    "import folium"
   ]
  },
  {
   "cell_type": "code",
   "execution_count": 233,
   "metadata": {},
   "outputs": [
    {
     "data": {
      "text/plain": [
       "[38.9028592, -123.0581113]"
      ]
     },
     "execution_count": 233,
     "metadata": {},
     "output_type": "execute_result"
    }
   ],
   "source": [
    "cali_top20.point[1]"
   ]
  },
  {
   "cell_type": "code",
   "execution_count": 234,
   "metadata": {},
   "outputs": [],
   "source": [
    "m = folium.Map(location= cali_top20.point[1])"
   ]
  },
  {
   "cell_type": "code",
   "execution_count": 235,
   "metadata": {},
   "outputs": [
    {
     "data": {
      "text/html": [
       "<div style=\"width:100%;\"><div style=\"position:relative;width:100%;height:0;padding-bottom:60%;\"><iframe src=\"data:text/html;charset=utf-8;base64,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\" style=\"position:absolute;width:100%;height:100%;left:0;top:0;border:none !important;\" allowfullscreen webkitallowfullscreen mozallowfullscreen></iframe></div></div>"
      ],
      "text/plain": [
       "<folium.folium.Map at 0x1a24c5b438>"
      ]
     },
     "execution_count": 235,
     "metadata": {},
     "output_type": "execute_result"
    }
   ],
   "source": [
    "m"
   ]
  },
  {
   "cell_type": "code",
   "execution_count": null,
   "metadata": {},
   "outputs": [],
   "source": []
  }
 ],
 "metadata": {
  "kernelspec": {
   "display_name": "Python 3",
   "language": "python",
   "name": "python3"
  },
  "language_info": {
   "codemirror_mode": {
    "name": "ipython",
    "version": 3
   },
   "file_extension": ".py",
   "mimetype": "text/x-python",
   "name": "python",
   "nbconvert_exporter": "python",
   "pygments_lexer": "ipython3",
   "version": "3.6.5"
  }
 },
 "nbformat": 4,
 "nbformat_minor": 2
}
